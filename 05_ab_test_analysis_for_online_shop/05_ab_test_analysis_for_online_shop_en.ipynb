{
 "cells": [
  {
   "cell_type": "markdown",
   "metadata": {},
   "source": [
    "# A/B test analysis for online shop"
   ]
  },
  {
   "cell_type": "markdown",
   "metadata": {},
   "source": [
    "**Project objectives**\n",
    "\n",
    "-  hypotheses prioritization from the list.\n",
    "\n",
    "- analysis of the results of A/B test."
   ]
  },
  {
   "cell_type": "markdown",
   "metadata": {},
   "source": [
    "**Input data**\n",
    "\n",
    "*list of hypotheses (hypothesis.csv file)*\n",
    "\n",
    "- Hypothesis — a brief description of the hypothesis;\n",
    "- Reach — user coverage  10-point scale;\n",
    "- Impact — impact on users  10-point scale;\n",
    "- Confidence — confidence in the hypothesis  10-point scale;\n",
    "- Efforts — the cost of resources to test the hypothesis  10-point scale.\n",
    "\n",
    "*information about user orders in the online store (orders.csv file.)*\n",
    "- TransactionID - order ID;\n",
    "- visitorID — ID of the user who made the order;\n",
    "- date — the date when the order was made;\n",
    "- revenue — order revenue;\n",
    "- group — the A/B test group that the order fell into.\n",
    "\n",
    "*information about user visits to the online store (visitors.csv file)*\n",
    "- date - date;\n",
    "- group — A/B test group;\n",
    "- visitors — the number of users on the specified date in the specified A/B test group."
   ]
  },
  {
   "cell_type": "markdown",
   "metadata": {},
   "source": [
    "## Data overview and wrangling"
   ]
  },
  {
   "cell_type": "markdown",
   "metadata": {},
   "source": [
    "###  Data overview "
   ]
  },
  {
   "cell_type": "code",
   "execution_count": 1,
   "metadata": {},
   "outputs": [],
   "source": [
    "# importing libraries\n",
    "\n",
    "import pandas as pd\n",
    "import numpy as np\n",
    "import matplotlib.pyplot as plt\n",
    "import seaborn as sns\n",
    "import math\n",
    "import datetime as dt\n",
    "import scipy.stats as stats\n",
    "import warnings\n",
    "from scipy import stats as st\n",
    "\n"
   ]
  },
  {
   "cell_type": "code",
   "execution_count": 2,
   "metadata": {},
   "outputs": [],
   "source": [
    "# removing the limit on the number of columns\n",
    "pd.set_option('display.max_columns', None)\n",
    "\n",
    "# removing the restriction on the width of columns\n",
    "pd.set_option('display.max_colwidth', None)\n",
    "\n",
    "# ignore warnings\n",
    "pd.set_option('chained_assignment', None)\n",
    "\n",
    " # limit on the number of decimal places\n",
    "pd.options.display.float_format = '{:,.2f}'.format\n",
    "\n",
    "plt.style.use('seaborn-muted') \n",
    "\n",
    "sns.set(rc={'figure.figsize':(15,8)})"
   ]
  },
  {
   "cell_type": "code",
   "execution_count": 3,
   "metadata": {},
   "outputs": [],
   "source": [
    "# reading data files and saving to df\n",
    "\n",
    "hypothesis, orders, visitors = (\n",
    "        pd.read_csv('hypothesis.csv'),\n",
    "        pd.read_csv('orders.csv'),\n",
    "        pd.read_csv('visitors.csv'))"
   ]
  },
  {
   "cell_type": "code",
   "execution_count": 4,
   "metadata": {},
   "outputs": [
    {
     "data": {
      "text/html": [
       "<div>\n",
       "<style scoped>\n",
       "    .dataframe tbody tr th:only-of-type {\n",
       "        vertical-align: middle;\n",
       "    }\n",
       "\n",
       "    .dataframe tbody tr th {\n",
       "        vertical-align: top;\n",
       "    }\n",
       "\n",
       "    .dataframe thead th {\n",
       "        text-align: right;\n",
       "    }\n",
       "</style>\n",
       "<table border=\"1\" class=\"dataframe\">\n",
       "  <thead>\n",
       "    <tr style=\"text-align: right;\">\n",
       "      <th></th>\n",
       "      <th>Hypothesis</th>\n",
       "      <th>Reach</th>\n",
       "      <th>Impact</th>\n",
       "      <th>Confidence</th>\n",
       "      <th>Efforts</th>\n",
       "    </tr>\n",
       "  </thead>\n",
       "  <tbody>\n",
       "    <tr>\n",
       "      <th>0</th>\n",
       "      <td>Добавить два новых канала привлечения трафика, что позволит привлекать на 30% больше пользователей</td>\n",
       "      <td>3</td>\n",
       "      <td>10</td>\n",
       "      <td>8</td>\n",
       "      <td>6</td>\n",
       "    </tr>\n",
       "    <tr>\n",
       "      <th>1</th>\n",
       "      <td>Запустить собственную службу доставки, что сократит срок доставки заказов</td>\n",
       "      <td>2</td>\n",
       "      <td>5</td>\n",
       "      <td>4</td>\n",
       "      <td>10</td>\n",
       "    </tr>\n",
       "    <tr>\n",
       "      <th>2</th>\n",
       "      <td>Добавить блоки рекомендаций товаров на сайт интернет магазина, чтобы повысить конверсию и средний чек заказа</td>\n",
       "      <td>8</td>\n",
       "      <td>3</td>\n",
       "      <td>7</td>\n",
       "      <td>3</td>\n",
       "    </tr>\n",
       "    <tr>\n",
       "      <th>3</th>\n",
       "      <td>Изменить структура категорий, что увеличит конверсию, т.к. пользователи быстрее найдут нужный товар</td>\n",
       "      <td>8</td>\n",
       "      <td>3</td>\n",
       "      <td>3</td>\n",
       "      <td>8</td>\n",
       "    </tr>\n",
       "    <tr>\n",
       "      <th>4</th>\n",
       "      <td>Изменить цвет фона главной страницы, чтобы увеличить вовлеченность пользователей</td>\n",
       "      <td>3</td>\n",
       "      <td>1</td>\n",
       "      <td>1</td>\n",
       "      <td>1</td>\n",
       "    </tr>\n",
       "    <tr>\n",
       "      <th>5</th>\n",
       "      <td>Добавить страницу отзывов клиентов о магазине, что позволит увеличить количество заказов</td>\n",
       "      <td>3</td>\n",
       "      <td>2</td>\n",
       "      <td>2</td>\n",
       "      <td>3</td>\n",
       "    </tr>\n",
       "    <tr>\n",
       "      <th>6</th>\n",
       "      <td>Показать на главной странице баннеры с актуальными акциями и распродажами, чтобы увеличить конверсию</td>\n",
       "      <td>5</td>\n",
       "      <td>3</td>\n",
       "      <td>8</td>\n",
       "      <td>3</td>\n",
       "    </tr>\n",
       "    <tr>\n",
       "      <th>7</th>\n",
       "      <td>Добавить форму подписки на все основные страницы, чтобы собрать базу клиентов для email-рассылок</td>\n",
       "      <td>10</td>\n",
       "      <td>7</td>\n",
       "      <td>8</td>\n",
       "      <td>5</td>\n",
       "    </tr>\n",
       "    <tr>\n",
       "      <th>8</th>\n",
       "      <td>Запустить акцию, дающую скидку на товар в день рождения</td>\n",
       "      <td>1</td>\n",
       "      <td>9</td>\n",
       "      <td>9</td>\n",
       "      <td>5</td>\n",
       "    </tr>\n",
       "  </tbody>\n",
       "</table>\n",
       "</div>"
      ],
      "text/plain": [
       "                                                                                                     Hypothesis  \\\n",
       "0            Добавить два новых канала привлечения трафика, что позволит привлекать на 30% больше пользователей   \n",
       "1                                     Запустить собственную службу доставки, что сократит срок доставки заказов   \n",
       "2  Добавить блоки рекомендаций товаров на сайт интернет магазина, чтобы повысить конверсию и средний чек заказа   \n",
       "3           Изменить структура категорий, что увеличит конверсию, т.к. пользователи быстрее найдут нужный товар   \n",
       "4                              Изменить цвет фона главной страницы, чтобы увеличить вовлеченность пользователей   \n",
       "5                      Добавить страницу отзывов клиентов о магазине, что позволит увеличить количество заказов   \n",
       "6          Показать на главной странице баннеры с актуальными акциями и распродажами, чтобы увеличить конверсию   \n",
       "7              Добавить форму подписки на все основные страницы, чтобы собрать базу клиентов для email-рассылок   \n",
       "8                                                       Запустить акцию, дающую скидку на товар в день рождения   \n",
       "\n",
       "   Reach  Impact  Confidence  Efforts  \n",
       "0      3      10           8        6  \n",
       "1      2       5           4       10  \n",
       "2      8       3           7        3  \n",
       "3      8       3           3        8  \n",
       "4      3       1           1        1  \n",
       "5      3       2           2        3  \n",
       "6      5       3           8        3  \n",
       "7     10       7           8        5  \n",
       "8      1       9           9        5  "
      ]
     },
     "execution_count": 4,
     "metadata": {},
     "output_type": "execute_result"
    }
   ],
   "source": [
    "# overview of dataset hypothesis\n",
    "hypothesis"
   ]
  },
  {
   "cell_type": "code",
   "execution_count": 5,
   "metadata": {},
   "outputs": [
    {
     "name": "stdout",
     "output_type": "stream",
     "text": [
      "<class 'pandas.core.frame.DataFrame'>\n",
      "RangeIndex: 1197 entries, 0 to 1196\n",
      "Data columns (total 5 columns):\n",
      " #   Column         Non-Null Count  Dtype \n",
      "---  ------         --------------  ----- \n",
      " 0   transactionId  1197 non-null   int64 \n",
      " 1   visitorId      1197 non-null   int64 \n",
      " 2   date           1197 non-null   object\n",
      " 3   revenue        1197 non-null   int64 \n",
      " 4   group          1197 non-null   object\n",
      "dtypes: int64(3), object(2)\n",
      "memory usage: 46.9+ KB\n"
     ]
    },
    {
     "data": {
      "text/html": [
       "<div>\n",
       "<style scoped>\n",
       "    .dataframe tbody tr th:only-of-type {\n",
       "        vertical-align: middle;\n",
       "    }\n",
       "\n",
       "    .dataframe tbody tr th {\n",
       "        vertical-align: top;\n",
       "    }\n",
       "\n",
       "    .dataframe thead th {\n",
       "        text-align: right;\n",
       "    }\n",
       "</style>\n",
       "<table border=\"1\" class=\"dataframe\">\n",
       "  <thead>\n",
       "    <tr style=\"text-align: right;\">\n",
       "      <th></th>\n",
       "      <th>transactionId</th>\n",
       "      <th>visitorId</th>\n",
       "      <th>date</th>\n",
       "      <th>revenue</th>\n",
       "      <th>group</th>\n",
       "    </tr>\n",
       "  </thead>\n",
       "  <tbody>\n",
       "    <tr>\n",
       "      <th>511</th>\n",
       "      <td>1393848137</td>\n",
       "      <td>3874092616</td>\n",
       "      <td>2019-08-06</td>\n",
       "      <td>17379</td>\n",
       "      <td>B</td>\n",
       "    </tr>\n",
       "    <tr>\n",
       "      <th>784</th>\n",
       "      <td>1183827418</td>\n",
       "      <td>3573155649</td>\n",
       "      <td>2019-08-07</td>\n",
       "      <td>4990</td>\n",
       "      <td>B</td>\n",
       "    </tr>\n",
       "    <tr>\n",
       "      <th>546</th>\n",
       "      <td>2866469834</td>\n",
       "      <td>3917749921</td>\n",
       "      <td>2019-08-29</td>\n",
       "      <td>3950</td>\n",
       "      <td>B</td>\n",
       "    </tr>\n",
       "    <tr>\n",
       "      <th>414</th>\n",
       "      <td>2505918657</td>\n",
       "      <td>2524310328</td>\n",
       "      <td>2019-08-06</td>\n",
       "      <td>270</td>\n",
       "      <td>B</td>\n",
       "    </tr>\n",
       "    <tr>\n",
       "      <th>320</th>\n",
       "      <td>1652782757</td>\n",
       "      <td>2763027084</td>\n",
       "      <td>2019-08-19</td>\n",
       "      <td>1460</td>\n",
       "      <td>B</td>\n",
       "    </tr>\n",
       "  </tbody>\n",
       "</table>\n",
       "</div>"
      ],
      "text/plain": [
       "     transactionId   visitorId        date  revenue group\n",
       "511     1393848137  3874092616  2019-08-06    17379     B\n",
       "784     1183827418  3573155649  2019-08-07     4990     B\n",
       "546     2866469834  3917749921  2019-08-29     3950     B\n",
       "414     2505918657  2524310328  2019-08-06      270     B\n",
       "320     1652782757  2763027084  2019-08-19     1460     B"
      ]
     },
     "execution_count": 5,
     "metadata": {},
     "output_type": "execute_result"
    }
   ],
   "source": [
    "# overview of dataset orders\n",
    "\n",
    "orders.info()\n",
    "orders.sample(5)"
   ]
  },
  {
   "cell_type": "code",
   "execution_count": 6,
   "metadata": {},
   "outputs": [
    {
     "name": "stdout",
     "output_type": "stream",
     "text": [
      "<class 'pandas.core.frame.DataFrame'>\n",
      "RangeIndex: 62 entries, 0 to 61\n",
      "Data columns (total 3 columns):\n",
      " #   Column    Non-Null Count  Dtype \n",
      "---  ------    --------------  ----- \n",
      " 0   date      62 non-null     object\n",
      " 1   group     62 non-null     object\n",
      " 2   visitors  62 non-null     int64 \n",
      "dtypes: int64(1), object(2)\n",
      "memory usage: 1.6+ KB\n"
     ]
    },
    {
     "data": {
      "text/html": [
       "<div>\n",
       "<style scoped>\n",
       "    .dataframe tbody tr th:only-of-type {\n",
       "        vertical-align: middle;\n",
       "    }\n",
       "\n",
       "    .dataframe tbody tr th {\n",
       "        vertical-align: top;\n",
       "    }\n",
       "\n",
       "    .dataframe thead th {\n",
       "        text-align: right;\n",
       "    }\n",
       "</style>\n",
       "<table border=\"1\" class=\"dataframe\">\n",
       "  <thead>\n",
       "    <tr style=\"text-align: right;\">\n",
       "      <th></th>\n",
       "      <th>date</th>\n",
       "      <th>group</th>\n",
       "      <th>visitors</th>\n",
       "    </tr>\n",
       "  </thead>\n",
       "  <tbody>\n",
       "    <tr>\n",
       "      <th>37</th>\n",
       "      <td>2019-08-07</td>\n",
       "      <td>B</td>\n",
       "      <td>709</td>\n",
       "    </tr>\n",
       "    <tr>\n",
       "      <th>17</th>\n",
       "      <td>2019-08-18</td>\n",
       "      <td>A</td>\n",
       "      <td>668</td>\n",
       "    </tr>\n",
       "    <tr>\n",
       "      <th>0</th>\n",
       "      <td>2019-08-01</td>\n",
       "      <td>A</td>\n",
       "      <td>719</td>\n",
       "    </tr>\n",
       "    <tr>\n",
       "      <th>14</th>\n",
       "      <td>2019-08-15</td>\n",
       "      <td>A</td>\n",
       "      <td>628</td>\n",
       "    </tr>\n",
       "    <tr>\n",
       "      <th>58</th>\n",
       "      <td>2019-08-28</td>\n",
       "      <td>B</td>\n",
       "      <td>654</td>\n",
       "    </tr>\n",
       "  </tbody>\n",
       "</table>\n",
       "</div>"
      ],
      "text/plain": [
       "          date group  visitors\n",
       "37  2019-08-07     B       709\n",
       "17  2019-08-18     A       668\n",
       "0   2019-08-01     A       719\n",
       "14  2019-08-15     A       628\n",
       "58  2019-08-28     B       654"
      ]
     },
     "execution_count": 6,
     "metadata": {},
     "output_type": "execute_result"
    }
   ],
   "source": [
    "# overview of dataset visitors\n",
    "\n",
    "visitors.info()\n",
    "visitors.sample(5)"
   ]
  },
  {
   "cell_type": "markdown",
   "metadata": {},
   "source": [
    "### Data wrangling"
   ]
  },
  {
   "cell_type": "code",
   "execution_count": 7,
   "metadata": {},
   "outputs": [],
   "source": [
    "# changing name of columns\n",
    "\n",
    "hypothesis.columns = hypothesis.columns.str.lower()\n",
    "orders.columns = [name.replace('Id', '_id') for name in orders.columns]\n"
   ]
  },
  {
   "cell_type": "code",
   "execution_count": 8,
   "metadata": {},
   "outputs": [
    {
     "data": {
      "text/plain": [
       "Index(['hypothesis', 'reach', 'impact', 'confidence', 'efforts'], dtype='object')"
      ]
     },
     "execution_count": 8,
     "metadata": {},
     "output_type": "execute_result"
    }
   ],
   "source": [
    "hypothesis.columns\n"
   ]
  },
  {
   "cell_type": "code",
   "execution_count": 9,
   "metadata": {},
   "outputs": [
    {
     "data": {
      "text/plain": [
       "Index(['transaction_id', 'visitor_id', 'date', 'revenue', 'group'], dtype='object')"
      ]
     },
     "execution_count": 9,
     "metadata": {},
     "output_type": "execute_result"
    }
   ],
   "source": [
    "orders.columns"
   ]
  },
  {
   "cell_type": "code",
   "execution_count": 10,
   "metadata": {},
   "outputs": [],
   "source": [
    "# changing data types\n",
    "\n",
    "visitors['date'] = pd.to_datetime(visitors['date'])\n",
    "orders['date'] = pd.to_datetime(orders['date'])"
   ]
  },
  {
   "cell_type": "code",
   "execution_count": 11,
   "metadata": {},
   "outputs": [
    {
     "data": {
      "text/plain": [
       "0"
      ]
     },
     "execution_count": 11,
     "metadata": {},
     "output_type": "execute_result"
    }
   ],
   "source": [
    "orders.duplicated().sum()"
   ]
  },
  {
   "cell_type": "code",
   "execution_count": 12,
   "metadata": {},
   "outputs": [
    {
     "data": {
      "text/plain": [
       "0"
      ]
     },
     "execution_count": 12,
     "metadata": {},
     "output_type": "execute_result"
    }
   ],
   "source": [
    "visitors.duplicated().sum()"
   ]
  },
  {
   "cell_type": "code",
   "execution_count": 13,
   "metadata": {},
   "outputs": [],
   "source": [
    "#function for translation column\n",
    "from googletrans import Translator\n",
    "translator = Translator()\n",
    "def transate_column(df, column_name):\n",
    "    for index, row in df.iterrows():\n",
    "        result=translator.translate(row[column_name],src='ru',dest='en')\n",
    "        df.at[index, column_name] = result.text\n",
    "    return df"
   ]
  },
  {
   "cell_type": "code",
   "execution_count": 14,
   "metadata": {},
   "outputs": [],
   "source": [
    "# translating column via Google translate\n",
    "hypothesis= transate_column(hypothesis,'hypothesis')"
   ]
  },
  {
   "cell_type": "code",
   "execution_count": 15,
   "metadata": {},
   "outputs": [
    {
     "data": {
      "text/html": [
       "<div>\n",
       "<style scoped>\n",
       "    .dataframe tbody tr th:only-of-type {\n",
       "        vertical-align: middle;\n",
       "    }\n",
       "\n",
       "    .dataframe tbody tr th {\n",
       "        vertical-align: top;\n",
       "    }\n",
       "\n",
       "    .dataframe thead th {\n",
       "        text-align: right;\n",
       "    }\n",
       "</style>\n",
       "<table border=\"1\" class=\"dataframe\">\n",
       "  <thead>\n",
       "    <tr style=\"text-align: right;\">\n",
       "      <th></th>\n",
       "      <th>hypothesis</th>\n",
       "      <th>reach</th>\n",
       "      <th>impact</th>\n",
       "      <th>confidence</th>\n",
       "      <th>efforts</th>\n",
       "    </tr>\n",
       "  </thead>\n",
       "  <tbody>\n",
       "    <tr>\n",
       "      <th>0</th>\n",
       "      <td>Add two new channels to attract traffic, which will attract 30% more users</td>\n",
       "      <td>3</td>\n",
       "      <td>10</td>\n",
       "      <td>8</td>\n",
       "      <td>6</td>\n",
       "    </tr>\n",
       "    <tr>\n",
       "      <th>1</th>\n",
       "      <td>Launch your own delivery service, which will reduce the delivery time of orders</td>\n",
       "      <td>2</td>\n",
       "      <td>5</td>\n",
       "      <td>4</td>\n",
       "      <td>10</td>\n",
       "    </tr>\n",
       "    <tr>\n",
       "      <th>2</th>\n",
       "      <td>Add product recommendation blocks to the online store website to increase conversion and average check of the order</td>\n",
       "      <td>8</td>\n",
       "      <td>3</td>\n",
       "      <td>7</td>\n",
       "      <td>3</td>\n",
       "    </tr>\n",
       "    <tr>\n",
       "      <th>3</th>\n",
       "      <td>Change the structure of categories, which will increase the conversion, because. users will find the right product faster</td>\n",
       "      <td>8</td>\n",
       "      <td>3</td>\n",
       "      <td>3</td>\n",
       "      <td>8</td>\n",
       "    </tr>\n",
       "    <tr>\n",
       "      <th>4</th>\n",
       "      <td>Change the background color of the main page to increase user engagement</td>\n",
       "      <td>3</td>\n",
       "      <td>1</td>\n",
       "      <td>1</td>\n",
       "      <td>1</td>\n",
       "    </tr>\n",
       "    <tr>\n",
       "      <th>5</th>\n",
       "      <td>Add a customer reviews page about the store, which will increase the number of orders</td>\n",
       "      <td>3</td>\n",
       "      <td>2</td>\n",
       "      <td>2</td>\n",
       "      <td>3</td>\n",
       "    </tr>\n",
       "    <tr>\n",
       "      <th>6</th>\n",
       "      <td>Display banners with current promotions and sales on the main page to increase conversion</td>\n",
       "      <td>5</td>\n",
       "      <td>3</td>\n",
       "      <td>8</td>\n",
       "      <td>3</td>\n",
       "    </tr>\n",
       "    <tr>\n",
       "      <th>7</th>\n",
       "      <td>Add a subscription form to all main pages to build a customer base for email newsletters</td>\n",
       "      <td>10</td>\n",
       "      <td>7</td>\n",
       "      <td>8</td>\n",
       "      <td>5</td>\n",
       "    </tr>\n",
       "    <tr>\n",
       "      <th>8</th>\n",
       "      <td>Launch a promotion that gives a discount on goods on your birthday</td>\n",
       "      <td>1</td>\n",
       "      <td>9</td>\n",
       "      <td>9</td>\n",
       "      <td>5</td>\n",
       "    </tr>\n",
       "  </tbody>\n",
       "</table>\n",
       "</div>"
      ],
      "text/plain": [
       "                                                                                                                  hypothesis  \\\n",
       "0                                                 Add two new channels to attract traffic, which will attract 30% more users   \n",
       "1                                            Launch your own delivery service, which will reduce the delivery time of orders   \n",
       "2        Add product recommendation blocks to the online store website to increase conversion and average check of the order   \n",
       "3  Change the structure of categories, which will increase the conversion, because. users will find the right product faster   \n",
       "4                                                   Change the background color of the main page to increase user engagement   \n",
       "5                                      Add a customer reviews page about the store, which will increase the number of orders   \n",
       "6                                  Display banners with current promotions and sales on the main page to increase conversion   \n",
       "7                                   Add a subscription form to all main pages to build a customer base for email newsletters   \n",
       "8                                                         Launch a promotion that gives a discount on goods on your birthday   \n",
       "\n",
       "   reach  impact  confidence  efforts  \n",
       "0      3      10           8        6  \n",
       "1      2       5           4       10  \n",
       "2      8       3           7        3  \n",
       "3      8       3           3        8  \n",
       "4      3       1           1        1  \n",
       "5      3       2           2        3  \n",
       "6      5       3           8        3  \n",
       "7     10       7           8        5  \n",
       "8      1       9           9        5  "
      ]
     },
     "execution_count": 15,
     "metadata": {},
     "output_type": "execute_result"
    }
   ],
   "source": [
    "hypothesis"
   ]
  },
  {
   "cell_type": "markdown",
   "metadata": {},
   "source": [
    "**Conclusion:**\n",
    "\n",
    "The following data were provided for analysis and the following operations were performed:\n",
    "\n",
    "list of hypotheses (hypothesis.csv file) - contains 9 lines with the names of hypotheses and their evaluation, no repetitions and duplicates were found, names of the columns are correct. The hypothesis names were translated.\n",
    "\n",
    "information about user orders in the online store (orders.csv.file) - 1197 rows and 5 columns, no duplicates or duplicates were found, the columns' names are correct.\n",
    "\n",
    "information about user visits to the online store (visitors.csv file) - 62 rows and 3 columns, no repetitions and duplicates were found, the columns' names are correct."
   ]
  },
  {
   "cell_type": "markdown",
   "metadata": {},
   "source": [
    "##  Hypotheses prioritization "
   ]
  },
  {
   "cell_type": "markdown",
   "metadata": {},
   "source": [
    "*The following tasks must be completed:*\n",
    "\n",
    "- Apply the ICE framework to prioritize hypotheses. Sort them in descending order of priority.\n",
    "- Apply the RICE framework to prioritize hypotheses. Sort them in descending order of priority.\n",
    "- Indicate how the prioritization of hypotheses has changed when using RICE instead of ICE. Explain why this happened.\n"
   ]
  },
  {
   "cell_type": "code",
   "execution_count": 16,
   "metadata": {},
   "outputs": [
    {
     "data": {
      "text/html": [
       "<div>\n",
       "<style scoped>\n",
       "    .dataframe tbody tr th:only-of-type {\n",
       "        vertical-align: middle;\n",
       "    }\n",
       "\n",
       "    .dataframe tbody tr th {\n",
       "        vertical-align: top;\n",
       "    }\n",
       "\n",
       "    .dataframe thead th {\n",
       "        text-align: right;\n",
       "    }\n",
       "</style>\n",
       "<table border=\"1\" class=\"dataframe\">\n",
       "  <thead>\n",
       "    <tr style=\"text-align: right;\">\n",
       "      <th></th>\n",
       "      <th>hypothesis</th>\n",
       "      <th>ice</th>\n",
       "    </tr>\n",
       "  </thead>\n",
       "  <tbody>\n",
       "    <tr>\n",
       "      <th>8</th>\n",
       "      <td>Launch a promotion that gives a discount on goods on your birthday</td>\n",
       "      <td>16.20</td>\n",
       "    </tr>\n",
       "    <tr>\n",
       "      <th>0</th>\n",
       "      <td>Add two new channels to attract traffic, which will attract 30% more users</td>\n",
       "      <td>13.33</td>\n",
       "    </tr>\n",
       "    <tr>\n",
       "      <th>7</th>\n",
       "      <td>Add a subscription form to all main pages to build a customer base for email newsletters</td>\n",
       "      <td>11.20</td>\n",
       "    </tr>\n",
       "    <tr>\n",
       "      <th>6</th>\n",
       "      <td>Display banners with current promotions and sales on the main page to increase conversion</td>\n",
       "      <td>8.00</td>\n",
       "    </tr>\n",
       "    <tr>\n",
       "      <th>2</th>\n",
       "      <td>Add product recommendation blocks to the online store website to increase conversion and average check of the order</td>\n",
       "      <td>7.00</td>\n",
       "    </tr>\n",
       "    <tr>\n",
       "      <th>1</th>\n",
       "      <td>Launch your own delivery service, which will reduce the delivery time of orders</td>\n",
       "      <td>2.00</td>\n",
       "    </tr>\n",
       "    <tr>\n",
       "      <th>5</th>\n",
       "      <td>Add a customer reviews page about the store, which will increase the number of orders</td>\n",
       "      <td>1.33</td>\n",
       "    </tr>\n",
       "    <tr>\n",
       "      <th>3</th>\n",
       "      <td>Change the structure of categories, which will increase the conversion, because. users will find the right product faster</td>\n",
       "      <td>1.12</td>\n",
       "    </tr>\n",
       "    <tr>\n",
       "      <th>4</th>\n",
       "      <td>Change the background color of the main page to increase user engagement</td>\n",
       "      <td>1.00</td>\n",
       "    </tr>\n",
       "  </tbody>\n",
       "</table>\n",
       "</div>"
      ],
      "text/plain": [
       "                                                                                                                  hypothesis  \\\n",
       "8                                                         Launch a promotion that gives a discount on goods on your birthday   \n",
       "0                                                 Add two new channels to attract traffic, which will attract 30% more users   \n",
       "7                                   Add a subscription form to all main pages to build a customer base for email newsletters   \n",
       "6                                  Display banners with current promotions and sales on the main page to increase conversion   \n",
       "2        Add product recommendation blocks to the online store website to increase conversion and average check of the order   \n",
       "1                                            Launch your own delivery service, which will reduce the delivery time of orders   \n",
       "5                                      Add a customer reviews page about the store, which will increase the number of orders   \n",
       "3  Change the structure of categories, which will increase the conversion, because. users will find the right product faster   \n",
       "4                                                   Change the background color of the main page to increase user engagement   \n",
       "\n",
       "    ice  \n",
       "8 16.20  \n",
       "0 13.33  \n",
       "7 11.20  \n",
       "6  8.00  \n",
       "2  7.00  \n",
       "1  2.00  \n",
       "5  1.33  \n",
       "3  1.12  \n",
       "4  1.00  "
      ]
     },
     "execution_count": 16,
     "metadata": {},
     "output_type": "execute_result"
    }
   ],
   "source": [
    "#creating ICE column\n",
    "hypothesis['ice'] = hypothesis['impact'] * hypothesis['confidence'] / hypothesis['efforts']\n",
    "\n",
    "hypothesis[['hypothesis', 'ice']].sort_values(by='ice', ascending=False)"
   ]
  },
  {
   "cell_type": "code",
   "execution_count": 17,
   "metadata": {},
   "outputs": [
    {
     "data": {
      "text/html": [
       "<div>\n",
       "<style scoped>\n",
       "    .dataframe tbody tr th:only-of-type {\n",
       "        vertical-align: middle;\n",
       "    }\n",
       "\n",
       "    .dataframe tbody tr th {\n",
       "        vertical-align: top;\n",
       "    }\n",
       "\n",
       "    .dataframe thead th {\n",
       "        text-align: right;\n",
       "    }\n",
       "</style>\n",
       "<table border=\"1\" class=\"dataframe\">\n",
       "  <thead>\n",
       "    <tr style=\"text-align: right;\">\n",
       "      <th></th>\n",
       "      <th>hypothesis</th>\n",
       "      <th>rice</th>\n",
       "    </tr>\n",
       "  </thead>\n",
       "  <tbody>\n",
       "    <tr>\n",
       "      <th>7</th>\n",
       "      <td>Add a subscription form to all main pages to build a customer base for email newsletters</td>\n",
       "      <td>112.00</td>\n",
       "    </tr>\n",
       "    <tr>\n",
       "      <th>2</th>\n",
       "      <td>Add product recommendation blocks to the online store website to increase conversion and average check of the order</td>\n",
       "      <td>56.00</td>\n",
       "    </tr>\n",
       "    <tr>\n",
       "      <th>0</th>\n",
       "      <td>Add two new channels to attract traffic, which will attract 30% more users</td>\n",
       "      <td>40.00</td>\n",
       "    </tr>\n",
       "    <tr>\n",
       "      <th>6</th>\n",
       "      <td>Display banners with current promotions and sales on the main page to increase conversion</td>\n",
       "      <td>40.00</td>\n",
       "    </tr>\n",
       "    <tr>\n",
       "      <th>8</th>\n",
       "      <td>Launch a promotion that gives a discount on goods on your birthday</td>\n",
       "      <td>16.20</td>\n",
       "    </tr>\n",
       "    <tr>\n",
       "      <th>3</th>\n",
       "      <td>Change the structure of categories, which will increase the conversion, because. users will find the right product faster</td>\n",
       "      <td>9.00</td>\n",
       "    </tr>\n",
       "    <tr>\n",
       "      <th>1</th>\n",
       "      <td>Launch your own delivery service, which will reduce the delivery time of orders</td>\n",
       "      <td>4.00</td>\n",
       "    </tr>\n",
       "    <tr>\n",
       "      <th>5</th>\n",
       "      <td>Add a customer reviews page about the store, which will increase the number of orders</td>\n",
       "      <td>4.00</td>\n",
       "    </tr>\n",
       "    <tr>\n",
       "      <th>4</th>\n",
       "      <td>Change the background color of the main page to increase user engagement</td>\n",
       "      <td>3.00</td>\n",
       "    </tr>\n",
       "  </tbody>\n",
       "</table>\n",
       "</div>"
      ],
      "text/plain": [
       "                                                                                                                  hypothesis  \\\n",
       "7                                   Add a subscription form to all main pages to build a customer base for email newsletters   \n",
       "2        Add product recommendation blocks to the online store website to increase conversion and average check of the order   \n",
       "0                                                 Add two new channels to attract traffic, which will attract 30% more users   \n",
       "6                                  Display banners with current promotions and sales on the main page to increase conversion   \n",
       "8                                                         Launch a promotion that gives a discount on goods on your birthday   \n",
       "3  Change the structure of categories, which will increase the conversion, because. users will find the right product faster   \n",
       "1                                            Launch your own delivery service, which will reduce the delivery time of orders   \n",
       "5                                      Add a customer reviews page about the store, which will increase the number of orders   \n",
       "4                                                   Change the background color of the main page to increase user engagement   \n",
       "\n",
       "    rice  \n",
       "7 112.00  \n",
       "2  56.00  \n",
       "0  40.00  \n",
       "6  40.00  \n",
       "8  16.20  \n",
       "3   9.00  \n",
       "1   4.00  \n",
       "5   4.00  \n",
       "4   3.00  "
      ]
     },
     "execution_count": 17,
     "metadata": {},
     "output_type": "execute_result"
    }
   ],
   "source": [
    "# creating RICE column\n",
    "hypothesis['rice'] = hypothesis['reach'] * hypothesis['impact'] * hypothesis['confidence'] / hypothesis['efforts']\n",
    "\n",
    "hypothesis[['hypothesis', 'rice']].sort_values(by='rice', ascending=False)"
   ]
  },
  {
   "cell_type": "code",
   "execution_count": 18,
   "metadata": {},
   "outputs": [
    {
     "data": {
      "text/html": [
       "<div>\n",
       "<style scoped>\n",
       "    .dataframe tbody tr th:only-of-type {\n",
       "        vertical-align: middle;\n",
       "    }\n",
       "\n",
       "    .dataframe tbody tr th {\n",
       "        vertical-align: top;\n",
       "    }\n",
       "\n",
       "    .dataframe thead th {\n",
       "        text-align: right;\n",
       "    }\n",
       "</style>\n",
       "<table border=\"1\" class=\"dataframe\">\n",
       "  <thead>\n",
       "    <tr style=\"text-align: right;\">\n",
       "      <th></th>\n",
       "      <th>hypothesis</th>\n",
       "      <th>ice</th>\n",
       "      <th>rice</th>\n",
       "    </tr>\n",
       "  </thead>\n",
       "  <tbody>\n",
       "    <tr>\n",
       "      <th>7</th>\n",
       "      <td>Add a subscription form to all main pages to build a customer base for email newsletters</td>\n",
       "      <td>11.20</td>\n",
       "      <td>112.00</td>\n",
       "    </tr>\n",
       "    <tr>\n",
       "      <th>2</th>\n",
       "      <td>Add product recommendation blocks to the online store website to increase conversion and average check of the order</td>\n",
       "      <td>7.00</td>\n",
       "      <td>56.00</td>\n",
       "    </tr>\n",
       "    <tr>\n",
       "      <th>0</th>\n",
       "      <td>Add two new channels to attract traffic, which will attract 30% more users</td>\n",
       "      <td>13.33</td>\n",
       "      <td>40.00</td>\n",
       "    </tr>\n",
       "    <tr>\n",
       "      <th>6</th>\n",
       "      <td>Display banners with current promotions and sales on the main page to increase conversion</td>\n",
       "      <td>8.00</td>\n",
       "      <td>40.00</td>\n",
       "    </tr>\n",
       "    <tr>\n",
       "      <th>8</th>\n",
       "      <td>Launch a promotion that gives a discount on goods on your birthday</td>\n",
       "      <td>16.20</td>\n",
       "      <td>16.20</td>\n",
       "    </tr>\n",
       "    <tr>\n",
       "      <th>3</th>\n",
       "      <td>Change the structure of categories, which will increase the conversion, because. users will find the right product faster</td>\n",
       "      <td>1.12</td>\n",
       "      <td>9.00</td>\n",
       "    </tr>\n",
       "    <tr>\n",
       "      <th>1</th>\n",
       "      <td>Launch your own delivery service, which will reduce the delivery time of orders</td>\n",
       "      <td>2.00</td>\n",
       "      <td>4.00</td>\n",
       "    </tr>\n",
       "    <tr>\n",
       "      <th>5</th>\n",
       "      <td>Add a customer reviews page about the store, which will increase the number of orders</td>\n",
       "      <td>1.33</td>\n",
       "      <td>4.00</td>\n",
       "    </tr>\n",
       "    <tr>\n",
       "      <th>4</th>\n",
       "      <td>Change the background color of the main page to increase user engagement</td>\n",
       "      <td>1.00</td>\n",
       "      <td>3.00</td>\n",
       "    </tr>\n",
       "  </tbody>\n",
       "</table>\n",
       "</div>"
      ],
      "text/plain": [
       "                                                                                                                  hypothesis  \\\n",
       "7                                   Add a subscription form to all main pages to build a customer base for email newsletters   \n",
       "2        Add product recommendation blocks to the online store website to increase conversion and average check of the order   \n",
       "0                                                 Add two new channels to attract traffic, which will attract 30% more users   \n",
       "6                                  Display banners with current promotions and sales on the main page to increase conversion   \n",
       "8                                                         Launch a promotion that gives a discount on goods on your birthday   \n",
       "3  Change the structure of categories, which will increase the conversion, because. users will find the right product faster   \n",
       "1                                            Launch your own delivery service, which will reduce the delivery time of orders   \n",
       "5                                      Add a customer reviews page about the store, which will increase the number of orders   \n",
       "4                                                   Change the background color of the main page to increase user engagement   \n",
       "\n",
       "    ice   rice  \n",
       "7 11.20 112.00  \n",
       "2  7.00  56.00  \n",
       "0 13.33  40.00  \n",
       "6  8.00  40.00  \n",
       "8 16.20  16.20  \n",
       "3  1.12   9.00  \n",
       "1  2.00   4.00  \n",
       "5  1.33   4.00  \n",
       "4  1.00   3.00  "
      ]
     },
     "execution_count": 18,
     "metadata": {},
     "output_type": "execute_result"
    }
   ],
   "source": [
    "# looking at final table\n",
    "hypothesis[['hypothesis','ice', 'rice']].sort_values(by='rice', ascending=False)"
   ]
  },
  {
   "cell_type": "markdown",
   "metadata": {},
   "source": [
    "The same hypotheses are in reverse order for ICE and RICE. The difference in prioritization lies in the Reach parameter - the number of users who will be affected by the changes."
   ]
  },
  {
   "cell_type": "markdown",
   "metadata": {},
   "source": [
    "## A/B-test analysis\n"
   ]
  },
  {
   "cell_type": "markdown",
   "metadata": {},
   "source": [
    "We have results of A/B in the files ab-orders.csv and ab-visitors.csv. First of all,it is necessary to check if there are no users who are in both groups at the same time."
   ]
  },
  {
   "cell_type": "code",
   "execution_count": 19,
   "metadata": {},
   "outputs": [],
   "source": [
    "# creating pivot table\n",
    "doubles = orders.groupby(['visitor_id']).agg({'group' : 'nunique', 'transaction_id' : 'count', 'revenue' : 'sum'}).reset_index()"
   ]
  },
  {
   "cell_type": "code",
   "execution_count": 20,
   "metadata": {},
   "outputs": [
    {
     "data": {
      "text/plain": [
       "58"
      ]
     },
     "execution_count": 20,
     "metadata": {},
     "output_type": "execute_result"
    }
   ],
   "source": [
    "# number of users that are present in both groups\n",
    "doubles[doubles.group != 1][\"visitor_id\"].count()"
   ]
  },
  {
   "cell_type": "code",
   "execution_count": 21,
   "metadata": {},
   "outputs": [],
   "source": [
    "# removing duplicates\n",
    "d_list = list(doubles[doubles.group != 1]['visitor_id'])\n",
    "orders = orders.query('visitor_id not in @d_list')"
   ]
  },
  {
   "cell_type": "markdown",
   "metadata": {},
   "source": [
    "### Cumulative metrics calculation"
   ]
  },
  {
   "cell_type": "code",
   "execution_count": 22,
   "metadata": {},
   "outputs": [
    {
     "data": {
      "text/html": [
       "<div>\n",
       "<style scoped>\n",
       "    .dataframe tbody tr th:only-of-type {\n",
       "        vertical-align: middle;\n",
       "    }\n",
       "\n",
       "    .dataframe tbody tr th {\n",
       "        vertical-align: top;\n",
       "    }\n",
       "\n",
       "    .dataframe thead th {\n",
       "        text-align: right;\n",
       "    }\n",
       "</style>\n",
       "<table border=\"1\" class=\"dataframe\">\n",
       "  <thead>\n",
       "    <tr style=\"text-align: right;\">\n",
       "      <th></th>\n",
       "      <th>date</th>\n",
       "      <th>group</th>\n",
       "      <th>transaction_id</th>\n",
       "      <th>visitor_id</th>\n",
       "      <th>revenue</th>\n",
       "    </tr>\n",
       "  </thead>\n",
       "  <tbody>\n",
       "    <tr>\n",
       "      <th>55</th>\n",
       "      <td>2019-08-01</td>\n",
       "      <td>A</td>\n",
       "      <td>23</td>\n",
       "      <td>19</td>\n",
       "      <td>142779</td>\n",
       "    </tr>\n",
       "    <tr>\n",
       "      <th>66</th>\n",
       "      <td>2019-08-01</td>\n",
       "      <td>B</td>\n",
       "      <td>17</td>\n",
       "      <td>17</td>\n",
       "      <td>59758</td>\n",
       "    </tr>\n",
       "    <tr>\n",
       "      <th>175</th>\n",
       "      <td>2019-08-02</td>\n",
       "      <td>A</td>\n",
       "      <td>42</td>\n",
       "      <td>36</td>\n",
       "      <td>234381</td>\n",
       "    </tr>\n",
       "    <tr>\n",
       "      <th>173</th>\n",
       "      <td>2019-08-02</td>\n",
       "      <td>B</td>\n",
       "      <td>40</td>\n",
       "      <td>39</td>\n",
       "      <td>221801</td>\n",
       "    </tr>\n",
       "    <tr>\n",
       "      <th>291</th>\n",
       "      <td>2019-08-03</td>\n",
       "      <td>A</td>\n",
       "      <td>66</td>\n",
       "      <td>60</td>\n",
       "      <td>346854</td>\n",
       "    </tr>\n",
       "  </tbody>\n",
       "</table>\n",
       "</div>"
      ],
      "text/plain": [
       "          date group  transaction_id  visitor_id  revenue\n",
       "55  2019-08-01     A              23          19   142779\n",
       "66  2019-08-01     B              17          17    59758\n",
       "175 2019-08-02     A              42          36   234381\n",
       "173 2019-08-02     B              40          39   221801\n",
       "291 2019-08-03     A              66          60   346854"
      ]
     },
     "execution_count": 22,
     "metadata": {},
     "output_type": "execute_result"
    }
   ],
   "source": [
    "# creating an array of unique pairs of date values and test groups\n",
    "dates_grouped = orders[['date', 'group']].drop_duplicates()\n",
    "\n",
    "# we get aggregated cumulative data on orders by days\n",
    "orders_grouped = dates_grouped.apply(\n",
    "    lambda x: orders[\n",
    "        np.logical_and(\n",
    "            orders['date'] <= x['date'], orders['group'] == x['group']\n",
    "        )\n",
    "    ].agg(\n",
    "        {\n",
    "            'date': 'max',\n",
    "            'group': 'max',\n",
    "            'transaction_id': 'nunique',\n",
    "            'visitor_id': 'nunique',\n",
    "            'revenue': 'sum',\n",
    "        }\n",
    "    ),\n",
    "    axis=1,\n",
    ").sort_values(by=['date', 'group'])\n",
    "\n",
    "orders_grouped.head()"
   ]
  },
  {
   "cell_type": "code",
   "execution_count": 23,
   "metadata": {},
   "outputs": [
    {
     "data": {
      "text/html": [
       "<div>\n",
       "<style scoped>\n",
       "    .dataframe tbody tr th:only-of-type {\n",
       "        vertical-align: middle;\n",
       "    }\n",
       "\n",
       "    .dataframe tbody tr th {\n",
       "        vertical-align: top;\n",
       "    }\n",
       "\n",
       "    .dataframe thead th {\n",
       "        text-align: right;\n",
       "    }\n",
       "</style>\n",
       "<table border=\"1\" class=\"dataframe\">\n",
       "  <thead>\n",
       "    <tr style=\"text-align: right;\">\n",
       "      <th></th>\n",
       "      <th>date</th>\n",
       "      <th>group</th>\n",
       "      <th>visitors</th>\n",
       "    </tr>\n",
       "  </thead>\n",
       "  <tbody>\n",
       "    <tr>\n",
       "      <th>55</th>\n",
       "      <td>2019-08-01</td>\n",
       "      <td>A</td>\n",
       "      <td>719</td>\n",
       "    </tr>\n",
       "    <tr>\n",
       "      <th>66</th>\n",
       "      <td>2019-08-01</td>\n",
       "      <td>B</td>\n",
       "      <td>713</td>\n",
       "    </tr>\n",
       "    <tr>\n",
       "      <th>175</th>\n",
       "      <td>2019-08-02</td>\n",
       "      <td>A</td>\n",
       "      <td>1338</td>\n",
       "    </tr>\n",
       "    <tr>\n",
       "      <th>173</th>\n",
       "      <td>2019-08-02</td>\n",
       "      <td>B</td>\n",
       "      <td>1294</td>\n",
       "    </tr>\n",
       "    <tr>\n",
       "      <th>291</th>\n",
       "      <td>2019-08-03</td>\n",
       "      <td>A</td>\n",
       "      <td>1845</td>\n",
       "    </tr>\n",
       "  </tbody>\n",
       "</table>\n",
       "</div>"
      ],
      "text/plain": [
       "          date group  visitors\n",
       "55  2019-08-01     A       719\n",
       "66  2019-08-01     B       713\n",
       "175 2019-08-02     A      1338\n",
       "173 2019-08-02     B      1294\n",
       "291 2019-08-03     A      1845"
      ]
     },
     "execution_count": 23,
     "metadata": {},
     "output_type": "execute_result"
    }
   ],
   "source": [
    "# aggregated cumulative data of the visitors  by days\n",
    "\n",
    "visitors_grouped = dates_grouped.apply(\n",
    "    lambda x: visitors[\n",
    "        np.logical_and(\n",
    "            visitors['date'] <= x['date'], visitors['group'] == x['group']\n",
    "        )\n",
    "    ].agg(\n",
    "        {\n",
    "            'date': 'max', \n",
    "            'group': 'max', \n",
    "            'visitors': 'sum'\n",
    "        }\n",
    "    ),\n",
    "    axis=1,\n",
    ").sort_values(by=['date', 'group'])\n",
    "\n",
    "visitors_grouped.head()"
   ]
  },
  {
   "cell_type": "code",
   "execution_count": 24,
   "metadata": {},
   "outputs": [],
   "source": [
    "#cumulative data in one table and assigning clear names to columns\n",
    "\n",
    "cumulative_data = orders_grouped.merge(\n",
    "    visitors_grouped, \n",
    "    left_on=['date', 'group'], \n",
    "    right_on=['date', 'group']\n",
    ")\n",
    "\n",
    "cumulative_data.columns = ['date', 'group', 'orders', 'buyers', 'revenue', 'visitors']"
   ]
  },
  {
   "cell_type": "code",
   "execution_count": 25,
   "metadata": {},
   "outputs": [
    {
     "data": {
      "text/html": [
       "<div>\n",
       "<style scoped>\n",
       "    .dataframe tbody tr th:only-of-type {\n",
       "        vertical-align: middle;\n",
       "    }\n",
       "\n",
       "    .dataframe tbody tr th {\n",
       "        vertical-align: top;\n",
       "    }\n",
       "\n",
       "    .dataframe thead th {\n",
       "        text-align: right;\n",
       "    }\n",
       "</style>\n",
       "<table border=\"1\" class=\"dataframe\">\n",
       "  <thead>\n",
       "    <tr style=\"text-align: right;\">\n",
       "      <th></th>\n",
       "      <th>date</th>\n",
       "      <th>group</th>\n",
       "      <th>orders</th>\n",
       "      <th>buyers</th>\n",
       "      <th>revenue</th>\n",
       "      <th>visitors</th>\n",
       "      <th>conversion</th>\n",
       "    </tr>\n",
       "  </thead>\n",
       "  <tbody>\n",
       "    <tr>\n",
       "      <th>0</th>\n",
       "      <td>2019-08-01</td>\n",
       "      <td>A</td>\n",
       "      <td>23</td>\n",
       "      <td>19</td>\n",
       "      <td>142779</td>\n",
       "      <td>719</td>\n",
       "      <td>0.03</td>\n",
       "    </tr>\n",
       "    <tr>\n",
       "      <th>1</th>\n",
       "      <td>2019-08-01</td>\n",
       "      <td>B</td>\n",
       "      <td>17</td>\n",
       "      <td>17</td>\n",
       "      <td>59758</td>\n",
       "      <td>713</td>\n",
       "      <td>0.02</td>\n",
       "    </tr>\n",
       "    <tr>\n",
       "      <th>2</th>\n",
       "      <td>2019-08-02</td>\n",
       "      <td>A</td>\n",
       "      <td>42</td>\n",
       "      <td>36</td>\n",
       "      <td>234381</td>\n",
       "      <td>1338</td>\n",
       "      <td>0.03</td>\n",
       "    </tr>\n",
       "    <tr>\n",
       "      <th>3</th>\n",
       "      <td>2019-08-02</td>\n",
       "      <td>B</td>\n",
       "      <td>40</td>\n",
       "      <td>39</td>\n",
       "      <td>221801</td>\n",
       "      <td>1294</td>\n",
       "      <td>0.03</td>\n",
       "    </tr>\n",
       "    <tr>\n",
       "      <th>4</th>\n",
       "      <td>2019-08-03</td>\n",
       "      <td>A</td>\n",
       "      <td>66</td>\n",
       "      <td>60</td>\n",
       "      <td>346854</td>\n",
       "      <td>1845</td>\n",
       "      <td>0.04</td>\n",
       "    </tr>\n",
       "  </tbody>\n",
       "</table>\n",
       "</div>"
      ],
      "text/plain": [
       "        date group  orders  buyers  revenue  visitors  conversion\n",
       "0 2019-08-01     A      23      19   142779       719        0.03\n",
       "1 2019-08-01     B      17      17    59758       713        0.02\n",
       "2 2019-08-02     A      42      36   234381      1338        0.03\n",
       "3 2019-08-02     B      40      39   221801      1294        0.03\n",
       "4 2019-08-03     A      66      60   346854      1845        0.04"
      ]
     },
     "execution_count": 25,
     "metadata": {},
     "output_type": "execute_result"
    }
   ],
   "source": [
    "# adding a column with the number of orders per user\n",
    "cumulative_data['conversion'] = cumulative_data['orders'] / cumulative_data['visitors']\n",
    "cumulative_data.head()"
   ]
  },
  {
   "cell_type": "markdown",
   "metadata": {},
   "source": [
    "###  Revenue by groups"
   ]
  },
  {
   "cell_type": "code",
   "execution_count": 26,
   "metadata": {},
   "outputs": [
    {
     "data": {
      "image/png": "[encoded data removed]",
      "text/plain": [
       "<Figure size 1500x500 with 1 Axes>"
      ]
     },
     "metadata": {},
     "output_type": "display_data"
    }
   ],
   "source": [
    "# for group A\n",
    "cumulative_revenue_a = cumulative_data[cumulative_data['group']=='A'][['date','revenue', 'orders']]\n",
    "\n",
    "# for group B\n",
    "cumulative_revenue_b = cumulative_data[cumulative_data['group']=='B'][['date','revenue', 'orders']]\n",
    "\n",
    "fig, ax = plt.subplots(figsize=(15, 5))\n",
    "plt.plot(cumulative_revenue_a['date'], cumulative_revenue_a['revenue'], label='A')\n",
    "plt.plot(cumulative_revenue_b['date'], cumulative_revenue_b['revenue'], label='B')\n",
    "plt.title('CUMULATIVE REVENUE FOR GROUPS А AND В')\n",
    "plt.ylabel(\"REVENUE\")\n",
    "plt.xlabel(\"DATES\")\n",
    "plt.xticks(rotation=30)\n",
    "plt.legend()\n",
    "plt.show()"
   ]
  },
  {
   "cell_type": "markdown",
   "metadata": {},
   "source": [
    "### Cumulative average revenue\n"
   ]
  },
  {
   "cell_type": "code",
   "execution_count": 27,
   "metadata": {},
   "outputs": [
    {
     "data": {
      "image/png": "[encoded data removed]",
      "text/plain": [
       "<Figure size 1500x500 with 1 Axes>"
      ]
     },
     "metadata": {},
     "output_type": "display_data"
    }
   ],
   "source": [
    "fig, ax = plt.subplots(figsize=(15, 5))\n",
    "plt.plot(cumulative_revenue_a['date'], \n",
    "         cumulative_revenue_a['revenue'] / cumulative_revenue_a['orders'],\n",
    "         label='A')\n",
    "\n",
    "plt.plot(cumulative_revenue_b['date'], \n",
    "         cumulative_revenue_b['revenue'] / cumulative_revenue_b['orders'], \n",
    "         label='B')\n",
    "\n",
    "plt.title('CUMULATIVE AVERAGE REVENUE IN GROUPS A AND B')\n",
    "plt.ylabel(\"REVENUE AVERAGE\")\n",
    "plt.xlabel(\"DATE\")\n",
    "plt.xticks(rotation=30)\n",
    "plt.legend()\n",
    "plt.show()"
   ]
  },
  {
   "cell_type": "markdown",
   "metadata": {},
   "source": [
    "### Relative average revenue of group B in comparison to group A"
   ]
  },
  {
   "cell_type": "code",
   "execution_count": 28,
   "metadata": {},
   "outputs": [
    {
     "data": {
      "image/png": "[encoded data removed]",
      "text/plain": [
       "<Figure size 1500x500 with 1 Axes>"
      ]
     },
     "metadata": {},
     "output_type": "display_data"
    }
   ],
   "source": [
    "# creating dataframe\n",
    "cumulative_revenue_ab = cumulative_revenue_a.merge(\n",
    "    cumulative_revenue_b, \n",
    "    left_on='date', \n",
    "    right_on='date', \n",
    "    how='left', \n",
    "    suffixes=['_a', '_b']\n",
    ")\n",
    "\n",
    "# creating graphic\n",
    "fig, ax = plt.subplots(figsize=(15, 5))\n",
    "\n",
    "plt.plot(cumulative_revenue_ab['date'], \n",
    "         (\n",
    "             cumulative_revenue_ab['revenue_b']/cumulative_revenue_ab['orders_b']\n",
    "         )/\n",
    "         (\n",
    "             cumulative_revenue_ab['revenue_a']/cumulative_revenue_ab['orders_a']\n",
    "         )-1\n",
    "        )\n",
    "\n",
    "# adding X axis\n",
    "plt.axhline(y=0, color='black', linestyle='--')\n",
    "plt.title('RELATIVE AVERAGE REVENUE OF GROUP B IN COMPARISON TO GROUP A')\n",
    "plt.xlabel(\"DATE\")\n",
    "plt.xticks(rotation=30)\n",
    "plt.show()"
   ]
  },
  {
   "cell_type": "markdown",
   "metadata": {},
   "source": [
    "The charts change dramatically in several dates. It can be assumed that there are some large orders."
   ]
  },
  {
   "cell_type": "markdown",
   "metadata": {},
   "source": [
    "### Cumulative number of orders per user"
   ]
  },
  {
   "cell_type": "code",
   "execution_count": 29,
   "metadata": {},
   "outputs": [
    {
     "data": {
      "image/png": "[encoded data removed]",
      "text/plain": [
       "<Figure size 1500x800 with 1 Axes>"
      ]
     },
     "metadata": {},
     "output_type": "display_data"
    }
   ],
   "source": [
    "# group A\n",
    "cumulative_data_a = cumulative_data[cumulative_data['group']=='A']\n",
    "\n",
    "# group B \n",
    "cumulative_data_b = cumulative_data[cumulative_data['group']=='B']\n",
    "\n",
    "# building graphics\n",
    "plt.plot(cumulative_data_a['date'], cumulative_data_a['conversion'], label='A')\n",
    "plt.plot(cumulative_data_b['date'], cumulative_data_b['conversion'], label='B')\n",
    "plt.legend()\n",
    "plt.title('CUMULATIVE NUMBER OF ORDERS PER USER')\n",
    "plt.xlabel('DATES')\n",
    "plt.ylabel('NUMBER OF ORDERS')\n",
    "plt.xticks(rotation=30)\n",
    "plt.show()"
   ]
  },
  {
   "cell_type": "markdown",
   "metadata": {},
   "source": [
    "The cumulative number of Group B orders is definitely better than the cumulative number of Group A orders."
   ]
  },
  {
   "cell_type": "markdown",
   "metadata": {},
   "source": [
    "### Relative cumulative number of orders per user of group B in comparison to group A"
   ]
  },
  {
   "cell_type": "code",
   "execution_count": 30,
   "metadata": {},
   "outputs": [
    {
     "data": {
      "image/png": "[encoded data removed]",
      "text/plain": [
       "<Figure size 1500x800 with 1 Axes>"
      ]
     },
     "metadata": {},
     "output_type": "display_data"
    }
   ],
   "source": [
    "cumulative_conversions_ab = (\n",
    "    cumulative_data_a[['date','conversion']]\n",
    "    .merge(\n",
    "        cumulative_data_b[['date','conversion']], \n",
    "        left_on='date', \n",
    "        right_on='date', \n",
    "        how='left', \n",
    "        suffixes=['_a', '_b']\n",
    "    )\n",
    ")\n",
    "plt.plot(\n",
    "    cumulative_conversions_ab['date'], \n",
    "    cumulative_conversions_ab['conversion_b']/\n",
    "    cumulative_conversions_ab['conversion_a']-1\n",
    ")\n",
    "\n",
    "# добавляем ось X\n",
    "plt.axhline(y=0, color='black', linestyle='--')\n",
    "plt.axhline(y=0.15, color='grey', linestyle='--')\n",
    "plt.title('INCREASE OF ORDERS NUMBER OF  GROUP B IN COMPARISON WITH GROUP A')\n",
    "plt.xlabel('DATES')\n",
    "plt.xticks(rotation=30)\n",
    "plt.show()"
   ]
  },
  {
   "cell_type": "markdown",
   "metadata": {},
   "source": [
    "The graphs obtained above showed the presence of large orders. There are definitely outliers in the data.\n"
   ]
  },
  {
   "cell_type": "markdown",
   "metadata": {},
   "source": [
    "###  Orders per user"
   ]
  },
  {
   "cell_type": "code",
   "execution_count": 31,
   "metadata": {},
   "outputs": [
    {
     "data": {
      "text/plain": [
       "count   973.00\n",
       "mean      1.04\n",
       "std       0.24\n",
       "min       1.00\n",
       "25%       1.00\n",
       "50%       1.00\n",
       "75%       1.00\n",
       "max       3.00\n",
       "Name: orders, dtype: float64"
      ]
     },
     "metadata": {},
     "output_type": "display_data"
    }
   ],
   "source": [
    "orders_by_users = (\n",
    "    orders.groupby('visitor_id', as_index=False)\n",
    "    .agg({'transaction_id': 'nunique'})\n",
    ")\n",
    "orders_by_users.columns =  ['visitor_id', 'orders']\n",
    "display(orders_by_users['orders'].describe())"
   ]
  },
  {
   "cell_type": "code",
   "execution_count": 32,
   "metadata": {},
   "outputs": [
    {
     "data": {
      "image/png": "[encoded data removed]",
      "text/plain": [
       "<Figure size 1500x800 with 1 Axes>"
      ]
     },
     "metadata": {},
     "output_type": "display_data"
    }
   ],
   "source": [
    "x_values = pd.Series(range(0,len(orders_by_users)))\n",
    "\n",
    "# building scatter\n",
    "plt.scatter(x_values, orders_by_users['orders'], alpha=0.5)\n",
    "plt.title('DISTRIBUTION OF NUMBER OF ORDERS PER USER')\n",
    "plt.xlabel(\"USERS\")\n",
    "plt.ylabel(\"ORDERS\")\n",
    "plt.show()"
   ]
  },
  {
   "cell_type": "markdown",
   "metadata": {},
   "source": [
    "Most users have placed an order once, there are also users who placed 2-4 orders for. The maximum number of orders is 11."
   ]
  },
  {
   "cell_type": "markdown",
   "metadata": {},
   "source": [
    "### Percentile of orders per user"
   ]
  },
  {
   "cell_type": "code",
   "execution_count": 33,
   "metadata": {},
   "outputs": [
    {
     "data": {
      "text/plain": [
       "array([1., 2.])"
      ]
     },
     "execution_count": 33,
     "metadata": {},
     "output_type": "execute_result"
    }
   ],
   "source": [
    "np.percentile(orders_by_users['orders'], [95, 99])"
   ]
  },
  {
   "cell_type": "markdown",
   "metadata": {},
   "source": [
    "Only 1 percent of users order more than once."
   ]
  },
  {
   "cell_type": "markdown",
   "metadata": {},
   "source": [
    "### Revenue"
   ]
  },
  {
   "cell_type": "code",
   "execution_count": 34,
   "metadata": {},
   "outputs": [
    {
     "data": {
      "text/plain": [
       "count       1,016.00\n",
       "mean        8,300.81\n",
       "std        42,121.99\n",
       "min            50.00\n",
       "25%         1,190.00\n",
       "50%         2,955.00\n",
       "75%         8,134.25\n",
       "max     1,294,500.00\n",
       "Name: revenue, dtype: float64"
      ]
     },
     "execution_count": 34,
     "metadata": {},
     "output_type": "execute_result"
    }
   ],
   "source": [
    "orders['revenue'].describe()"
   ]
  },
  {
   "cell_type": "code",
   "execution_count": 35,
   "metadata": {},
   "outputs": [
    {
     "data": {
      "image/png": "[encoded data removed]",
      "text/plain": [
       "<Figure size 1500x800 with 1 Axes>"
      ]
     },
     "metadata": {},
     "output_type": "display_data"
    }
   ],
   "source": [
    "x_values = pd.Series(range(0,len(orders['revenue'])))\n",
    "\n",
    "# building scatter diagram\n",
    "plt.scatter(x_values, orders['revenue'], alpha=0.5)\n",
    "plt.title('REVENUE DISTRIBUTION PER ORDERS')\n",
    "plt.xlabel(\"ORDERS\")\n",
    "plt.ylabel(\"REVENUE\")\n",
    "plt.show()"
   ]
  },
  {
   "cell_type": "markdown",
   "metadata": {},
   "source": [
    "One order is almost 1.3 million. Presumably, it caused a spike in the graphs of cumulative metrics.\n",
    "Let's build a graph without it."
   ]
  },
  {
   "cell_type": "code",
   "execution_count": 36,
   "metadata": {},
   "outputs": [
    {
     "data": {
      "image/png": "[encoded data removed]",
      "text/plain": [
       "<Figure size 1500x800 with 1 Axes>"
      ]
     },
     "metadata": {},
     "output_type": "display_data"
    }
   ],
   "source": [
    "\n",
    "plt.ylim(0, 100000)\n",
    "plt.scatter(x_values, orders['revenue'], alpha=0.5)\n",
    "plt.title('REVENUE DISTRIBUTION PER ORDERS')\n",
    "plt.xlabel(\"ORDERS\")\n",
    "plt.ylabel(\"REVENUE\")\n",
    "plt.show()"
   ]
  },
  {
   "cell_type": "markdown",
   "metadata": {},
   "source": [
    "Most of the orders are no more than 20000-25000."
   ]
  },
  {
   "cell_type": "markdown",
   "metadata": {},
   "source": [
    "### Revenue percentile"
   ]
  },
  {
   "cell_type": "code",
   "execution_count": 37,
   "metadata": {},
   "outputs": [
    {
     "data": {
      "text/plain": [
       "array([26785., 53904.])"
      ]
     },
     "execution_count": 37,
     "metadata": {},
     "output_type": "execute_result"
    }
   ],
   "source": [
    "np.percentile(orders['revenue'], [95, 99])"
   ]
  },
  {
   "cell_type": "markdown",
   "metadata": {},
   "source": [
    "Only one percent of users ordered for mor than 53904."
   ]
  },
  {
   "cell_type": "markdown",
   "metadata": {},
   "source": [
    "### Analysis of statistical significance"
   ]
  },
  {
   "cell_type": "markdown",
   "metadata": {},
   "source": [
    "The results of the A/B test showed that there are outliers in the data.\n",
    "\n",
    "Calculating statistical significance of differences between groups based on \"raw\" data — without removing abnormal users.\n",
    "\n",
    "**Let's formulate null and alternative hypothesis.**\n",
    "\n",
    "H0- there is no difference in orders per user.\n",
    "\n",
    "H1- there is no difference in orders per user.\n",
    "\n",
    "critical level of statistical significance of 0.05\n",
    "\n",
    "Since data on sales and average receipts are rarely normally distributed (this is a classic example of variables subject to outliers), we will use the nonparametric Mann-Whitney test for hypotheses.\n",
    "\n",
    "*Preparing the data and creating a table with the following columns for the test:*\n",
    "\n",
    "date;\n",
    "\n",
    "orders_daily_a;\n",
    "\n",
    "revenue_per_date_a;\n",
    "\n",
    "orders_daily_a;\n",
    "\n",
    "revenue_per_date_a;\n",
    "\n",
    "orders_cummulative_a;\n",
    "\n",
    "revenue_cummulative_a;\n",
    "\n",
    "orders_cummulative_b;\n",
    "\n",
    "revenue_cummulative_b;\n",
    "\n",
    "visitors_per_date_a;\n",
    "\n",
    "visitors_per_date_b;\n",
    "\n",
    "visitors_cummulative_a;\n",
    "\n",
    "visitors_cummulative_b."
   ]
  },
  {
   "cell_type": "code",
   "execution_count": 38,
   "metadata": {},
   "outputs": [
    {
     "data": {
      "text/html": [
       "<div>\n",
       "<style scoped>\n",
       "    .dataframe tbody tr th:only-of-type {\n",
       "        vertical-align: middle;\n",
       "    }\n",
       "\n",
       "    .dataframe tbody tr th {\n",
       "        vertical-align: top;\n",
       "    }\n",
       "\n",
       "    .dataframe thead th {\n",
       "        text-align: right;\n",
       "    }\n",
       "</style>\n",
       "<table border=\"1\" class=\"dataframe\">\n",
       "  <thead>\n",
       "    <tr style=\"text-align: right;\">\n",
       "      <th></th>\n",
       "      <th>date</th>\n",
       "      <th>orders_daily_a</th>\n",
       "      <th>revenue_per_date_a</th>\n",
       "      <th>orders_daily_b</th>\n",
       "      <th>revenue_per_date_b</th>\n",
       "      <th>orders_cummulative_a</th>\n",
       "      <th>revenue_cummulative_a</th>\n",
       "      <th>orders_cummulative_b</th>\n",
       "      <th>revenue_cummulative_b</th>\n",
       "      <th>visitors_per_date_a</th>\n",
       "      <th>visitors_per_date_b</th>\n",
       "      <th>visitors_cummulative_a</th>\n",
       "      <th>visitors_cummulative_b</th>\n",
       "    </tr>\n",
       "  </thead>\n",
       "  <tbody>\n",
       "    <tr>\n",
       "      <th>0</th>\n",
       "      <td>2019-08-01</td>\n",
       "      <td>23</td>\n",
       "      <td>142779</td>\n",
       "      <td>17</td>\n",
       "      <td>59758</td>\n",
       "      <td>23</td>\n",
       "      <td>142779</td>\n",
       "      <td>17</td>\n",
       "      <td>59758</td>\n",
       "      <td>719</td>\n",
       "      <td>713</td>\n",
       "      <td>719</td>\n",
       "      <td>713</td>\n",
       "    </tr>\n",
       "    <tr>\n",
       "      <th>1</th>\n",
       "      <td>2019-08-02</td>\n",
       "      <td>19</td>\n",
       "      <td>91602</td>\n",
       "      <td>23</td>\n",
       "      <td>162043</td>\n",
       "      <td>42</td>\n",
       "      <td>234381</td>\n",
       "      <td>40</td>\n",
       "      <td>221801</td>\n",
       "      <td>619</td>\n",
       "      <td>581</td>\n",
       "      <td>1338</td>\n",
       "      <td>1294</td>\n",
       "    </tr>\n",
       "    <tr>\n",
       "      <th>2</th>\n",
       "      <td>2019-08-03</td>\n",
       "      <td>24</td>\n",
       "      <td>112473</td>\n",
       "      <td>14</td>\n",
       "      <td>67049</td>\n",
       "      <td>66</td>\n",
       "      <td>346854</td>\n",
       "      <td>54</td>\n",
       "      <td>288850</td>\n",
       "      <td>507</td>\n",
       "      <td>509</td>\n",
       "      <td>1845</td>\n",
       "      <td>1803</td>\n",
       "    </tr>\n",
       "    <tr>\n",
       "      <th>3</th>\n",
       "      <td>2019-08-04</td>\n",
       "      <td>11</td>\n",
       "      <td>41176</td>\n",
       "      <td>14</td>\n",
       "      <td>96890</td>\n",
       "      <td>77</td>\n",
       "      <td>388030</td>\n",
       "      <td>68</td>\n",
       "      <td>385740</td>\n",
       "      <td>717</td>\n",
       "      <td>770</td>\n",
       "      <td>2562</td>\n",
       "      <td>2573</td>\n",
       "    </tr>\n",
       "    <tr>\n",
       "      <th>4</th>\n",
       "      <td>2019-08-05</td>\n",
       "      <td>22</td>\n",
       "      <td>86383</td>\n",
       "      <td>21</td>\n",
       "      <td>89908</td>\n",
       "      <td>99</td>\n",
       "      <td>474413</td>\n",
       "      <td>89</td>\n",
       "      <td>475648</td>\n",
       "      <td>756</td>\n",
       "      <td>707</td>\n",
       "      <td>3318</td>\n",
       "      <td>3280</td>\n",
       "    </tr>\n",
       "  </tbody>\n",
       "</table>\n",
       "</div>"
      ],
      "text/plain": [
       "        date  orders_daily_a  revenue_per_date_a  orders_daily_b  \\\n",
       "0 2019-08-01              23              142779              17   \n",
       "1 2019-08-02              19               91602              23   \n",
       "2 2019-08-03              24              112473              14   \n",
       "3 2019-08-04              11               41176              14   \n",
       "4 2019-08-05              22               86383              21   \n",
       "\n",
       "   revenue_per_date_b  orders_cummulative_a  revenue_cummulative_a  \\\n",
       "0               59758                    23                 142779   \n",
       "1              162043                    42                 234381   \n",
       "2               67049                    66                 346854   \n",
       "3               96890                    77                 388030   \n",
       "4               89908                    99                 474413   \n",
       "\n",
       "   orders_cummulative_b  revenue_cummulative_b  visitors_per_date_a  \\\n",
       "0                    17                  59758                  719   \n",
       "1                    40                 221801                  619   \n",
       "2                    54                 288850                  507   \n",
       "3                    68                 385740                  717   \n",
       "4                    89                 475648                  756   \n",
       "\n",
       "   visitors_per_date_b  visitors_cummulative_a  visitors_cummulative_b  \n",
       "0                  713                     719                     713  \n",
       "1                  581                    1338                    1294  \n",
       "2                  509                    1845                    1803  \n",
       "3                  770                    2562                    2573  \n",
       "4                  707                    3318                    3280  "
      ]
     },
     "execution_count": 38,
     "metadata": {},
     "output_type": "execute_result"
    }
   ],
   "source": [
    "visitors_daily_a = visitors[visitors['group'] == 'A'][['date', 'visitors']]\n",
    "visitors_daily_a.columns = ['date', 'visitors_per_date_a']\n",
    "\n",
    "visitors_cummulative_a = visitors_daily_a.apply(\n",
    "    lambda x: visitors_daily_a[visitors_daily_a['date'] <= x['date']].agg(\n",
    "        {'date': 'max', 'visitors_per_date_a': 'sum'}\n",
    "    ),\n",
    "    axis=1,\n",
    ")\n",
    "visitors_cummulative_a.columns = ['date', 'visitors_cummulative_a']\n",
    "\n",
    "visitors_daily_b = visitors[visitors['group'] == 'B'][['date', 'visitors']]\n",
    "visitors_daily_b.columns = ['date', 'visitors_per_date_b']\n",
    "\n",
    "visitors_cummulative_b = visitors_daily_b.apply(\n",
    "    lambda x: visitors_daily_b[visitors_daily_b['date'] <= x['date']].agg(\n",
    "        {'date': 'max', 'visitors_per_date_b': 'sum'}\n",
    "    ),\n",
    "    axis=1,\n",
    ")\n",
    "visitors_cummulative_b.columns = ['date', 'visitors_cummulative_b']\n",
    "\n",
    "orders_daily_a = (\n",
    "    orders[orders['group'] == 'A'][['date', 'transaction_id', 'visitor_id', 'revenue']]\n",
    "    .groupby('date', as_index=False)\n",
    "    .agg({'transaction_id': pd.Series.nunique, 'revenue': 'sum'})\n",
    ")\n",
    "orders_daily_a.columns = ['date', 'orders_daily_a', 'revenue_per_date_a']\n",
    "\n",
    "orders_cummulative_a = orders_daily_a.apply(\n",
    "    lambda x: orders_daily_a[orders_daily_a['date'] <= x['date']].agg(\n",
    "        {'date': 'max', 'orders_daily_a': 'sum', 'revenue_per_date_a': 'sum'}\n",
    "    ),\n",
    "    axis=1,\n",
    ").sort_values(by=['date'])\n",
    "\n",
    "orders_cummulative_a.columns = ['date','orders_cummulative_a','revenue_cummulative_a']\n",
    "\n",
    "orders_daily_b = (\n",
    "    orders[orders['group'] == 'B'][['date', 'transaction_id', 'visitor_id', 'revenue']]\n",
    "    .groupby('date', as_index=False)\n",
    "    .agg({'transaction_id': pd.Series.nunique, 'revenue': 'sum'})\n",
    ")\n",
    "orders_daily_b.columns = ['date', 'orders_daily_b', 'revenue_per_date_b']\n",
    "\n",
    "orders_cummulative_b = orders_daily_b.apply(\n",
    "    lambda x: orders_daily_b[orders_daily_b['date'] <= x['date']].agg(\n",
    "        {'date': 'max', 'orders_daily_b': 'sum', 'revenue_per_date_b': 'sum'}\n",
    "    ),\n",
    "    axis=1,\n",
    ").sort_values(by=['date'])\n",
    "\n",
    "orders_cummulative_b.columns = ['date','orders_cummulative_b','revenue_cummulative_b']\n",
    "\n",
    "\n",
    "data = (\n",
    "    orders_daily_a.merge(\n",
    "        orders_daily_b, left_on='date', right_on='date', how='left'\n",
    "    )\n",
    "    .merge(orders_cummulative_a, left_on='date', right_on='date', how='left')\n",
    "    .merge(orders_cummulative_b, left_on='date', right_on='date', how='left')\n",
    "    .merge(visitors_daily_a, left_on='date', right_on='date', how='left')\n",
    "    .merge(visitors_daily_b, left_on='date', right_on='date', how='left')\n",
    "    .merge(visitors_cummulative_a, left_on='date', right_on='date', how='left')\n",
    "    .merge(visitors_cummulative_b, left_on='date', right_on='date', how='left')\n",
    ")\n",
    "data.head()"
   ]
  },
  {
   "cell_type": "markdown",
   "metadata": {},
   "source": [
    "### Statistical significant difference in the average number of orders per visitor between groups based on \"raw\" data"
   ]
  },
  {
   "cell_type": "markdown",
   "metadata": {},
   "source": [
    "Creating dataset order_by_users_a and order_by_users_b; for users who ordered at least 1 time, specifing the number of completed orders."
   ]
  },
  {
   "cell_type": "code",
   "execution_count": 39,
   "metadata": {},
   "outputs": [],
   "source": [
    "orders_by_users_a = (\n",
    "    orders[orders['group'] == 'A']\n",
    "    .groupby('visitor_id', as_index=False)\n",
    "    .agg({'transaction_id': pd.Series.nunique})\n",
    ")\n",
    "orders_by_users_a.columns = ['visitor_id', 'orders']\n",
    "\n",
    "orders_by_users_b = (\n",
    "    orders[orders['group'] == 'B']\n",
    "    .groupby('visitor_id', as_index=False)\n",
    "    .agg({'transaction_id': pd.Series.nunique})\n",
    ")\n",
    "orders_by_users_b.columns = ['visitor_id', 'orders']"
   ]
  },
  {
   "cell_type": "markdown",
   "metadata": {
    "scrolled": true
   },
   "source": [
    "Let's declare the variables sample_a and sample_b, in which the number of orders will correspond to users from different groups. Those who have not ordered anything will be matched with zeros. This is necessary in order to prepare the samples for verification by the criterion.\n",
    "\n"
   ]
  },
  {
   "cell_type": "code",
   "execution_count": 40,
   "metadata": {},
   "outputs": [],
   "source": [
    "sample_a = pd.concat([orders_by_users_a['orders'],\n",
    "                      pd.Series(\n",
    "                          0, \n",
    "                          index=np.arange(data['visitors_per_date_a'].sum() - \n",
    "                                          len(orders_by_users_a['orders'])), \n",
    "                          name='orders')],axis=0\n",
    "                    )\n",
    "\n",
    "sample_b = pd.concat([orders_by_users_b['orders'],\n",
    "                      pd.Series(\n",
    "                          0, \n",
    "                          index=np.arange(data['visitors_per_date_b'].sum() - \n",
    "                                          len(orders_by_users_b['orders'])), \n",
    "                          name='orders')],axis=0\n",
    "                    )"
   ]
  },
  {
   "cell_type": "markdown",
   "metadata": {},
   "source": [
    "*Defining function:*\n",
    "\n",
    "setting the significance level alpha=0.05,\n",
    "\n",
    "setting  the Mann-Whitney test,\n",
    "\n",
    "formatting the p-value by rounding it to three decimal places,\n",
    "\n",
    "calculating relative increase.    "
   ]
  },
  {
   "cell_type": "code",
   "execution_count": 41,
   "metadata": {},
   "outputs": [],
   "source": [
    "\n",
    "def stat_significance(data_a, data_b):\n",
    "    alpha = 0.05\n",
    "    p_value = stats.mannwhitneyu(data_a, data_b)[1]\n",
    "    print(\"P-value: {0:.3f}\".format(p_value))\n",
    "\n",
    "    if (p_value < alpha):\n",
    "        print('Rejecting H0: there is a significant statistical difference between the groups')\n",
    "    else:\n",
    "        print('Rejecting H0 was not succesful, we can not consider that there is a significant statistical difference between the groups')\n",
    "    \n",
    "    print(\"Relative increase В to А: {0:.3%}\".format(data_b.mean() / data_a.mean()-1))"
   ]
  },
  {
   "cell_type": "code",
   "execution_count": 42,
   "metadata": {},
   "outputs": [
    {
     "name": "stdout",
     "output_type": "stream",
     "text": [
      "P-value: 0.011\n",
      "Rejecting H0: there is a significant statistical difference between the groups\n",
      "Relative increase В to А: 15.980%\n"
     ]
    }
   ],
   "source": [
    "stat_significance(sample_a, sample_b)"
   ]
  },
  {
   "cell_type": "markdown",
   "metadata": {},
   "source": [
    "### Statistical significant difference in the average revenue between groups for \"raw\" data"
   ]
  },
  {
   "cell_type": "markdown",
   "metadata": {},
   "source": [
    "Let's calculate statistical significant difference in the average revenue between groups for \"raw\" data — without removing abnormal users.\n",
    "\n",
    "the main and alternative hypotheses:\n",
    "\n",
    "- H0- there are no differences between the groups in the average revenue\n",
    "\n",
    "- H1- there are differences between groups in the average revenue\n",
    "\n",
    "alpha =0.05"
   ]
  },
  {
   "cell_type": "code",
   "execution_count": 43,
   "metadata": {},
   "outputs": [
    {
     "name": "stdout",
     "output_type": "stream",
     "text": [
      "P-value: 0.829\n",
      "Rejecting H0 was not succesful, we can not consider that there is a significant statistical difference between the groups\n",
      "Relative increase В to А: 28.660%\n"
     ]
    }
   ],
   "source": [
    "stat_significance(orders[orders['group']=='A']['revenue'], orders[orders['group']=='B']['revenue'])"
   ]
  },
  {
   "cell_type": "markdown",
   "metadata": {},
   "source": [
    "### Statistic significance of differences in the average number of orders per visitor between groups for clean data"
   ]
  },
  {
   "cell_type": "markdown",
   "metadata": {},
   "source": [
    "Finding users with the largest number and most expensive orders."
   ]
  },
  {
   "cell_type": "code",
   "execution_count": 44,
   "metadata": {
    "scrolled": true
   },
   "outputs": [
    {
     "data": {
      "text/plain": [
       "1099     148427295\n",
       "33       249864742\n",
       "58       611059232\n",
       "949      887908475\n",
       "744      888512513\n",
       "1103    1164614297\n",
       "1136    1307669133\n",
       "425     1920142716\n",
       "1196    2108080724\n",
       "211     2108163459\n",
       "347     2742574263\n",
       "310     2988190573\n",
       "409     3908431265\n",
       "416     3967698036\n",
       "940     4003628586\n",
       "Name: visitor_id, dtype: int64"
      ]
     },
     "metadata": {},
     "output_type": "display_data"
    },
    {
     "data": {
      "text/plain": [
       "16"
      ]
     },
     "execution_count": 44,
     "metadata": {},
     "output_type": "execute_result"
    }
   ],
   "source": [
    "many_orders = np.percentile(orders_by_users['orders'], 99)\n",
    "expensive_orders = np.percentile(orders['revenue'], 99)\n",
    "\n",
    "\n",
    "users_with_many_orders = pd.concat(\n",
    "    [\n",
    "        orders_by_users_a[orders_by_users_a['orders'] > many_orders]['visitor_id'],\n",
    "        orders_by_users_b[orders_by_users_b['orders'] > many_orders]['visitor_id'],\n",
    "    ],\n",
    "    axis=0,\n",
    ")\n",
    "\n",
    "\n",
    "users_with_expensive_orders = orders[orders['revenue'] > expensive_orders]['visitor_id']\n",
    "\n",
    "\n",
    "abnormal_users = (\n",
    "    pd.concat([users_with_many_orders, users_with_expensive_orders], axis=0)\n",
    "    .drop_duplicates()\n",
    "    .sort_values()\n",
    ")\n",
    "display(abnormal_users.head(15))\n",
    "\n",
    "abnormal_users.shape[0]\n"
   ]
  },
  {
   "cell_type": "markdown",
   "metadata": {},
   "source": [
    "Cleaning data."
   ]
  },
  {
   "cell_type": "code",
   "execution_count": 45,
   "metadata": {},
   "outputs": [],
   "source": [
    "sample_a_filtered = pd.concat(\n",
    "    [\n",
    "        orders_by_users_a[\n",
    "            np.logical_not(orders_by_users_a['visitor_id'].isin(abnormal_users))\n",
    "        ]['orders'],\n",
    "        pd.Series(\n",
    "            0,\n",
    "            index=np.arange(\n",
    "                data['visitors_per_date_a'].sum() - len(orders_by_users_a['orders'])\n",
    "            ),\n",
    "            name='orders',\n",
    "        ),\n",
    "    ],\n",
    "    axis=0,\n",
    ")\n",
    "\n",
    "sample_b_filtered = pd.concat(\n",
    "    [\n",
    "        orders_by_users_b[\n",
    "            np.logical_not(orders_by_users_b['visitor_id'].isin(abnormal_users))\n",
    "        ]['orders'],\n",
    "        pd.Series(\n",
    "            0,\n",
    "            index=np.arange(\n",
    "                data['visitors_per_date_b'].sum() - len(orders_by_users_b['orders'])\n",
    "            ),\n",
    "            name='orders',\n",
    "        ),\n",
    "    ],\n",
    "    axis=0,\n",
    ")\n"
   ]
  },
  {
   "cell_type": "markdown",
   "metadata": {},
   "source": [
    "Let's calculate statistical significant difference in in the average number of orders per visitor between groups for \"clean\" data — after removal of abnormal users.\n",
    "\n",
    "The main and alternative hypotheses:\n",
    "\n",
    "H0- there are no differences between groups in the average number of orders per visitor\n",
    "\n",
    "H1- there are differences between groups in the average number of orders per visitor\n",
    "\n",
    "alpha =0.05"
   ]
  },
  {
   "cell_type": "code",
   "execution_count": 46,
   "metadata": {},
   "outputs": [
    {
     "name": "stdout",
     "output_type": "stream",
     "text": [
      "P-value: 0.007\n",
      "Rejecting H0: there is a significant statistical difference between the groups\n",
      "Relative increase В to А: 18.921%\n"
     ]
    }
   ],
   "source": [
    "# using previous function\n",
    "\n",
    "stat_significance(sample_a_filtered, sample_b_filtered)"
   ]
  },
  {
   "cell_type": "code",
   "execution_count": 47,
   "metadata": {},
   "outputs": [
    {
     "name": "stdout",
     "output_type": "stream",
     "text": [
      "P-value: 0.011\n",
      "Rejecting H0: there is a significant statistical difference between the groups\n",
      "Relative increase В to А: 15.980%\n"
     ]
    }
   ],
   "source": [
    "#remembering raw data calculation for the same hypothesis\n",
    "stat_significance(sample_a, sample_b)"
   ]
  },
  {
   "cell_type": "markdown",
   "metadata": {},
   "source": [
    "For both groups, based on raw and clean data, we rejected the null hypothesis that there is no difference between difference between the groups in the average number of orders per visitor. The relative increase in B to A is: 18.921% - for raw data and 15.980% -for clean data (increased by ~3% for clean data)."
   ]
  },
  {
   "cell_type": "markdown",
   "metadata": {},
   "source": [
    "### Statistical significant difference in the average revenue between groups for clean data"
   ]
  },
  {
   "cell_type": "markdown",
   "metadata": {},
   "source": [
    "Let's calculate statistical significant difference in the average revenue after the removal of abnormal users.\n",
    "\n",
    "the main and alternative hypotheses:\n",
    "\n",
    "H0- there are no differences between the groups in the average revenue\n",
    "\n",
    "H1- there are differences between the groups in the average revenue\n",
    "\n",
    "alpha =0.05"
   ]
  },
  {
   "cell_type": "code",
   "execution_count": 48,
   "metadata": {
    "scrolled": true
   },
   "outputs": [
    {
     "name": "stdout",
     "output_type": "stream",
     "text": [
      "P-value: 0.788\n",
      "Rejecting H0 was not succesful, we can not consider that there is a significant statistical difference between the groups\n",
      "Relative increase В to А: -3.234%\n"
     ]
    }
   ],
   "source": [
    "#for clean data\n",
    "stat_significance(\n",
    "    orders[(orders['group']=='A') & np.logical_not(orders['visitor_id'].isin(abnormal_users))]['revenue'], \n",
    "    orders[(orders['group']=='B') & np.logical_not(orders['visitor_id'].isin(abnormal_users))]['revenue']\n",
    "                  )"
   ]
  },
  {
   "cell_type": "code",
   "execution_count": 49,
   "metadata": {},
   "outputs": [
    {
     "name": "stdout",
     "output_type": "stream",
     "text": [
      "P-value: 0.829\n",
      "Rejecting H0 was not succesful, we can not consider that there is a significant statistical difference between the groups\n",
      "Relative increase В to А: 28.660%\n"
     ]
    }
   ],
   "source": [
    "#for raw data\n",
    "\n",
    "stat_significance(orders[orders['group']=='A']['revenue'], orders[orders['group']=='B']['revenue'])"
   ]
  },
  {
   "cell_type": "markdown",
   "metadata": {},
   "source": [
    "For both groups for the raw and purified data we could not reject the null hypothesis about the absence of a difference in the average revenue. "
   ]
  },
  {
   "cell_type": "markdown",
   "metadata": {},
   "source": [
    "## Conclusion\n",
    "\n",
    "**Data:**\n",
    "\n",
    "- list of hypotheses (file hypothesis.csv)\n",
    "- information about user orders in the online store (file orders.csv.)\n",
    "- information about user visits to the online store (file visitors.csv)\n",
    "\n",
    "**Conclusion for prioritization of hypotheses:**\n",
    "\n",
    "*The best hypotheses are as follows:*\n",
    "\n",
    "- \"Launch a promotion giving a discount on a product on your birthday\"\n",
    "- \"Add two new traffic channels, which will attract 30% more users\"\n",
    "- \"Add a subscription form to all the main pages to collect a customer base for email newsletters\"\n",
    "\n",
    "* But! if user coverage of users should be taken into account, then the best hypotheses are the following:*\n",
    "\n",
    "- \"Add a subscription form to all the main pages to collect a customer base for email newsletters\",\n",
    "- \"Add product recommendation blocks to the online store's website to increase conversion and average order receipt\",\n",
    "- \"Add two new traffic channels, which will attract 30% more users.\"\n",
    "\n",
    "**Conclusion for  A/B test analysis:**\n",
    "\n",
    "- There is difference between groups in the average number of orders per user. The relative increase in group B is 16-19% for clean and raw data.\n",
    "- There is no  statistical significant difference between the groups in the average revenue.\n"
   ]
  }
 ],
 "metadata": {
  "ExecuteTimeLog": [
   {
    "duration": 1420,
    "start_time": "2023-01-15T19:29:31.440Z"
   },
   {
    "duration": 4,
    "start_time": "2023-01-15T19:30:50.297Z"
   },
   {
    "duration": 3,
    "start_time": "2023-01-15T19:32:03.355Z"
   },
   {
    "duration": 5,
    "start_time": "2023-01-15T19:32:38.206Z"
   },
   {
    "duration": 218,
    "start_time": "2023-01-15T19:33:04.339Z"
   },
   {
    "duration": 23,
    "start_time": "2023-01-15T19:33:34.827Z"
   },
   {
    "duration": 19,
    "start_time": "2023-01-15T19:34:01.654Z"
   },
   {
    "duration": 16,
    "start_time": "2023-01-15T19:34:29.432Z"
   },
   {
    "duration": 5,
    "start_time": "2023-01-15T19:39:55.761Z"
   },
   {
    "duration": 5,
    "start_time": "2023-01-15T19:40:30.875Z"
   },
   {
    "duration": 5,
    "start_time": "2023-01-15T19:40:32.949Z"
   },
   {
    "duration": 6,
    "start_time": "2023-01-15T19:41:29.366Z"
   },
   {
    "duration": 7,
    "start_time": "2023-01-15T19:41:44.860Z"
   },
   {
    "duration": 5,
    "start_time": "2023-01-15T19:42:07.519Z"
   },
   {
    "duration": 12,
    "start_time": "2023-01-15T19:46:02.720Z"
   },
   {
    "duration": 372,
    "start_time": "2023-01-15T19:47:33.148Z"
   },
   {
    "duration": 6,
    "start_time": "2023-01-15T19:47:56.950Z"
   },
   {
    "duration": 308,
    "start_time": "2023-01-15T19:48:00.648Z"
   },
   {
    "duration": 12,
    "start_time": "2023-01-15T19:49:33.432Z"
   },
   {
    "duration": 103,
    "start_time": "2023-01-15T19:50:48.841Z"
   },
   {
    "duration": 332,
    "start_time": "2023-01-15T19:51:31.072Z"
   },
   {
    "duration": 280,
    "start_time": "2023-01-15T19:52:14.049Z"
   },
   {
    "duration": 314,
    "start_time": "2023-01-15T19:52:30.964Z"
   },
   {
    "duration": 384,
    "start_time": "2023-01-15T19:52:44.028Z"
   },
   {
    "duration": 10,
    "start_time": "2023-01-15T19:56:13.403Z"
   },
   {
    "duration": 194,
    "start_time": "2023-01-15T20:06:32.235Z"
   },
   {
    "duration": 168,
    "start_time": "2023-01-15T20:07:00.850Z"
   },
   {
    "duration": 130,
    "start_time": "2023-01-15T20:07:08.476Z"
   },
   {
    "duration": 7,
    "start_time": "2023-01-15T20:07:32.339Z"
   },
   {
    "duration": 10,
    "start_time": "2023-01-15T20:08:22.279Z"
   },
   {
    "duration": 5,
    "start_time": "2023-01-15T20:11:10.872Z"
   },
   {
    "duration": 313,
    "start_time": "2023-01-15T20:11:16.795Z"
   },
   {
    "duration": 378,
    "start_time": "2023-01-15T20:11:22.941Z"
   },
   {
    "duration": 363,
    "start_time": "2023-01-15T20:12:13.616Z"
   },
   {
    "duration": 320,
    "start_time": "2023-01-15T20:16:57.366Z"
   },
   {
    "duration": 311,
    "start_time": "2023-01-15T20:17:16.544Z"
   },
   {
    "duration": 280,
    "start_time": "2023-01-15T20:17:29.174Z"
   },
   {
    "duration": 287,
    "start_time": "2023-01-15T20:18:07.945Z"
   },
   {
    "duration": 273,
    "start_time": "2023-01-15T20:18:22.210Z"
   },
   {
    "duration": 449,
    "start_time": "2023-01-15T20:28:16.074Z"
   },
   {
    "duration": 308,
    "start_time": "2023-01-15T20:32:15.366Z"
   },
   {
    "duration": 309,
    "start_time": "2023-01-15T20:32:24.186Z"
   },
   {
    "duration": 466,
    "start_time": "2023-01-15T20:39:07.023Z"
   },
   {
    "duration": 10,
    "start_time": "2023-01-15T20:52:03.361Z"
   },
   {
    "duration": 169,
    "start_time": "2023-01-15T20:52:42.261Z"
   },
   {
    "duration": 6,
    "start_time": "2023-01-15T21:00:00.948Z"
   },
   {
    "duration": 7,
    "start_time": "2023-01-15T21:04:15.937Z"
   },
   {
    "duration": 170,
    "start_time": "2023-01-15T21:05:07.160Z"
   },
   {
    "duration": 216,
    "start_time": "2023-01-15T21:09:10.357Z"
   },
   {
    "duration": 5,
    "start_time": "2023-01-15T21:14:07.459Z"
   },
   {
    "duration": 213,
    "start_time": "2023-01-15T21:23:49.943Z"
   },
   {
    "duration": 140,
    "start_time": "2023-01-15T21:27:42.576Z"
   },
   {
    "duration": 8,
    "start_time": "2023-01-15T21:29:52.690Z"
   },
   {
    "duration": 87,
    "start_time": "2023-01-15T21:30:29.385Z"
   },
   {
    "duration": 4,
    "start_time": "2023-01-15T21:31:14.980Z"
   },
   {
    "duration": 19,
    "start_time": "2023-01-15T21:31:29.772Z"
   },
   {
    "duration": 8,
    "start_time": "2023-01-15T21:52:11.801Z"
   },
   {
    "duration": 12,
    "start_time": "2023-01-15T22:00:12.364Z"
   },
   {
    "duration": 13,
    "start_time": "2023-01-15T22:00:29.887Z"
   },
   {
    "duration": 8,
    "start_time": "2023-01-15T22:03:14.368Z"
   },
   {
    "duration": 24,
    "start_time": "2023-01-15T22:04:25.473Z"
   },
   {
    "duration": 10,
    "start_time": "2023-01-15T22:07:11.064Z"
   },
   {
    "duration": 8,
    "start_time": "2023-01-15T22:25:27.125Z"
   },
   {
    "duration": 20,
    "start_time": "2023-01-15T22:25:53.907Z"
   },
   {
    "duration": 14,
    "start_time": "2023-01-15T22:26:13.293Z"
   },
   {
    "duration": 1316,
    "start_time": "2023-01-16T02:09:40.927Z"
   },
   {
    "duration": 4,
    "start_time": "2023-01-16T02:09:42.245Z"
   },
   {
    "duration": 204,
    "start_time": "2023-01-16T02:09:42.251Z"
   },
   {
    "duration": 10,
    "start_time": "2023-01-16T02:09:42.457Z"
   },
   {
    "duration": 32,
    "start_time": "2023-01-16T02:09:42.468Z"
   },
   {
    "duration": 25,
    "start_time": "2023-01-16T02:09:42.502Z"
   },
   {
    "duration": 4,
    "start_time": "2023-01-16T02:09:42.528Z"
   },
   {
    "duration": 8,
    "start_time": "2023-01-16T02:09:42.534Z"
   },
   {
    "duration": 5,
    "start_time": "2023-01-16T02:09:42.543Z"
   },
   {
    "duration": 5,
    "start_time": "2023-01-16T02:09:42.551Z"
   },
   {
    "duration": 13,
    "start_time": "2023-01-16T02:09:42.557Z"
   },
   {
    "duration": 5,
    "start_time": "2023-01-16T02:09:42.572Z"
   },
   {
    "duration": 14,
    "start_time": "2023-01-16T02:09:42.578Z"
   },
   {
    "duration": 33,
    "start_time": "2023-01-16T02:09:42.593Z"
   },
   {
    "duration": 13,
    "start_time": "2023-01-16T02:09:42.628Z"
   },
   {
    "duration": 167,
    "start_time": "2023-01-16T02:09:42.643Z"
   },
   {
    "duration": 125,
    "start_time": "2023-01-16T02:09:42.817Z"
   },
   {
    "duration": 5,
    "start_time": "2023-01-16T02:09:42.944Z"
   },
   {
    "duration": 23,
    "start_time": "2023-01-16T02:09:42.950Z"
   },
   {
    "duration": 398,
    "start_time": "2023-01-16T02:09:42.974Z"
   },
   {
    "duration": 286,
    "start_time": "2023-01-16T02:09:43.374Z"
   },
   {
    "duration": 425,
    "start_time": "2023-01-16T02:09:43.662Z"
   },
   {
    "duration": 341,
    "start_time": "2023-01-16T02:09:44.088Z"
   },
   {
    "duration": 389,
    "start_time": "2023-01-16T02:09:44.430Z"
   },
   {
    "duration": 12,
    "start_time": "2023-01-16T02:09:44.821Z"
   },
   {
    "duration": 195,
    "start_time": "2023-01-16T02:09:44.834Z"
   },
   {
    "duration": 5,
    "start_time": "2023-01-16T02:09:45.031Z"
   },
   {
    "duration": 12,
    "start_time": "2023-01-16T02:09:45.038Z"
   },
   {
    "duration": 192,
    "start_time": "2023-01-16T02:09:45.052Z"
   },
   {
    "duration": 285,
    "start_time": "2023-01-16T02:09:45.245Z"
   },
   {
    "duration": 4,
    "start_time": "2023-01-16T02:09:45.532Z"
   },
   {
    "duration": 211,
    "start_time": "2023-01-16T02:09:45.538Z"
   },
   {
    "duration": 137,
    "start_time": "2023-01-16T02:09:45.750Z"
   },
   {
    "duration": 6,
    "start_time": "2023-01-16T02:09:45.889Z"
   },
   {
    "duration": 31,
    "start_time": "2023-01-16T02:09:45.896Z"
   },
   {
    "duration": 28,
    "start_time": "2023-01-16T02:09:45.928Z"
   },
   {
    "duration": 8,
    "start_time": "2023-01-16T02:09:45.958Z"
   },
   {
    "duration": 12,
    "start_time": "2023-01-16T02:09:45.968Z"
   },
   {
    "duration": 8,
    "start_time": "2023-01-16T02:09:45.981Z"
   },
   {
    "duration": 46,
    "start_time": "2023-01-16T02:09:45.991Z"
   },
   {
    "duration": 9,
    "start_time": "2023-01-16T02:09:46.038Z"
   },
   {
    "duration": 3,
    "start_time": "2023-01-16T02:44:09.643Z"
   },
   {
    "duration": 13,
    "start_time": "2023-01-16T02:44:09.648Z"
   },
   {
    "duration": 78,
    "start_time": "2023-01-16T02:44:09.663Z"
   },
   {
    "duration": 9,
    "start_time": "2023-01-16T02:44:09.742Z"
   },
   {
    "duration": 17,
    "start_time": "2023-01-16T02:44:09.754Z"
   },
   {
    "duration": 16,
    "start_time": "2023-01-16T02:44:09.772Z"
   },
   {
    "duration": 5,
    "start_time": "2023-01-16T02:44:09.790Z"
   },
   {
    "duration": 6,
    "start_time": "2023-01-16T02:44:09.796Z"
   },
   {
    "duration": 6,
    "start_time": "2023-01-16T02:44:09.804Z"
   },
   {
    "duration": 5,
    "start_time": "2023-01-16T02:44:09.815Z"
   },
   {
    "duration": 8,
    "start_time": "2023-01-16T02:44:09.821Z"
   },
   {
    "duration": 5,
    "start_time": "2023-01-16T02:44:09.830Z"
   },
   {
    "duration": 10,
    "start_time": "2023-01-16T02:44:09.836Z"
   },
   {
    "duration": 10,
    "start_time": "2023-01-16T02:44:09.847Z"
   },
   {
    "duration": 11,
    "start_time": "2023-01-16T02:44:09.859Z"
   },
   {
    "duration": 186,
    "start_time": "2023-01-16T02:44:09.872Z"
   },
   {
    "duration": 125,
    "start_time": "2023-01-16T02:44:10.060Z"
   },
   {
    "duration": 6,
    "start_time": "2023-01-16T02:44:10.187Z"
   },
   {
    "duration": 25,
    "start_time": "2023-01-16T02:44:10.194Z"
   },
   {
    "duration": 278,
    "start_time": "2023-01-16T02:44:10.220Z"
   },
   {
    "duration": 269,
    "start_time": "2023-01-16T02:44:10.499Z"
   },
   {
    "duration": 372,
    "start_time": "2023-01-16T02:44:10.771Z"
   },
   {
    "duration": 292,
    "start_time": "2023-01-16T02:44:11.144Z"
   },
   {
    "duration": 362,
    "start_time": "2023-01-16T02:44:11.437Z"
   },
   {
    "duration": 15,
    "start_time": "2023-01-16T02:44:11.801Z"
   },
   {
    "duration": 157,
    "start_time": "2023-01-16T02:44:11.818Z"
   },
   {
    "duration": 5,
    "start_time": "2023-01-16T02:44:11.977Z"
   },
   {
    "duration": 9,
    "start_time": "2023-01-16T02:44:11.984Z"
   },
   {
    "duration": 210,
    "start_time": "2023-01-16T02:44:11.995Z"
   },
   {
    "duration": 198,
    "start_time": "2023-01-16T02:44:12.206Z"
   },
   {
    "duration": 10,
    "start_time": "2023-01-16T02:44:12.406Z"
   },
   {
    "duration": 232,
    "start_time": "2023-01-16T02:44:12.418Z"
   },
   {
    "duration": 123,
    "start_time": "2023-01-16T02:44:12.652Z"
   },
   {
    "duration": 5,
    "start_time": "2023-01-16T02:44:12.777Z"
   },
   {
    "duration": 6,
    "start_time": "2023-01-16T02:44:12.784Z"
   },
   {
    "duration": 31,
    "start_time": "2023-01-16T02:44:12.791Z"
   },
   {
    "duration": 7,
    "start_time": "2023-01-16T02:44:12.824Z"
   },
   {
    "duration": 12,
    "start_time": "2023-01-16T02:44:12.833Z"
   },
   {
    "duration": 8,
    "start_time": "2023-01-16T02:44:12.847Z"
   },
   {
    "duration": 22,
    "start_time": "2023-01-16T02:44:12.856Z"
   },
   {
    "duration": 41,
    "start_time": "2023-01-16T02:44:12.880Z"
   },
   {
    "duration": 50,
    "start_time": "2023-01-16T10:16:50.687Z"
   },
   {
    "duration": 1627,
    "start_time": "2023-01-16T10:22:20.838Z"
   },
   {
    "duration": 5,
    "start_time": "2023-01-16T10:22:22.468Z"
   },
   {
    "duration": 251,
    "start_time": "2023-01-16T10:22:22.475Z"
   },
   {
    "duration": 12,
    "start_time": "2023-01-16T10:22:22.728Z"
   },
   {
    "duration": 19,
    "start_time": "2023-01-16T10:22:22.742Z"
   },
   {
    "duration": 28,
    "start_time": "2023-01-16T10:22:22.763Z"
   },
   {
    "duration": 11,
    "start_time": "2023-01-16T10:22:22.793Z"
   },
   {
    "duration": 7,
    "start_time": "2023-01-16T10:22:22.806Z"
   },
   {
    "duration": 9,
    "start_time": "2023-01-16T10:22:22.814Z"
   },
   {
    "duration": 12,
    "start_time": "2023-01-16T10:22:22.825Z"
   },
   {
    "duration": 6,
    "start_time": "2023-01-16T10:22:22.839Z"
   },
   {
    "duration": 6,
    "start_time": "2023-01-16T10:22:22.846Z"
   },
   {
    "duration": 15,
    "start_time": "2023-01-16T10:22:22.853Z"
   },
   {
    "duration": 10,
    "start_time": "2023-01-16T10:22:22.869Z"
   },
   {
    "duration": 14,
    "start_time": "2023-01-16T10:22:22.880Z"
   },
   {
    "duration": 227,
    "start_time": "2023-01-16T10:22:22.895Z"
   },
   {
    "duration": 134,
    "start_time": "2023-01-16T10:22:23.123Z"
   },
   {
    "duration": 8,
    "start_time": "2023-01-16T10:22:23.259Z"
   },
   {
    "duration": 26,
    "start_time": "2023-01-16T10:22:23.268Z"
   },
   {
    "duration": 382,
    "start_time": "2023-01-16T10:22:23.296Z"
   },
   {
    "duration": 302,
    "start_time": "2023-01-16T10:22:23.680Z"
   },
   {
    "duration": 500,
    "start_time": "2023-01-16T10:22:23.985Z"
   },
   {
    "duration": 356,
    "start_time": "2023-01-16T10:22:34.285Z"
   },
   {
    "duration": 326,
    "start_time": "2023-01-16T10:22:48.395Z"
   },
   {
    "duration": 360,
    "start_time": "2023-01-16T10:27:22.866Z"
   },
   {
    "duration": 65,
    "start_time": "2023-01-16T10:32:01.702Z"
   },
   {
    "duration": 11,
    "start_time": "2023-01-16T10:32:04.760Z"
   },
   {
    "duration": 190,
    "start_time": "2023-01-16T10:32:05.445Z"
   },
   {
    "duration": 261,
    "start_time": "2023-01-16T10:36:59.490Z"
   },
   {
    "duration": 283,
    "start_time": "2023-01-16T10:42:12.461Z"
   },
   {
    "duration": 200,
    "start_time": "2023-01-16T10:57:08.758Z"
   },
   {
    "duration": 246,
    "start_time": "2023-01-16T10:57:18.210Z"
   },
   {
    "duration": 211,
    "start_time": "2023-01-16T11:00:18.717Z"
   },
   {
    "duration": 211,
    "start_time": "2023-01-16T11:00:47.022Z"
   },
   {
    "duration": 208,
    "start_time": "2023-01-16T11:01:29.489Z"
   },
   {
    "duration": 215,
    "start_time": "2023-01-16T11:07:52.654Z"
   },
   {
    "duration": 240,
    "start_time": "2023-01-16T11:27:49.139Z"
   },
   {
    "duration": 10,
    "start_time": "2023-01-16T11:28:19.392Z"
   },
   {
    "duration": 3,
    "start_time": "2023-01-16T11:28:39.454Z"
   },
   {
    "duration": 11,
    "start_time": "2023-01-16T11:28:39.462Z"
   },
   {
    "duration": 74,
    "start_time": "2023-01-16T11:28:39.475Z"
   },
   {
    "duration": 8,
    "start_time": "2023-01-16T11:28:39.551Z"
   },
   {
    "duration": 27,
    "start_time": "2023-01-16T11:28:39.561Z"
   },
   {
    "duration": 17,
    "start_time": "2023-01-16T11:28:39.590Z"
   },
   {
    "duration": 12,
    "start_time": "2023-01-16T11:28:39.609Z"
   },
   {
    "duration": 17,
    "start_time": "2023-01-16T11:28:39.622Z"
   },
   {
    "duration": 15,
    "start_time": "2023-01-16T11:28:39.640Z"
   },
   {
    "duration": 16,
    "start_time": "2023-01-16T11:28:39.657Z"
   },
   {
    "duration": 14,
    "start_time": "2023-01-16T11:28:39.674Z"
   },
   {
    "duration": 13,
    "start_time": "2023-01-16T11:28:39.689Z"
   },
   {
    "duration": 24,
    "start_time": "2023-01-16T11:28:39.703Z"
   },
   {
    "duration": 26,
    "start_time": "2023-01-16T11:28:39.728Z"
   },
   {
    "duration": 17,
    "start_time": "2023-01-16T11:28:39.757Z"
   },
   {
    "duration": 167,
    "start_time": "2023-01-16T11:28:39.776Z"
   },
   {
    "duration": 140,
    "start_time": "2023-01-16T11:28:39.945Z"
   },
   {
    "duration": 6,
    "start_time": "2023-01-16T11:28:40.087Z"
   },
   {
    "duration": 15,
    "start_time": "2023-01-16T11:28:40.095Z"
   },
   {
    "duration": 332,
    "start_time": "2023-01-16T11:28:40.112Z"
   },
   {
    "duration": 310,
    "start_time": "2023-01-16T11:28:40.446Z"
   },
   {
    "duration": 404,
    "start_time": "2023-01-16T11:28:40.757Z"
   },
   {
    "duration": 345,
    "start_time": "2023-01-16T11:28:41.162Z"
   },
   {
    "duration": 439,
    "start_time": "2023-01-16T11:28:41.509Z"
   },
   {
    "duration": 12,
    "start_time": "2023-01-16T11:28:41.950Z"
   },
   {
    "duration": 296,
    "start_time": "2023-01-16T11:28:41.964Z"
   },
   {
    "duration": 5,
    "start_time": "2023-01-16T11:28:42.262Z"
   },
   {
    "duration": 17,
    "start_time": "2023-01-16T11:28:42.269Z"
   },
   {
    "duration": 298,
    "start_time": "2023-01-16T11:28:42.288Z"
   },
   {
    "duration": 252,
    "start_time": "2023-01-16T11:28:42.589Z"
   },
   {
    "duration": 5,
    "start_time": "2023-01-16T11:28:42.843Z"
   },
   {
    "duration": 233,
    "start_time": "2023-01-16T11:28:42.850Z"
   },
   {
    "duration": 151,
    "start_time": "2023-01-16T11:28:48.912Z"
   },
   {
    "duration": 7,
    "start_time": "2023-01-16T11:28:50.939Z"
   },
   {
    "duration": 4,
    "start_time": "2023-01-16T11:28:56.470Z"
   },
   {
    "duration": 9,
    "start_time": "2023-01-16T11:30:16.856Z"
   },
   {
    "duration": 53,
    "start_time": "2023-01-16T11:31:06.992Z"
   },
   {
    "duration": 10,
    "start_time": "2023-01-16T11:47:22.954Z"
   },
   {
    "duration": 365,
    "start_time": "2023-01-16T11:48:14.238Z"
   },
   {
    "duration": 217,
    "start_time": "2023-01-16T12:07:07.462Z"
   },
   {
    "duration": 202,
    "start_time": "2023-01-16T12:07:47.404Z"
   },
   {
    "duration": 23,
    "start_time": "2023-01-16T14:44:28.035Z"
   },
   {
    "duration": 56,
    "start_time": "2023-01-16T14:56:44.112Z"
   },
   {
    "duration": 8,
    "start_time": "2023-01-16T15:13:02.869Z"
   },
   {
    "duration": 9,
    "start_time": "2023-01-16T15:21:06.998Z"
   },
   {
    "duration": 304,
    "start_time": "2023-01-16T15:31:10.741Z"
   },
   {
    "duration": 9,
    "start_time": "2023-01-16T15:37:08.562Z"
   },
   {
    "duration": 15,
    "start_time": "2023-01-16T15:42:04.631Z"
   },
   {
    "duration": 6,
    "start_time": "2023-01-16T15:45:58.198Z"
   },
   {
    "duration": 5,
    "start_time": "2023-01-16T15:47:04.279Z"
   },
   {
    "duration": 6,
    "start_time": "2023-01-16T15:47:45.652Z"
   },
   {
    "duration": 5,
    "start_time": "2023-01-16T15:50:09.668Z"
   },
   {
    "duration": 16,
    "start_time": "2023-01-16T15:50:10.248Z"
   },
   {
    "duration": 3,
    "start_time": "2023-01-16T15:56:42.681Z"
   },
   {
    "duration": 4,
    "start_time": "2023-01-16T15:57:55.778Z"
   },
   {
    "duration": 3,
    "start_time": "2023-01-16T15:58:05.766Z"
   },
   {
    "duration": 12,
    "start_time": "2023-01-16T15:59:39.121Z"
   },
   {
    "duration": 6,
    "start_time": "2023-01-16T16:00:22.290Z"
   },
   {
    "duration": 4,
    "start_time": "2023-01-16T16:02:17.364Z"
   },
   {
    "duration": 6,
    "start_time": "2023-01-16T16:02:22.145Z"
   },
   {
    "duration": 3,
    "start_time": "2023-01-16T16:03:07.321Z"
   },
   {
    "duration": 16,
    "start_time": "2023-01-16T16:03:07.329Z"
   },
   {
    "duration": 97,
    "start_time": "2023-01-16T16:03:07.347Z"
   },
   {
    "duration": 7,
    "start_time": "2023-01-16T16:03:07.446Z"
   },
   {
    "duration": 21,
    "start_time": "2023-01-16T16:03:07.455Z"
   },
   {
    "duration": 37,
    "start_time": "2023-01-16T16:03:07.479Z"
   },
   {
    "duration": 12,
    "start_time": "2023-01-16T16:03:07.518Z"
   },
   {
    "duration": 19,
    "start_time": "2023-01-16T16:03:07.532Z"
   },
   {
    "duration": 22,
    "start_time": "2023-01-16T16:03:07.553Z"
   },
   {
    "duration": 22,
    "start_time": "2023-01-16T16:03:07.577Z"
   },
   {
    "duration": 17,
    "start_time": "2023-01-16T16:03:07.600Z"
   },
   {
    "duration": 14,
    "start_time": "2023-01-16T16:03:07.618Z"
   },
   {
    "duration": 22,
    "start_time": "2023-01-16T16:03:07.634Z"
   },
   {
    "duration": 19,
    "start_time": "2023-01-16T16:03:07.657Z"
   },
   {
    "duration": 23,
    "start_time": "2023-01-16T16:03:07.679Z"
   },
   {
    "duration": 173,
    "start_time": "2023-01-16T16:03:07.704Z"
   },
   {
    "duration": 138,
    "start_time": "2023-01-16T16:03:07.879Z"
   },
   {
    "duration": 7,
    "start_time": "2023-01-16T16:03:08.019Z"
   },
   {
    "duration": 28,
    "start_time": "2023-01-16T16:03:08.035Z"
   },
   {
    "duration": 340,
    "start_time": "2023-01-16T16:03:08.064Z"
   },
   {
    "duration": 329,
    "start_time": "2023-01-16T16:03:08.406Z"
   },
   {
    "duration": 419,
    "start_time": "2023-01-16T16:03:08.736Z"
   },
   {
    "duration": 330,
    "start_time": "2023-01-16T16:03:09.157Z"
   },
   {
    "duration": 473,
    "start_time": "2023-01-16T16:03:09.489Z"
   },
   {
    "duration": 11,
    "start_time": "2023-01-16T16:03:09.963Z"
   },
   {
    "duration": 206,
    "start_time": "2023-01-16T16:03:09.976Z"
   },
   {
    "duration": 5,
    "start_time": "2023-01-16T16:03:10.184Z"
   },
   {
    "duration": 15,
    "start_time": "2023-01-16T16:03:10.191Z"
   },
   {
    "duration": 221,
    "start_time": "2023-01-16T16:03:10.207Z"
   },
   {
    "duration": 213,
    "start_time": "2023-01-16T16:03:10.429Z"
   },
   {
    "duration": 5,
    "start_time": "2023-01-16T16:03:10.644Z"
   },
   {
    "duration": 237,
    "start_time": "2023-01-16T16:03:10.651Z"
   },
   {
    "duration": 143,
    "start_time": "2023-01-16T16:03:10.889Z"
   },
   {
    "duration": 6,
    "start_time": "2023-01-16T16:03:11.035Z"
   },
   {
    "duration": 10,
    "start_time": "2023-01-16T16:03:11.043Z"
   },
   {
    "duration": 33,
    "start_time": "2023-01-16T16:03:11.055Z"
   },
   {
    "duration": 9,
    "start_time": "2023-01-16T16:03:11.090Z"
   },
   {
    "duration": 21,
    "start_time": "2023-01-16T16:03:11.101Z"
   },
   {
    "duration": 22,
    "start_time": "2023-01-16T16:03:11.123Z"
   },
   {
    "duration": 40,
    "start_time": "2023-01-16T16:03:11.147Z"
   },
   {
    "duration": 24,
    "start_time": "2023-01-16T16:03:11.190Z"
   },
   {
    "duration": 11,
    "start_time": "2023-01-16T16:03:11.218Z"
   },
   {
    "duration": 8,
    "start_time": "2023-01-16T16:03:11.235Z"
   },
   {
    "duration": 12,
    "start_time": "2023-01-16T16:03:11.245Z"
   },
   {
    "duration": 9,
    "start_time": "2023-01-16T16:03:11.259Z"
   },
   {
    "duration": 20,
    "start_time": "2023-01-16T16:04:54.019Z"
   },
   {
    "duration": 10,
    "start_time": "2023-01-16T16:38:31.969Z"
   },
   {
    "duration": 26,
    "start_time": "2023-01-16T16:43:48.065Z"
   },
   {
    "duration": 332,
    "start_time": "2023-01-16T16:51:08.714Z"
   },
   {
    "duration": 29,
    "start_time": "2023-01-16T16:53:25.442Z"
   },
   {
    "duration": 26,
    "start_time": "2023-01-16T16:53:30.599Z"
   },
   {
    "duration": 788,
    "start_time": "2023-01-16T17:17:11.064Z"
   },
   {
    "duration": 719,
    "start_time": "2023-01-16T17:17:17.521Z"
   },
   {
    "duration": 5,
    "start_time": "2023-01-16T17:17:22.528Z"
   },
   {
    "duration": 540,
    "start_time": "2023-01-16T17:18:05.734Z"
   },
   {
    "duration": 5,
    "start_time": "2023-01-16T17:18:30.568Z"
   },
   {
    "duration": 11,
    "start_time": "2023-01-16T17:19:26.622Z"
   },
   {
    "duration": 17,
    "start_time": "2023-01-16T17:20:49.327Z"
   },
   {
    "duration": 3,
    "start_time": "2023-01-16T17:24:38.528Z"
   },
   {
    "duration": 10,
    "start_time": "2023-01-16T17:31:03.310Z"
   },
   {
    "duration": 7,
    "start_time": "2023-01-16T17:33:57.523Z"
   },
   {
    "duration": 34,
    "start_time": "2023-01-16T17:35:26.654Z"
   },
   {
    "duration": 30,
    "start_time": "2023-01-16T17:35:34.016Z"
   },
   {
    "duration": 6,
    "start_time": "2023-01-16T17:36:07.523Z"
   },
   {
    "duration": 5,
    "start_time": "2023-01-16T17:36:57.811Z"
   },
   {
    "duration": 5,
    "start_time": "2023-01-16T17:39:31.425Z"
   },
   {
    "duration": 7,
    "start_time": "2023-01-16T17:39:34.194Z"
   },
   {
    "duration": 24,
    "start_time": "2023-01-16T17:39:38.609Z"
   },
   {
    "duration": 1192,
    "start_time": "2023-01-16T17:46:21.237Z"
   },
   {
    "duration": 742,
    "start_time": "2023-01-16T17:46:25.306Z"
   },
   {
    "duration": 16,
    "start_time": "2023-01-16T17:46:50.190Z"
   },
   {
    "duration": 3,
    "start_time": "2023-01-16T17:47:29.912Z"
   },
   {
    "duration": 37,
    "start_time": "2023-01-16T17:47:29.919Z"
   },
   {
    "duration": 83,
    "start_time": "2023-01-16T17:47:29.958Z"
   },
   {
    "duration": 8,
    "start_time": "2023-01-16T17:47:30.043Z"
   },
   {
    "duration": 40,
    "start_time": "2023-01-16T17:47:30.052Z"
   },
   {
    "duration": 35,
    "start_time": "2023-01-16T17:47:30.094Z"
   },
   {
    "duration": 22,
    "start_time": "2023-01-16T17:47:30.131Z"
   },
   {
    "duration": 31,
    "start_time": "2023-01-16T17:47:30.155Z"
   },
   {
    "duration": 40,
    "start_time": "2023-01-16T17:47:30.188Z"
   },
   {
    "duration": 39,
    "start_time": "2023-01-16T17:47:30.230Z"
   },
   {
    "duration": 65,
    "start_time": "2023-01-16T17:47:30.271Z"
   },
   {
    "duration": 42,
    "start_time": "2023-01-16T17:47:30.338Z"
   },
   {
    "duration": 43,
    "start_time": "2023-01-16T17:47:30.382Z"
   },
   {
    "duration": 41,
    "start_time": "2023-01-16T17:47:30.426Z"
   },
   {
    "duration": 40,
    "start_time": "2023-01-16T17:47:30.470Z"
   },
   {
    "duration": 241,
    "start_time": "2023-01-16T17:47:30.511Z"
   },
   {
    "duration": 131,
    "start_time": "2023-01-16T17:47:30.753Z"
   },
   {
    "duration": 6,
    "start_time": "2023-01-16T17:47:30.886Z"
   },
   {
    "duration": 48,
    "start_time": "2023-01-16T17:47:30.893Z"
   },
   {
    "duration": 342,
    "start_time": "2023-01-16T17:47:30.943Z"
   },
   {
    "duration": 312,
    "start_time": "2023-01-16T17:47:31.287Z"
   },
   {
    "duration": 461,
    "start_time": "2023-01-16T17:47:31.601Z"
   },
   {
    "duration": 336,
    "start_time": "2023-01-16T17:47:32.064Z"
   },
   {
    "duration": 552,
    "start_time": "2023-01-16T17:47:32.402Z"
   },
   {
    "duration": 10,
    "start_time": "2023-01-16T17:47:32.956Z"
   },
   {
    "duration": 200,
    "start_time": "2023-01-16T17:47:32.968Z"
   },
   {
    "duration": 5,
    "start_time": "2023-01-16T17:47:33.170Z"
   },
   {
    "duration": 29,
    "start_time": "2023-01-16T17:47:33.177Z"
   },
   {
    "duration": 227,
    "start_time": "2023-01-16T17:47:33.208Z"
   },
   {
    "duration": 231,
    "start_time": "2023-01-16T17:47:33.437Z"
   },
   {
    "duration": 5,
    "start_time": "2023-01-16T17:47:33.670Z"
   },
   {
    "duration": 251,
    "start_time": "2023-01-16T17:47:33.677Z"
   },
   {
    "duration": 162,
    "start_time": "2023-01-16T17:47:33.929Z"
   },
   {
    "duration": 8,
    "start_time": "2023-01-16T17:47:34.093Z"
   },
   {
    "duration": 6,
    "start_time": "2023-01-16T17:47:34.103Z"
   },
   {
    "duration": 40,
    "start_time": "2023-01-16T17:47:34.111Z"
   },
   {
    "duration": 9,
    "start_time": "2023-01-16T17:47:34.153Z"
   },
   {
    "duration": 21,
    "start_time": "2023-01-16T17:47:34.164Z"
   },
   {
    "duration": 10,
    "start_time": "2023-01-16T17:47:34.187Z"
   },
   {
    "duration": 54,
    "start_time": "2023-01-16T17:47:34.199Z"
   },
   {
    "duration": 28,
    "start_time": "2023-01-16T17:47:34.255Z"
   },
   {
    "duration": 10,
    "start_time": "2023-01-16T17:47:34.288Z"
   },
   {
    "duration": 38,
    "start_time": "2023-01-16T17:47:34.300Z"
   },
   {
    "duration": 5,
    "start_time": "2023-01-16T17:47:34.340Z"
   },
   {
    "duration": 4,
    "start_time": "2023-01-16T17:47:40.808Z"
   },
   {
    "duration": 15,
    "start_time": "2023-01-16T17:47:45.588Z"
   },
   {
    "duration": 742,
    "start_time": "2023-01-16T17:48:27.097Z"
   },
   {
    "duration": 27,
    "start_time": "2023-01-16T17:48:51.278Z"
   },
   {
    "duration": 994,
    "start_time": "2023-01-16T17:48:58.208Z"
   },
   {
    "duration": 16,
    "start_time": "2023-01-16T17:51:56.139Z"
   },
   {
    "duration": 335,
    "start_time": "2023-01-16T17:53:17.584Z"
   },
   {
    "duration": 740,
    "start_time": "2023-01-16T17:53:34.356Z"
   },
   {
    "duration": 334,
    "start_time": "2023-01-16T17:54:21.029Z"
   },
   {
    "duration": 309,
    "start_time": "2023-01-16T17:55:30.755Z"
   },
   {
    "duration": 335,
    "start_time": "2023-01-16T17:55:57.154Z"
   },
   {
    "duration": 350,
    "start_time": "2023-01-16T17:59:17.864Z"
   },
   {
    "duration": 386,
    "start_time": "2023-01-16T17:59:22.677Z"
   },
   {
    "duration": 5,
    "start_time": "2023-01-16T18:01:19.283Z"
   },
   {
    "duration": 26,
    "start_time": "2023-01-16T18:01:19.293Z"
   },
   {
    "duration": 112,
    "start_time": "2023-01-16T18:01:19.322Z"
   },
   {
    "duration": 13,
    "start_time": "2023-01-16T18:01:19.436Z"
   },
   {
    "duration": 46,
    "start_time": "2023-01-16T18:01:19.451Z"
   },
   {
    "duration": 22,
    "start_time": "2023-01-16T18:01:19.500Z"
   },
   {
    "duration": 127,
    "start_time": "2023-01-16T18:01:19.524Z"
   },
   {
    "duration": 34,
    "start_time": "2023-01-16T18:01:19.653Z"
   },
   {
    "duration": 17,
    "start_time": "2023-01-16T18:01:19.689Z"
   },
   {
    "duration": 16,
    "start_time": "2023-01-16T18:01:19.708Z"
   },
   {
    "duration": 34,
    "start_time": "2023-01-16T18:01:19.726Z"
   },
   {
    "duration": 6,
    "start_time": "2023-01-16T18:01:19.763Z"
   },
   {
    "duration": 38,
    "start_time": "2023-01-16T18:01:19.771Z"
   },
   {
    "duration": 14,
    "start_time": "2023-01-16T18:01:19.812Z"
   },
   {
    "duration": 28,
    "start_time": "2023-01-16T18:01:19.829Z"
   },
   {
    "duration": 198,
    "start_time": "2023-01-16T18:01:19.859Z"
   },
   {
    "duration": 151,
    "start_time": "2023-01-16T18:01:20.059Z"
   },
   {
    "duration": 8,
    "start_time": "2023-01-16T18:01:20.212Z"
   },
   {
    "duration": 27,
    "start_time": "2023-01-16T18:01:20.221Z"
   },
   {
    "duration": 364,
    "start_time": "2023-01-16T18:01:20.252Z"
   },
   {
    "duration": 354,
    "start_time": "2023-01-16T18:01:20.618Z"
   },
   {
    "duration": 452,
    "start_time": "2023-01-16T18:01:20.974Z"
   },
   {
    "duration": 409,
    "start_time": "2023-01-16T18:01:21.434Z"
   },
   {
    "duration": 464,
    "start_time": "2023-01-16T18:01:21.846Z"
   },
   {
    "duration": 35,
    "start_time": "2023-01-16T18:01:22.312Z"
   },
   {
    "duration": 313,
    "start_time": "2023-01-16T18:01:22.354Z"
   },
   {
    "duration": 6,
    "start_time": "2023-01-16T18:01:22.669Z"
   },
   {
    "duration": 42,
    "start_time": "2023-01-16T18:01:22.677Z"
   },
   {
    "duration": 275,
    "start_time": "2023-01-16T18:01:22.722Z"
   },
   {
    "duration": 246,
    "start_time": "2023-01-16T18:01:22.999Z"
   },
   {
    "duration": 13,
    "start_time": "2023-01-16T18:01:23.254Z"
   },
   {
    "duration": 260,
    "start_time": "2023-01-16T18:01:23.269Z"
   },
   {
    "duration": 229,
    "start_time": "2023-01-16T18:01:23.538Z"
   },
   {
    "duration": 9,
    "start_time": "2023-01-16T18:01:23.769Z"
   },
   {
    "duration": 11,
    "start_time": "2023-01-16T18:01:23.780Z"
   },
   {
    "duration": 56,
    "start_time": "2023-01-16T18:01:23.793Z"
   },
   {
    "duration": 14,
    "start_time": "2023-01-16T18:01:23.853Z"
   },
   {
    "duration": 32,
    "start_time": "2023-01-16T18:01:23.869Z"
   },
   {
    "duration": 26,
    "start_time": "2023-01-16T18:01:23.902Z"
   },
   {
    "duration": 62,
    "start_time": "2023-01-16T18:01:23.930Z"
   },
   {
    "duration": 34,
    "start_time": "2023-01-16T18:01:23.994Z"
   },
   {
    "duration": 24,
    "start_time": "2023-01-16T18:01:24.033Z"
   },
   {
    "duration": 26,
    "start_time": "2023-01-16T18:01:24.061Z"
   },
   {
    "duration": 13,
    "start_time": "2023-01-16T18:01:50.287Z"
   },
   {
    "duration": 25,
    "start_time": "2023-01-16T18:04:28.387Z"
   },
   {
    "duration": 6,
    "start_time": "2023-01-16T18:04:58.535Z"
   },
   {
    "duration": 29,
    "start_time": "2023-01-16T18:05:00.191Z"
   },
   {
    "duration": 314,
    "start_time": "2023-01-16T18:05:01.005Z"
   },
   {
    "duration": 334,
    "start_time": "2023-01-16T18:05:02.981Z"
   },
   {
    "duration": 391,
    "start_time": "2023-01-16T18:25:46.244Z"
   },
   {
    "duration": 336,
    "start_time": "2023-01-16T18:25:49.422Z"
   },
   {
    "duration": 4,
    "start_time": "2023-01-16T18:58:28.650Z"
   },
   {
    "duration": 1514,
    "start_time": "2023-01-17T18:07:49.082Z"
   },
   {
    "duration": 7,
    "start_time": "2023-01-17T18:07:50.598Z"
   },
   {
    "duration": 265,
    "start_time": "2023-01-17T18:07:50.608Z"
   },
   {
    "duration": 15,
    "start_time": "2023-01-17T18:07:50.876Z"
   },
   {
    "duration": 19,
    "start_time": "2023-01-17T18:07:50.893Z"
   },
   {
    "duration": 22,
    "start_time": "2023-01-17T18:07:50.914Z"
   },
   {
    "duration": 8,
    "start_time": "2023-01-17T18:07:50.938Z"
   },
   {
    "duration": 9,
    "start_time": "2023-01-17T18:07:50.948Z"
   },
   {
    "duration": 7,
    "start_time": "2023-01-17T18:07:50.959Z"
   },
   {
    "duration": 9,
    "start_time": "2023-01-17T18:07:50.969Z"
   },
   {
    "duration": 12,
    "start_time": "2023-01-17T18:07:50.980Z"
   },
   {
    "duration": 8,
    "start_time": "2023-01-17T18:07:51.020Z"
   },
   {
    "duration": 16,
    "start_time": "2023-01-17T18:07:51.031Z"
   },
   {
    "duration": 13,
    "start_time": "2023-01-17T18:07:51.049Z"
   },
   {
    "duration": 13,
    "start_time": "2023-01-17T18:07:51.064Z"
   },
   {
    "duration": 229,
    "start_time": "2023-01-17T18:07:51.079Z"
   },
   {
    "duration": 160,
    "start_time": "2023-01-17T18:07:51.310Z"
   },
   {
    "duration": 11,
    "start_time": "2023-01-17T18:07:51.472Z"
   },
   {
    "duration": 24,
    "start_time": "2023-01-17T18:07:51.485Z"
   },
   {
    "duration": 441,
    "start_time": "2023-01-17T18:07:51.520Z"
   },
   {
    "duration": 343,
    "start_time": "2023-01-17T18:07:51.964Z"
   },
   {
    "duration": 487,
    "start_time": "2023-01-17T18:07:52.310Z"
   },
   {
    "duration": 421,
    "start_time": "2023-01-17T18:07:52.799Z"
   },
   {
    "duration": 457,
    "start_time": "2023-01-17T18:07:53.223Z"
   },
   {
    "duration": 17,
    "start_time": "2023-01-17T18:07:53.683Z"
   },
   {
    "duration": 230,
    "start_time": "2023-01-17T18:07:53.702Z"
   },
   {
    "duration": 7,
    "start_time": "2023-01-17T18:07:53.934Z"
   },
   {
    "duration": 11,
    "start_time": "2023-01-17T18:07:53.947Z"
   },
   {
    "duration": 247,
    "start_time": "2023-01-17T18:07:53.960Z"
   },
   {
    "duration": 327,
    "start_time": "2023-01-17T18:07:54.209Z"
   },
   {
    "duration": 5,
    "start_time": "2023-01-17T18:07:54.538Z"
   },
   {
    "duration": 297,
    "start_time": "2023-01-17T18:07:54.545Z"
   },
   {
    "duration": 240,
    "start_time": "2023-01-17T18:07:54.845Z"
   },
   {
    "duration": 13,
    "start_time": "2023-01-17T18:07:55.087Z"
   },
   {
    "duration": 18,
    "start_time": "2023-01-17T18:07:55.103Z"
   },
   {
    "duration": 31,
    "start_time": "2023-01-17T18:07:55.123Z"
   },
   {
    "duration": 9,
    "start_time": "2023-01-17T18:07:55.156Z"
   },
   {
    "duration": 14,
    "start_time": "2023-01-17T18:07:55.167Z"
   },
   {
    "duration": 8,
    "start_time": "2023-01-17T18:07:55.183Z"
   },
   {
    "duration": 52,
    "start_time": "2023-01-17T18:07:55.192Z"
   },
   {
    "duration": 24,
    "start_time": "2023-01-17T18:07:55.246Z"
   },
   {
    "duration": 12,
    "start_time": "2023-01-17T18:07:55.271Z"
   },
   {
    "duration": 42,
    "start_time": "2023-01-17T18:07:55.285Z"
   },
   {
    "duration": 16,
    "start_time": "2023-01-17T18:07:55.328Z"
   },
   {
    "duration": 7,
    "start_time": "2023-01-17T18:07:55.346Z"
   },
   {
    "duration": 32,
    "start_time": "2023-01-17T18:07:55.355Z"
   },
   {
    "duration": 381,
    "start_time": "2023-01-17T18:07:55.389Z"
   },
   {
    "duration": 368,
    "start_time": "2023-01-17T18:07:55.772Z"
   },
   {
    "duration": 964,
    "start_time": "2023-01-17T18:08:43.318Z"
   },
   {
    "duration": 13,
    "start_time": "2023-01-17T18:08:59.424Z"
   },
   {
    "duration": 15,
    "start_time": "2023-01-17T18:09:09.359Z"
   },
   {
    "duration": 12,
    "start_time": "2023-01-17T18:11:45.919Z"
   },
   {
    "duration": 11,
    "start_time": "2023-01-17T18:12:59.854Z"
   },
   {
    "duration": 12,
    "start_time": "2023-01-17T18:13:50.968Z"
   },
   {
    "duration": 1264,
    "start_time": "2023-01-17T18:13:59.497Z"
   },
   {
    "duration": 5,
    "start_time": "2023-01-17T18:14:00.763Z"
   },
   {
    "duration": 99,
    "start_time": "2023-01-17T18:14:00.770Z"
   },
   {
    "duration": 12,
    "start_time": "2023-01-17T18:14:00.870Z"
   },
   {
    "duration": 39,
    "start_time": "2023-01-17T18:14:00.883Z"
   },
   {
    "duration": 34,
    "start_time": "2023-01-17T18:14:00.924Z"
   },
   {
    "duration": 36,
    "start_time": "2023-01-17T18:14:00.960Z"
   },
   {
    "duration": 46,
    "start_time": "2023-01-17T18:14:00.997Z"
   },
   {
    "duration": 18,
    "start_time": "2023-01-17T18:14:01.044Z"
   },
   {
    "duration": 38,
    "start_time": "2023-01-17T18:14:01.065Z"
   },
   {
    "duration": 27,
    "start_time": "2023-01-17T18:14:01.104Z"
   },
   {
    "duration": 35,
    "start_time": "2023-01-17T18:14:01.133Z"
   },
   {
    "duration": 23,
    "start_time": "2023-01-17T18:14:01.170Z"
   },
   {
    "duration": 22,
    "start_time": "2023-01-17T18:14:01.194Z"
   },
   {
    "duration": 21,
    "start_time": "2023-01-17T18:14:01.218Z"
   },
   {
    "duration": 189,
    "start_time": "2023-01-17T18:14:01.240Z"
   },
   {
    "duration": 136,
    "start_time": "2023-01-17T18:14:01.431Z"
   },
   {
    "duration": 8,
    "start_time": "2023-01-17T18:14:01.569Z"
   },
   {
    "duration": 37,
    "start_time": "2023-01-17T18:14:01.578Z"
   },
   {
    "duration": 424,
    "start_time": "2023-01-17T18:14:01.617Z"
   },
   {
    "duration": 338,
    "start_time": "2023-01-17T18:14:02.042Z"
   },
   {
    "duration": 423,
    "start_time": "2023-01-17T18:14:02.381Z"
   },
   {
    "duration": 370,
    "start_time": "2023-01-17T18:14:02.806Z"
   },
   {
    "duration": 398,
    "start_time": "2023-01-17T18:14:03.178Z"
   },
   {
    "duration": 12,
    "start_time": "2023-01-17T18:14:03.577Z"
   },
   {
    "duration": 197,
    "start_time": "2023-01-17T18:14:03.590Z"
   },
   {
    "duration": 5,
    "start_time": "2023-01-17T18:14:03.789Z"
   },
   {
    "duration": 7,
    "start_time": "2023-01-17T18:14:03.798Z"
   },
   {
    "duration": 218,
    "start_time": "2023-01-17T18:14:03.821Z"
   },
   {
    "duration": 302,
    "start_time": "2023-01-17T18:14:04.040Z"
   },
   {
    "duration": 6,
    "start_time": "2023-01-17T18:14:04.344Z"
   },
   {
    "duration": 240,
    "start_time": "2023-01-17T18:14:04.352Z"
   },
   {
    "duration": 182,
    "start_time": "2023-01-17T18:14:04.594Z"
   },
   {
    "duration": 8,
    "start_time": "2023-01-17T18:14:04.778Z"
   },
   {
    "duration": 10,
    "start_time": "2023-01-17T18:14:04.788Z"
   },
   {
    "duration": 39,
    "start_time": "2023-01-17T18:14:04.800Z"
   },
   {
    "duration": 12,
    "start_time": "2023-01-17T18:14:04.842Z"
   },
   {
    "duration": 15,
    "start_time": "2023-01-17T18:14:04.856Z"
   },
   {
    "duration": 14,
    "start_time": "2023-01-17T18:14:04.874Z"
   },
   {
    "duration": 55,
    "start_time": "2023-01-17T18:14:04.891Z"
   },
   {
    "duration": 26,
    "start_time": "2023-01-17T18:14:04.948Z"
   },
   {
    "duration": 10,
    "start_time": "2023-01-17T18:14:04.977Z"
   },
   {
    "duration": 41,
    "start_time": "2023-01-17T18:14:04.990Z"
   },
   {
    "duration": 12,
    "start_time": "2023-01-17T18:14:05.032Z"
   },
   {
    "duration": 27,
    "start_time": "2023-01-17T18:14:05.046Z"
   },
   {
    "duration": 28,
    "start_time": "2023-01-17T18:14:05.077Z"
   },
   {
    "duration": 16,
    "start_time": "2023-01-17T18:14:05.107Z"
   },
   {
    "duration": 7,
    "start_time": "2023-01-17T18:14:05.125Z"
   },
   {
    "duration": 31,
    "start_time": "2023-01-17T18:14:05.134Z"
   },
   {
    "duration": 334,
    "start_time": "2023-01-17T18:14:05.167Z"
   },
   {
    "duration": 349,
    "start_time": "2023-01-17T18:14:05.503Z"
   },
   {
    "duration": 10,
    "start_time": "2023-01-17T18:15:48.702Z"
   },
   {
    "duration": 9,
    "start_time": "2023-01-17T18:16:09.185Z"
   },
   {
    "duration": 12,
    "start_time": "2023-01-17T18:17:20.525Z"
   },
   {
    "duration": 12,
    "start_time": "2023-01-17T18:18:41.892Z"
   },
   {
    "duration": 12,
    "start_time": "2023-01-17T18:18:47.612Z"
   },
   {
    "duration": 15,
    "start_time": "2023-01-17T18:18:52.619Z"
   },
   {
    "duration": 12,
    "start_time": "2023-01-17T18:20:48.203Z"
   },
   {
    "duration": 108,
    "start_time": "2023-01-17T18:21:09.977Z"
   },
   {
    "duration": 22,
    "start_time": "2023-01-17T18:21:16.409Z"
   },
   {
    "duration": 11,
    "start_time": "2023-01-17T18:21:25.093Z"
   },
   {
    "duration": 12,
    "start_time": "2023-01-17T18:21:30.124Z"
   },
   {
    "duration": 1498,
    "start_time": "2023-01-18T19:36:32.899Z"
   },
   {
    "duration": 5,
    "start_time": "2023-01-18T19:36:34.986Z"
   },
   {
    "duration": 176,
    "start_time": "2023-01-18T19:36:37.223Z"
   },
   {
    "duration": 17,
    "start_time": "2023-01-18T19:36:39.155Z"
   },
   {
    "duration": 25,
    "start_time": "2023-01-18T19:36:40.657Z"
   },
   {
    "duration": 18,
    "start_time": "2023-01-18T19:36:41.724Z"
   },
   {
    "duration": 5,
    "start_time": "2023-01-18T19:36:43.623Z"
   },
   {
    "duration": 6,
    "start_time": "2023-01-18T19:36:44.436Z"
   },
   {
    "duration": 6,
    "start_time": "2023-01-18T19:36:45.224Z"
   },
   {
    "duration": 9,
    "start_time": "2023-01-18T19:36:45.824Z"
   },
   {
    "duration": 9,
    "start_time": "2023-01-18T19:36:46.496Z"
   },
   {
    "duration": 7,
    "start_time": "2023-01-18T19:36:47.796Z"
   },
   {
    "duration": 16,
    "start_time": "2023-01-18T19:36:54.303Z"
   },
   {
    "duration": 16,
    "start_time": "2023-01-18T19:36:54.697Z"
   },
   {
    "duration": 20,
    "start_time": "2023-01-18T19:36:55.585Z"
   },
   {
    "duration": 204,
    "start_time": "2023-01-18T19:37:00.705Z"
   },
   {
    "duration": 189,
    "start_time": "2023-01-18T19:37:01.243Z"
   },
   {
    "duration": 9,
    "start_time": "2023-01-18T19:37:02.164Z"
   },
   {
    "duration": 14,
    "start_time": "2023-01-18T19:37:03.086Z"
   },
   {
    "duration": 596,
    "start_time": "2023-01-18T19:37:05.056Z"
   },
   {
    "duration": 374,
    "start_time": "2023-01-18T19:37:13.885Z"
   },
   {
    "duration": 332,
    "start_time": "2023-01-18T19:37:24.125Z"
   },
   {
    "duration": 569,
    "start_time": "2023-01-18T19:38:50.684Z"
   },
   {
    "duration": 423,
    "start_time": "2023-01-18T19:38:56.583Z"
   },
   {
    "duration": 455,
    "start_time": "2023-01-18T19:43:23.663Z"
   },
   {
    "duration": 13,
    "start_time": "2023-01-18T19:43:26.174Z"
   },
   {
    "duration": 209,
    "start_time": "2023-01-18T19:43:26.503Z"
   },
   {
    "duration": 285,
    "start_time": "2023-01-18T19:44:06.983Z"
   },
   {
    "duration": 7,
    "start_time": "2023-01-18T19:45:13.643Z"
   },
   {
    "duration": 11,
    "start_time": "2023-01-18T19:45:15.654Z"
   },
   {
    "duration": 228,
    "start_time": "2023-01-18T19:45:16.671Z"
   },
   {
    "duration": 232,
    "start_time": "2023-01-18T19:45:22.674Z"
   },
   {
    "duration": 6,
    "start_time": "2023-01-18T19:45:28.551Z"
   },
   {
    "duration": 260,
    "start_time": "2023-01-18T19:45:33.006Z"
   },
   {
    "duration": 206,
    "start_time": "2023-01-18T19:45:40.482Z"
   },
   {
    "duration": 9,
    "start_time": "2023-01-18T19:45:45.130Z"
   },
   {
    "duration": 5,
    "start_time": "2023-01-18T19:45:46.237Z"
   },
   {
    "duration": 27,
    "start_time": "2023-01-18T19:45:48.334Z"
   },
   {
    "duration": 10,
    "start_time": "2023-01-18T19:45:55.041Z"
   },
   {
    "duration": 17,
    "start_time": "2023-01-18T19:46:00.864Z"
   },
   {
    "duration": 11,
    "start_time": "2023-01-18T19:46:02.263Z"
   },
   {
    "duration": 229,
    "start_time": "2023-01-18T21:00:03.904Z"
   },
   {
    "duration": 141,
    "start_time": "2023-01-18T21:01:02.133Z"
   },
   {
    "duration": 8,
    "start_time": "2023-01-18T21:02:27.445Z"
   },
   {
    "duration": 12,
    "start_time": "2023-01-18T21:03:40.124Z"
   },
   {
    "duration": 4,
    "start_time": "2023-01-18T21:03:45.344Z"
   },
   {
    "duration": 528,
    "start_time": "2023-01-18T21:05:14.435Z"
   },
   {
    "duration": 210,
    "start_time": "2023-01-18T21:07:20.008Z"
   },
   {
    "duration": 9,
    "start_time": "2023-01-18T21:07:36.207Z"
   },
   {
    "duration": 35,
    "start_time": "2023-01-18T21:07:39.564Z"
   },
   {
    "duration": 330,
    "start_time": "2023-01-18T21:07:42.015Z"
   },
   {
    "duration": 209,
    "start_time": "2023-01-18T21:07:43.371Z"
   },
   {
    "duration": 14,
    "start_time": "2023-01-18T21:07:44.175Z"
   },
   {
    "duration": 6,
    "start_time": "2023-01-18T21:07:45.274Z"
   },
   {
    "duration": 532,
    "start_time": "2023-01-18T21:07:46.279Z"
   },
   {
    "duration": 21,
    "start_time": "2023-01-18T21:09:31.640Z"
   },
   {
    "duration": 5,
    "start_time": "2023-01-18T21:09:38.421Z"
   },
   {
    "duration": 11,
    "start_time": "2023-01-18T21:09:38.431Z"
   },
   {
    "duration": 64,
    "start_time": "2023-01-18T21:09:38.509Z"
   },
   {
    "duration": 8,
    "start_time": "2023-01-18T21:09:38.575Z"
   },
   {
    "duration": 44,
    "start_time": "2023-01-18T21:09:38.585Z"
   },
   {
    "duration": 17,
    "start_time": "2023-01-18T21:09:38.631Z"
   },
   {
    "duration": 7,
    "start_time": "2023-01-18T21:09:38.651Z"
   },
   {
    "duration": 8,
    "start_time": "2023-01-18T21:09:38.660Z"
   },
   {
    "duration": 12,
    "start_time": "2023-01-18T21:09:38.685Z"
   },
   {
    "duration": 13,
    "start_time": "2023-01-18T21:09:38.706Z"
   },
   {
    "duration": 26,
    "start_time": "2023-01-18T21:09:38.721Z"
   },
   {
    "duration": 14,
    "start_time": "2023-01-18T21:09:38.749Z"
   },
   {
    "duration": 36,
    "start_time": "2023-01-18T21:09:38.765Z"
   },
   {
    "duration": 13,
    "start_time": "2023-01-18T21:09:38.804Z"
   },
   {
    "duration": 14,
    "start_time": "2023-01-18T21:09:38.820Z"
   },
   {
    "duration": 207,
    "start_time": "2023-01-18T21:09:38.838Z"
   },
   {
    "duration": 193,
    "start_time": "2023-01-18T21:09:39.047Z"
   },
   {
    "duration": 8,
    "start_time": "2023-01-18T21:09:39.242Z"
   },
   {
    "duration": 20,
    "start_time": "2023-01-18T21:09:39.252Z"
   },
   {
    "duration": 427,
    "start_time": "2023-01-18T21:09:39.287Z"
   },
   {
    "duration": 438,
    "start_time": "2023-01-18T21:09:39.716Z"
   },
   {
    "duration": 536,
    "start_time": "2023-01-18T21:09:40.157Z"
   },
   {
    "duration": 399,
    "start_time": "2023-01-18T21:09:40.695Z"
   },
   {
    "duration": 460,
    "start_time": "2023-01-18T21:09:41.096Z"
   },
   {
    "duration": 12,
    "start_time": "2023-01-18T21:09:41.558Z"
   },
   {
    "duration": 340,
    "start_time": "2023-01-18T21:09:41.587Z"
   },
   {
    "duration": 5,
    "start_time": "2023-01-18T21:09:41.929Z"
   },
   {
    "duration": 26,
    "start_time": "2023-01-18T21:09:41.936Z"
   },
   {
    "duration": 302,
    "start_time": "2023-01-18T21:09:41.964Z"
   },
   {
    "duration": 266,
    "start_time": "2023-01-18T21:09:42.269Z"
   },
   {
    "duration": 6,
    "start_time": "2023-01-18T21:09:42.537Z"
   },
   {
    "duration": 278,
    "start_time": "2023-01-18T21:09:42.544Z"
   },
   {
    "duration": 179,
    "start_time": "2023-01-18T21:09:42.825Z"
   },
   {
    "duration": 9,
    "start_time": "2023-01-18T21:09:43.007Z"
   },
   {
    "duration": 6,
    "start_time": "2023-01-18T21:09:43.018Z"
   },
   {
    "duration": 28,
    "start_time": "2023-01-18T21:09:43.026Z"
   },
   {
    "duration": 41,
    "start_time": "2023-01-18T21:09:43.056Z"
   },
   {
    "duration": 17,
    "start_time": "2023-01-18T21:09:48.795Z"
   },
   {
    "duration": 10,
    "start_time": "2023-01-18T21:09:51.425Z"
   },
   {
    "duration": 25,
    "start_time": "2023-01-18T21:09:53.130Z"
   },
   {
    "duration": 26,
    "start_time": "2023-01-18T21:09:53.714Z"
   },
   {
    "duration": 17,
    "start_time": "2023-01-18T21:10:01.222Z"
   },
   {
    "duration": 16,
    "start_time": "2023-01-18T21:10:02.875Z"
   },
   {
    "duration": 4,
    "start_time": "2023-01-18T21:10:32.537Z"
   },
   {
    "duration": 17,
    "start_time": "2023-01-18T21:10:32.544Z"
   },
   {
    "duration": 105,
    "start_time": "2023-01-18T21:10:32.563Z"
   },
   {
    "duration": 10,
    "start_time": "2023-01-18T21:10:32.670Z"
   },
   {
    "duration": 63,
    "start_time": "2023-01-18T21:10:32.683Z"
   },
   {
    "duration": 47,
    "start_time": "2023-01-18T21:10:32.748Z"
   },
   {
    "duration": 29,
    "start_time": "2023-01-18T21:10:32.797Z"
   },
   {
    "duration": 33,
    "start_time": "2023-01-18T21:10:32.828Z"
   },
   {
    "duration": 45,
    "start_time": "2023-01-18T21:10:32.862Z"
   },
   {
    "duration": 30,
    "start_time": "2023-01-18T21:10:32.909Z"
   },
   {
    "duration": 34,
    "start_time": "2023-01-18T21:10:32.941Z"
   },
   {
    "duration": 35,
    "start_time": "2023-01-18T21:10:32.977Z"
   },
   {
    "duration": 32,
    "start_time": "2023-01-18T21:10:33.013Z"
   },
   {
    "duration": 41,
    "start_time": "2023-01-18T21:10:33.048Z"
   },
   {
    "duration": 37,
    "start_time": "2023-01-18T21:10:33.095Z"
   },
   {
    "duration": 197,
    "start_time": "2023-01-18T21:10:33.134Z"
   },
   {
    "duration": 137,
    "start_time": "2023-01-18T21:10:33.333Z"
   },
   {
    "duration": 25,
    "start_time": "2023-01-18T21:10:33.472Z"
   },
   {
    "duration": 32,
    "start_time": "2023-01-18T21:10:33.500Z"
   },
   {
    "duration": 404,
    "start_time": "2023-01-18T21:10:33.534Z"
   },
   {
    "duration": 345,
    "start_time": "2023-01-18T21:10:33.940Z"
   },
   {
    "duration": 449,
    "start_time": "2023-01-18T21:10:34.288Z"
   },
   {
    "duration": 373,
    "start_time": "2023-01-18T21:10:34.739Z"
   },
   {
    "duration": 424,
    "start_time": "2023-01-18T21:10:35.114Z"
   },
   {
    "duration": 11,
    "start_time": "2023-01-18T21:10:35.540Z"
   },
   {
    "duration": 248,
    "start_time": "2023-01-18T21:10:35.553Z"
   },
   {
    "duration": 5,
    "start_time": "2023-01-18T21:10:35.803Z"
   },
   {
    "duration": 19,
    "start_time": "2023-01-18T21:10:35.810Z"
   },
   {
    "duration": 229,
    "start_time": "2023-01-18T21:10:35.830Z"
   },
   {
    "duration": 266,
    "start_time": "2023-01-18T21:10:36.061Z"
   },
   {
    "duration": 5,
    "start_time": "2023-01-18T21:10:36.329Z"
   },
   {
    "duration": 365,
    "start_time": "2023-01-18T21:10:36.335Z"
   },
   {
    "duration": 160,
    "start_time": "2023-01-18T21:10:36.709Z"
   },
   {
    "duration": 17,
    "start_time": "2023-01-18T21:10:36.871Z"
   },
   {
    "duration": 58,
    "start_time": "2023-01-18T21:10:36.889Z"
   },
   {
    "duration": 98,
    "start_time": "2023-01-18T21:10:36.949Z"
   },
   {
    "duration": 23,
    "start_time": "2023-01-18T21:10:37.049Z"
   },
   {
    "duration": 17,
    "start_time": "2023-01-18T21:10:44.410Z"
   },
   {
    "duration": 10,
    "start_time": "2023-01-18T21:10:46.063Z"
   },
   {
    "duration": 25,
    "start_time": "2023-01-18T21:10:48.241Z"
   },
   {
    "duration": 41,
    "start_time": "2023-01-18T21:10:48.708Z"
   },
   {
    "duration": 13,
    "start_time": "2023-01-18T21:10:53.370Z"
   },
   {
    "duration": 11,
    "start_time": "2023-01-18T21:10:54.205Z"
   },
   {
    "duration": 12,
    "start_time": "2023-01-18T21:10:59.647Z"
   },
   {
    "duration": 13,
    "start_time": "2023-01-18T21:11:09.081Z"
   },
   {
    "duration": 205,
    "start_time": "2023-01-18T21:11:11.611Z"
   },
   {
    "duration": 134,
    "start_time": "2023-01-18T21:11:16.323Z"
   },
   {
    "duration": 8,
    "start_time": "2023-01-18T21:11:17.020Z"
   },
   {
    "duration": 4,
    "start_time": "2023-01-18T21:11:17.815Z"
   },
   {
    "duration": 438,
    "start_time": "2023-01-18T21:11:19.513Z"
   },
   {
    "duration": 367,
    "start_time": "2023-01-18T21:11:51.069Z"
   },
   {
    "duration": 519,
    "start_time": "2023-01-18T21:13:29.730Z"
   },
   {
    "duration": 322,
    "start_time": "2023-01-18T21:14:44.211Z"
   },
   {
    "duration": 428,
    "start_time": "2023-01-18T21:15:09.573Z"
   },
   {
    "duration": 34,
    "start_time": "2023-01-18T21:20:04.432Z"
   },
   {
    "duration": 8,
    "start_time": "2023-01-18T21:20:19.759Z"
   },
   {
    "duration": 1252,
    "start_time": "2023-01-18T21:21:17.780Z"
   },
   {
    "duration": 6,
    "start_time": "2023-01-18T21:21:19.035Z"
   },
   {
    "duration": 78,
    "start_time": "2023-01-18T21:21:19.042Z"
   },
   {
    "duration": 13,
    "start_time": "2023-01-18T21:21:19.123Z"
   },
   {
    "duration": 22,
    "start_time": "2023-01-18T21:21:19.138Z"
   },
   {
    "duration": 41,
    "start_time": "2023-01-18T21:21:19.162Z"
   },
   {
    "duration": 11,
    "start_time": "2023-01-18T21:21:19.206Z"
   },
   {
    "duration": 8,
    "start_time": "2023-01-18T21:21:19.220Z"
   },
   {
    "duration": 10,
    "start_time": "2023-01-18T21:21:19.230Z"
   },
   {
    "duration": 7,
    "start_time": "2023-01-18T21:21:19.245Z"
   },
   {
    "duration": 31,
    "start_time": "2023-01-18T21:21:19.254Z"
   },
   {
    "duration": 11,
    "start_time": "2023-01-18T21:21:19.289Z"
   },
   {
    "duration": 25,
    "start_time": "2023-01-18T21:21:19.304Z"
   },
   {
    "duration": 13,
    "start_time": "2023-01-18T21:21:19.331Z"
   },
   {
    "duration": 15,
    "start_time": "2023-01-18T21:21:19.346Z"
   },
   {
    "duration": 263,
    "start_time": "2023-01-18T21:21:19.363Z"
   },
   {
    "duration": 191,
    "start_time": "2023-01-18T21:21:19.628Z"
   },
   {
    "duration": 11,
    "start_time": "2023-01-18T21:21:19.821Z"
   },
   {
    "duration": 19,
    "start_time": "2023-01-18T21:21:19.834Z"
   },
   {
    "duration": 572,
    "start_time": "2023-01-18T21:21:19.856Z"
   },
   {
    "duration": 412,
    "start_time": "2023-01-18T21:21:20.430Z"
   },
   {
    "duration": 485,
    "start_time": "2023-01-18T21:21:20.844Z"
   },
   {
    "duration": 442,
    "start_time": "2023-01-18T21:21:21.332Z"
   },
   {
    "duration": 475,
    "start_time": "2023-01-18T21:21:21.776Z"
   },
   {
    "duration": 12,
    "start_time": "2023-01-18T21:21:22.253Z"
   },
   {
    "duration": 255,
    "start_time": "2023-01-18T21:21:22.267Z"
   },
   {
    "duration": 5,
    "start_time": "2023-01-18T21:21:22.524Z"
   },
   {
    "duration": 19,
    "start_time": "2023-01-18T21:21:22.534Z"
   },
   {
    "duration": 262,
    "start_time": "2023-01-18T21:21:22.555Z"
   },
   {
    "duration": 321,
    "start_time": "2023-01-18T21:21:22.818Z"
   },
   {
    "duration": 6,
    "start_time": "2023-01-18T21:21:23.141Z"
   },
   {
    "duration": 292,
    "start_time": "2023-01-18T21:21:23.149Z"
   },
   {
    "duration": 182,
    "start_time": "2023-01-18T21:21:23.443Z"
   },
   {
    "duration": 8,
    "start_time": "2023-01-18T21:21:23.627Z"
   },
   {
    "duration": 10,
    "start_time": "2023-01-18T21:21:23.637Z"
   },
   {
    "duration": 56,
    "start_time": "2023-01-18T21:21:23.649Z"
   },
   {
    "duration": 12,
    "start_time": "2023-01-18T21:21:23.707Z"
   },
   {
    "duration": 34,
    "start_time": "2023-01-18T21:21:23.722Z"
   },
   {
    "duration": 36,
    "start_time": "2023-01-18T21:21:23.759Z"
   },
   {
    "duration": 48,
    "start_time": "2023-01-18T21:21:23.802Z"
   },
   {
    "duration": 28,
    "start_time": "2023-01-18T21:21:23.852Z"
   },
   {
    "duration": 17,
    "start_time": "2023-01-18T21:21:23.882Z"
   },
   {
    "duration": 21,
    "start_time": "2023-01-18T21:21:23.905Z"
   },
   {
    "duration": 22,
    "start_time": "2023-01-18T21:21:23.928Z"
   },
   {
    "duration": 27,
    "start_time": "2023-01-18T21:21:23.952Z"
   },
   {
    "duration": 192,
    "start_time": "2023-01-18T21:21:23.981Z"
   },
   {
    "duration": 155,
    "start_time": "2023-01-18T21:21:24.175Z"
   },
   {
    "duration": 7,
    "start_time": "2023-01-18T21:21:24.332Z"
   },
   {
    "duration": 12,
    "start_time": "2023-01-18T21:21:24.341Z"
   },
   {
    "duration": 373,
    "start_time": "2023-01-18T21:21:24.356Z"
   },
   {
    "duration": 343,
    "start_time": "2023-01-18T21:21:24.731Z"
   }
  ],
  "kernelspec": {
   "display_name": "Python 3 (ipykernel)",
   "language": "python",
   "name": "python3"
  },
  "language_info": {
   "codemirror_mode": {
    "name": "ipython",
    "version": 3
   },
   "file_extension": ".py",
   "mimetype": "text/x-python",
   "name": "python",
   "nbconvert_exporter": "python",
   "pygments_lexer": "ipython3",
   "version": "3.9.13"
  },
  "toc": {
   "base_numbering": 1,
   "nav_menu": {},
   "number_sections": true,
   "sideBar": true,
   "skip_h1_title": true,
   "title_cell": "Table of Contents",
   "title_sidebar": "Contents",
   "toc_cell": false,
   "toc_position": {},
   "toc_section_display": true,
   "toc_window_display": false
  }
 },
 "nbformat": 4,
 "nbformat_minor": 2
}
