{
 "cells": [
  {
   "cell_type": "markdown",
   "metadata": {},
   "source": [
    "# Analysis of gaming platforms"
   ]
  },
  {
   "cell_type": "markdown",
   "metadata": {},
   "source": [
    "##  Project description"
   ]
  },
  {
   "cell_type": "markdown",
   "metadata": {},
   "source": [
    "Analysis for  an online store that sells computer games all over the world. Historical data on game sales, user and expert ratings, genres and platforms (for example, Xbox or PlayStation) are available from open sources. It is needed to be identify the patterns that determine the success of the game. This will allow  to bet on a potentially popular product and plan advertising campaigns.\n",
    "\n",
    "Here is the data up to 2016. Let's imagine that it's December 2016, and you're planning a campaign for 2017. We need to work out the principle of working with data. It does not matter whether you forecast sales for 2017 according to 2016 data or 2027 according to 2026 data.\n",
    "\n",
    "The data set contains the abbreviation ESRB (Entertainment Software Rating Board), an association that determines the age rating of computer games. ESRB evaluates game content and assigns it a suitable age category, for example, \"For adults\", \"For younger children\" or \"For teenagers\". \n",
    "\n",
    "**Data description:**\n",
    "\n",
    "- *Name* — name of the game;\n",
    "- *Platform* — platform;\n",
    "- *Year_of_Release* — year of release;\n",
    "- *Genre* — genre of the game;\n",
    "- *NA_sales* — sales in North America (million dollars);\n",
    "- *EU_sales* — sales in Europe Union (million dollars);\n",
    "- *JP_sales* — sales in  Japan (million dollars);\n",
    "- *Other_sales* — sales in other countries (million dollars);\n",
    "- *Critic_Score* — critic score (max 100);\n",
    "- *User_Score* — user score (max 10);\n",
    "- *Rating* — ESRB rating(Entertainment Software Rating Board).\n"
   ]
  },
  {
   "cell_type": "markdown",
   "metadata": {},
   "source": [
    "## Data overview"
   ]
  },
  {
   "cell_type": "code",
   "execution_count": 53,
   "metadata": {},
   "outputs": [],
   "source": [
    "#libaries import\n",
    "import pandas as pd\n",
    "import numpy as np\n",
    "import matplotlib.pyplot as plt\n",
    "import seaborn as sns\n",
    "from datetime import datetime\n",
    "from scipy import stats as st\n",
    "\n",
    "pd.options.mode.chained_assignment = None  #  Pandas warnings off\n",
    "pd.options.display.float_format = '{:,.2f}'.format "
   ]
  },
  {
   "cell_type": "code",
   "execution_count": 54,
   "metadata": {},
   "outputs": [],
   "source": [
    "# reading data files and saving to df\n",
    "df = pd.read_csv('/datasets/games.csv')"
   ]
  },
  {
   "cell_type": "code",
   "execution_count": 55,
   "metadata": {},
   "outputs": [
    {
     "name": "stdout",
     "output_type": "stream",
     "text": [
      "<class 'pandas.core.frame.DataFrame'>\n",
      "RangeIndex: 16715 entries, 0 to 16714\n",
      "Data columns (total 11 columns):\n",
      " #   Column           Non-Null Count  Dtype  \n",
      "---  ------           --------------  -----  \n",
      " 0   Name             16713 non-null  object \n",
      " 1   Platform         16715 non-null  object \n",
      " 2   Year_of_Release  16446 non-null  float64\n",
      " 3   Genre            16713 non-null  object \n",
      " 4   NA_sales         16715 non-null  float64\n",
      " 5   EU_sales         16715 non-null  float64\n",
      " 6   JP_sales         16715 non-null  float64\n",
      " 7   Other_sales      16715 non-null  float64\n",
      " 8   Critic_Score     8137 non-null   float64\n",
      " 9   User_Score       10014 non-null  object \n",
      " 10  Rating           9949 non-null   object \n",
      "dtypes: float64(6), object(5)\n",
      "memory usage: 1.4+ MB\n"
     ]
    },
    {
     "data": {
      "text/html": [
       "<div>\n",
       "<style scoped>\n",
       "    .dataframe tbody tr th:only-of-type {\n",
       "        vertical-align: middle;\n",
       "    }\n",
       "\n",
       "    .dataframe tbody tr th {\n",
       "        vertical-align: top;\n",
       "    }\n",
       "\n",
       "    .dataframe thead th {\n",
       "        text-align: right;\n",
       "    }\n",
       "</style>\n",
       "<table border=\"1\" class=\"dataframe\">\n",
       "  <thead>\n",
       "    <tr style=\"text-align: right;\">\n",
       "      <th></th>\n",
       "      <th>Name</th>\n",
       "      <th>Platform</th>\n",
       "      <th>Year_of_Release</th>\n",
       "      <th>Genre</th>\n",
       "      <th>NA_sales</th>\n",
       "      <th>EU_sales</th>\n",
       "      <th>JP_sales</th>\n",
       "      <th>Other_sales</th>\n",
       "      <th>Critic_Score</th>\n",
       "      <th>User_Score</th>\n",
       "      <th>Rating</th>\n",
       "    </tr>\n",
       "  </thead>\n",
       "  <tbody>\n",
       "    <tr>\n",
       "      <th>0</th>\n",
       "      <td>Wii Sports</td>\n",
       "      <td>Wii</td>\n",
       "      <td>2,006.00</td>\n",
       "      <td>Sports</td>\n",
       "      <td>41.36</td>\n",
       "      <td>28.96</td>\n",
       "      <td>3.77</td>\n",
       "      <td>8.45</td>\n",
       "      <td>76.00</td>\n",
       "      <td>8</td>\n",
       "      <td>E</td>\n",
       "    </tr>\n",
       "    <tr>\n",
       "      <th>1</th>\n",
       "      <td>Super Mario Bros.</td>\n",
       "      <td>NES</td>\n",
       "      <td>1,985.00</td>\n",
       "      <td>Platform</td>\n",
       "      <td>29.08</td>\n",
       "      <td>3.58</td>\n",
       "      <td>6.81</td>\n",
       "      <td>0.77</td>\n",
       "      <td>NaN</td>\n",
       "      <td>NaN</td>\n",
       "      <td>NaN</td>\n",
       "    </tr>\n",
       "    <tr>\n",
       "      <th>2</th>\n",
       "      <td>Mario Kart Wii</td>\n",
       "      <td>Wii</td>\n",
       "      <td>2,008.00</td>\n",
       "      <td>Racing</td>\n",
       "      <td>15.68</td>\n",
       "      <td>12.76</td>\n",
       "      <td>3.79</td>\n",
       "      <td>3.29</td>\n",
       "      <td>82.00</td>\n",
       "      <td>8.3</td>\n",
       "      <td>E</td>\n",
       "    </tr>\n",
       "    <tr>\n",
       "      <th>3</th>\n",
       "      <td>Wii Sports Resort</td>\n",
       "      <td>Wii</td>\n",
       "      <td>2,009.00</td>\n",
       "      <td>Sports</td>\n",
       "      <td>15.61</td>\n",
       "      <td>10.93</td>\n",
       "      <td>3.28</td>\n",
       "      <td>2.95</td>\n",
       "      <td>80.00</td>\n",
       "      <td>8</td>\n",
       "      <td>E</td>\n",
       "    </tr>\n",
       "    <tr>\n",
       "      <th>4</th>\n",
       "      <td>Pokemon Red/Pokemon Blue</td>\n",
       "      <td>GB</td>\n",
       "      <td>1,996.00</td>\n",
       "      <td>Role-Playing</td>\n",
       "      <td>11.27</td>\n",
       "      <td>8.89</td>\n",
       "      <td>10.22</td>\n",
       "      <td>1.00</td>\n",
       "      <td>NaN</td>\n",
       "      <td>NaN</td>\n",
       "      <td>NaN</td>\n",
       "    </tr>\n",
       "    <tr>\n",
       "      <th>5</th>\n",
       "      <td>Tetris</td>\n",
       "      <td>GB</td>\n",
       "      <td>1,989.00</td>\n",
       "      <td>Puzzle</td>\n",
       "      <td>23.20</td>\n",
       "      <td>2.26</td>\n",
       "      <td>4.22</td>\n",
       "      <td>0.58</td>\n",
       "      <td>NaN</td>\n",
       "      <td>NaN</td>\n",
       "      <td>NaN</td>\n",
       "    </tr>\n",
       "    <tr>\n",
       "      <th>6</th>\n",
       "      <td>New Super Mario Bros.</td>\n",
       "      <td>DS</td>\n",
       "      <td>2,006.00</td>\n",
       "      <td>Platform</td>\n",
       "      <td>11.28</td>\n",
       "      <td>9.14</td>\n",
       "      <td>6.50</td>\n",
       "      <td>2.88</td>\n",
       "      <td>89.00</td>\n",
       "      <td>8.5</td>\n",
       "      <td>E</td>\n",
       "    </tr>\n",
       "    <tr>\n",
       "      <th>7</th>\n",
       "      <td>Wii Play</td>\n",
       "      <td>Wii</td>\n",
       "      <td>2,006.00</td>\n",
       "      <td>Misc</td>\n",
       "      <td>13.96</td>\n",
       "      <td>9.18</td>\n",
       "      <td>2.93</td>\n",
       "      <td>2.84</td>\n",
       "      <td>58.00</td>\n",
       "      <td>6.6</td>\n",
       "      <td>E</td>\n",
       "    </tr>\n",
       "    <tr>\n",
       "      <th>8</th>\n",
       "      <td>New Super Mario Bros. Wii</td>\n",
       "      <td>Wii</td>\n",
       "      <td>2,009.00</td>\n",
       "      <td>Platform</td>\n",
       "      <td>14.44</td>\n",
       "      <td>6.94</td>\n",
       "      <td>4.70</td>\n",
       "      <td>2.24</td>\n",
       "      <td>87.00</td>\n",
       "      <td>8.4</td>\n",
       "      <td>E</td>\n",
       "    </tr>\n",
       "    <tr>\n",
       "      <th>9</th>\n",
       "      <td>Duck Hunt</td>\n",
       "      <td>NES</td>\n",
       "      <td>1,984.00</td>\n",
       "      <td>Shooter</td>\n",
       "      <td>26.93</td>\n",
       "      <td>0.63</td>\n",
       "      <td>0.28</td>\n",
       "      <td>0.47</td>\n",
       "      <td>NaN</td>\n",
       "      <td>NaN</td>\n",
       "      <td>NaN</td>\n",
       "    </tr>\n",
       "  </tbody>\n",
       "</table>\n",
       "</div>"
      ],
      "text/plain": [
       "                        Name Platform  Year_of_Release         Genre  \\\n",
       "0                 Wii Sports      Wii         2,006.00        Sports   \n",
       "1          Super Mario Bros.      NES         1,985.00      Platform   \n",
       "2             Mario Kart Wii      Wii         2,008.00        Racing   \n",
       "3          Wii Sports Resort      Wii         2,009.00        Sports   \n",
       "4   Pokemon Red/Pokemon Blue       GB         1,996.00  Role-Playing   \n",
       "5                     Tetris       GB         1,989.00        Puzzle   \n",
       "6      New Super Mario Bros.       DS         2,006.00      Platform   \n",
       "7                   Wii Play      Wii         2,006.00          Misc   \n",
       "8  New Super Mario Bros. Wii      Wii         2,009.00      Platform   \n",
       "9                  Duck Hunt      NES         1,984.00       Shooter   \n",
       "\n",
       "   NA_sales  EU_sales  JP_sales  Other_sales  Critic_Score User_Score Rating  \n",
       "0     41.36     28.96      3.77         8.45         76.00          8      E  \n",
       "1     29.08      3.58      6.81         0.77           NaN        NaN    NaN  \n",
       "2     15.68     12.76      3.79         3.29         82.00        8.3      E  \n",
       "3     15.61     10.93      3.28         2.95         80.00          8      E  \n",
       "4     11.27      8.89     10.22         1.00           NaN        NaN    NaN  \n",
       "5     23.20      2.26      4.22         0.58           NaN        NaN    NaN  \n",
       "6     11.28      9.14      6.50         2.88         89.00        8.5      E  \n",
       "7     13.96      9.18      2.93         2.84         58.00        6.6      E  \n",
       "8     14.44      6.94      4.70         2.24         87.00        8.4      E  \n",
       "9     26.93      0.63      0.28         0.47           NaN        NaN    NaN  "
      ]
     },
     "execution_count": 55,
     "metadata": {},
     "output_type": "execute_result"
    }
   ],
   "source": [
    "# data overview\n",
    "df.info()\n",
    "df.head(10)"
   ]
  },
  {
   "cell_type": "code",
   "execution_count": 56,
   "metadata": {},
   "outputs": [
    {
     "data": {
      "text/plain": [
       "Platform              0\n",
       "NA_sales              0\n",
       "EU_sales              0\n",
       "JP_sales              0\n",
       "Other_sales           0\n",
       "Name                  2\n",
       "Genre                 2\n",
       "Year_of_Release     269\n",
       "User_Score         6701\n",
       "Rating             6766\n",
       "Critic_Score       8578\n",
       "dtype: int64"
      ]
     },
     "execution_count": 56,
     "metadata": {},
     "output_type": "execute_result"
    }
   ],
   "source": [
    "# null overview\n",
    "df.isnull().sum().sort_values()"
   ]
  },
  {
   "cell_type": "code",
   "execution_count": 57,
   "metadata": {},
   "outputs": [
    {
     "data": {
      "text/plain": [
       "0"
      ]
     },
     "execution_count": 57,
     "metadata": {},
     "output_type": "execute_result"
    }
   ],
   "source": [
    "# # checking for obvious duplicates\n",
    "df.duplicated().sum()"
   ]
  },
  {
   "cell_type": "markdown",
   "metadata": {},
   "source": [
    "**Conclusion**\n",
    "\n",
    "- The table has 11 columns and 16715 rows.\n",
    "- There are practically no gaps in the columns: Name, Platform, Year_of_Release, Genre, NA_samez, Eu_sales, JP_sales, Other_sales.\n",
    "- There are issues with data types.\n",
    "- There are no explicit duplicates, perhaps there are implicit ones\n",
    "- There are gaps in data"
   ]
  },
  {
   "cell_type": "markdown",
   "metadata": {},
   "source": [
    "## Data wrangling"
   ]
  },
  {
   "cell_type": "code",
   "execution_count": 58,
   "metadata": {},
   "outputs": [],
   "source": [
    "#lowercase conversion\n",
    "df.columns = df.columns.str.lower()"
   ]
  },
  {
   "cell_type": "code",
   "execution_count": 59,
   "metadata": {},
   "outputs": [
    {
     "data": {
      "text/html": [
       "<div>\n",
       "<style scoped>\n",
       "    .dataframe tbody tr th:only-of-type {\n",
       "        vertical-align: middle;\n",
       "    }\n",
       "\n",
       "    .dataframe tbody tr th {\n",
       "        vertical-align: top;\n",
       "    }\n",
       "\n",
       "    .dataframe thead th {\n",
       "        text-align: right;\n",
       "    }\n",
       "</style>\n",
       "<table border=\"1\" class=\"dataframe\">\n",
       "  <thead>\n",
       "    <tr style=\"text-align: right;\">\n",
       "      <th></th>\n",
       "      <th>name</th>\n",
       "      <th>platform</th>\n",
       "      <th>year_of_release</th>\n",
       "      <th>genre</th>\n",
       "      <th>na_sales</th>\n",
       "      <th>eu_sales</th>\n",
       "      <th>jp_sales</th>\n",
       "      <th>other_sales</th>\n",
       "      <th>critic_score</th>\n",
       "      <th>user_score</th>\n",
       "      <th>rating</th>\n",
       "    </tr>\n",
       "  </thead>\n",
       "  <tbody>\n",
       "    <tr>\n",
       "      <th>0</th>\n",
       "      <td>Wii Sports</td>\n",
       "      <td>Wii</td>\n",
       "      <td>2,006.00</td>\n",
       "      <td>Sports</td>\n",
       "      <td>41.36</td>\n",
       "      <td>28.96</td>\n",
       "      <td>3.77</td>\n",
       "      <td>8.45</td>\n",
       "      <td>76.00</td>\n",
       "      <td>8</td>\n",
       "      <td>E</td>\n",
       "    </tr>\n",
       "    <tr>\n",
       "      <th>1</th>\n",
       "      <td>Super Mario Bros.</td>\n",
       "      <td>NES</td>\n",
       "      <td>1,985.00</td>\n",
       "      <td>Platform</td>\n",
       "      <td>29.08</td>\n",
       "      <td>3.58</td>\n",
       "      <td>6.81</td>\n",
       "      <td>0.77</td>\n",
       "      <td>NaN</td>\n",
       "      <td>NaN</td>\n",
       "      <td>NaN</td>\n",
       "    </tr>\n",
       "    <tr>\n",
       "      <th>2</th>\n",
       "      <td>Mario Kart Wii</td>\n",
       "      <td>Wii</td>\n",
       "      <td>2,008.00</td>\n",
       "      <td>Racing</td>\n",
       "      <td>15.68</td>\n",
       "      <td>12.76</td>\n",
       "      <td>3.79</td>\n",
       "      <td>3.29</td>\n",
       "      <td>82.00</td>\n",
       "      <td>8.3</td>\n",
       "      <td>E</td>\n",
       "    </tr>\n",
       "    <tr>\n",
       "      <th>3</th>\n",
       "      <td>Wii Sports Resort</td>\n",
       "      <td>Wii</td>\n",
       "      <td>2,009.00</td>\n",
       "      <td>Sports</td>\n",
       "      <td>15.61</td>\n",
       "      <td>10.93</td>\n",
       "      <td>3.28</td>\n",
       "      <td>2.95</td>\n",
       "      <td>80.00</td>\n",
       "      <td>8</td>\n",
       "      <td>E</td>\n",
       "    </tr>\n",
       "    <tr>\n",
       "      <th>4</th>\n",
       "      <td>Pokemon Red/Pokemon Blue</td>\n",
       "      <td>GB</td>\n",
       "      <td>1,996.00</td>\n",
       "      <td>Role-Playing</td>\n",
       "      <td>11.27</td>\n",
       "      <td>8.89</td>\n",
       "      <td>10.22</td>\n",
       "      <td>1.00</td>\n",
       "      <td>NaN</td>\n",
       "      <td>NaN</td>\n",
       "      <td>NaN</td>\n",
       "    </tr>\n",
       "  </tbody>\n",
       "</table>\n",
       "</div>"
      ],
      "text/plain": [
       "                       name platform  year_of_release         genre  na_sales  \\\n",
       "0                Wii Sports      Wii         2,006.00        Sports     41.36   \n",
       "1         Super Mario Bros.      NES         1,985.00      Platform     29.08   \n",
       "2            Mario Kart Wii      Wii         2,008.00        Racing     15.68   \n",
       "3         Wii Sports Resort      Wii         2,009.00        Sports     15.61   \n",
       "4  Pokemon Red/Pokemon Blue       GB         1,996.00  Role-Playing     11.27   \n",
       "\n",
       "   eu_sales  jp_sales  other_sales  critic_score user_score rating  \n",
       "0     28.96      3.77         8.45         76.00          8      E  \n",
       "1      3.58      6.81         0.77           NaN        NaN    NaN  \n",
       "2     12.76      3.79         3.29         82.00        8.3      E  \n",
       "3     10.93      3.28         2.95         80.00          8      E  \n",
       "4      8.89     10.22         1.00           NaN        NaN    NaN  "
      ]
     },
     "execution_count": 59,
     "metadata": {},
     "output_type": "execute_result"
    }
   ],
   "source": [
    "df.head()"
   ]
  },
  {
   "cell_type": "code",
   "execution_count": 60,
   "metadata": {},
   "outputs": [
    {
     "data": {
      "text/plain": [
       "(16715, 11)"
      ]
     },
     "execution_count": 60,
     "metadata": {},
     "output_type": "execute_result"
    }
   ],
   "source": [
    "# size of the table\n",
    "df.shape"
   ]
  },
  {
   "cell_type": "code",
   "execution_count": 61,
   "metadata": {},
   "outputs": [
    {
     "data": {
      "text/plain": [
       "platform              0\n",
       "na_sales              0\n",
       "eu_sales              0\n",
       "jp_sales              0\n",
       "other_sales           0\n",
       "name                  2\n",
       "genre                 2\n",
       "year_of_release     269\n",
       "user_score         6701\n",
       "rating             6766\n",
       "critic_score       8578\n",
       "dtype: int64"
      ]
     },
     "execution_count": 61,
     "metadata": {},
     "output_type": "execute_result"
    }
   ],
   "source": [
    "# checking null values\n",
    "df.isnull().sum().sort_values()"
   ]
  },
  {
   "cell_type": "code",
   "execution_count": 62,
   "metadata": {},
   "outputs": [],
   "source": [
    "# deleting name, genre and year of release emty values\n",
    "df = df.dropna(subset=['name']) \n",
    "df = df.dropna(subset=['genre'])\n",
    "df = df.dropna(subset=['year_of_release'])"
   ]
  },
  {
   "cell_type": "code",
   "execution_count": 63,
   "metadata": {},
   "outputs": [
    {
     "data": {
      "text/plain": [
       "(16444, 11)"
      ]
     },
     "execution_count": 63,
     "metadata": {},
     "output_type": "execute_result"
    }
   ],
   "source": [
    "# checking size of the table\n",
    "df.shape"
   ]
  },
  {
   "cell_type": "markdown",
   "metadata": {},
   "source": [
    "### Column name"
   ]
  },
  {
   "cell_type": "code",
   "execution_count": 64,
   "metadata": {},
   "outputs": [
    {
     "data": {
      "text/plain": [
       "11426"
      ]
     },
     "execution_count": 64,
     "metadata": {},
     "output_type": "execute_result"
    }
   ],
   "source": [
    "# checking nummber of unique names\n",
    "len(df['name'].unique())"
   ]
  },
  {
   "cell_type": "markdown",
   "metadata": {},
   "source": [
    "There are many unique values, we will bring everything to the lower case for further convenience of work and for search of implicit duplicates."
   ]
  },
  {
   "cell_type": "code",
   "execution_count": 65,
   "metadata": {},
   "outputs": [],
   "source": [
    "#lowercase conversion\n",
    "df['name'] = df['name'].str.lower()"
   ]
  },
  {
   "cell_type": "code",
   "execution_count": 66,
   "metadata": {},
   "outputs": [
    {
     "data": {
      "text/plain": [
       "11426"
      ]
     },
     "execution_count": 66,
     "metadata": {},
     "output_type": "execute_result"
    }
   ],
   "source": [
    "# checking nummber of unique names\n",
    "len(df['name'].unique())"
   ]
  },
  {
   "cell_type": "markdown",
   "metadata": {},
   "source": [
    "### Column platform"
   ]
  },
  {
   "cell_type": "code",
   "execution_count": 67,
   "metadata": {},
   "outputs": [
    {
     "data": {
      "text/plain": [
       "31"
      ]
     },
     "execution_count": 67,
     "metadata": {},
     "output_type": "execute_result"
    }
   ],
   "source": [
    "# checking number of unique names\n",
    "len(df['platform'].unique())"
   ]
  },
  {
   "cell_type": "code",
   "execution_count": 68,
   "metadata": {},
   "outputs": [
    {
     "data": {
      "text/plain": [
       "['Wii',\n",
       " 'NES',\n",
       " 'GB',\n",
       " 'DS',\n",
       " 'X360',\n",
       " 'PS3',\n",
       " 'PS2',\n",
       " 'SNES',\n",
       " 'GBA',\n",
       " 'PS4',\n",
       " '3DS',\n",
       " 'N64',\n",
       " 'PS',\n",
       " 'XB',\n",
       " 'PC',\n",
       " '2600',\n",
       " 'PSP',\n",
       " 'XOne',\n",
       " 'WiiU',\n",
       " 'GC',\n",
       " 'GEN',\n",
       " 'DC',\n",
       " 'PSV',\n",
       " 'SAT',\n",
       " 'SCD',\n",
       " 'WS',\n",
       " 'NG',\n",
       " 'TG16',\n",
       " '3DO',\n",
       " 'GG',\n",
       " 'PCFX']"
      ]
     },
     "execution_count": 68,
     "metadata": {},
     "output_type": "execute_result"
    }
   ],
   "source": [
    "df['platform'].unique().tolist() # checking for duplicates"
   ]
  },
  {
   "cell_type": "markdown",
   "metadata": {},
   "source": [
    "### Column of year_of_release"
   ]
  },
  {
   "cell_type": "code",
   "execution_count": 69,
   "metadata": {},
   "outputs": [],
   "source": [
    "#setting type int for the column\n",
    "df['year_of_release']=np.ceil(df['year_of_release']).astype('int')"
   ]
  },
  {
   "cell_type": "markdown",
   "metadata": {},
   "source": [
    "### Column genre"
   ]
  },
  {
   "cell_type": "code",
   "execution_count": 70,
   "metadata": {},
   "outputs": [],
   "source": [
    "#lowercase conversion\n",
    "df['genre'] = df['genre'].str.lower()"
   ]
  },
  {
   "cell_type": "code",
   "execution_count": 71,
   "metadata": {},
   "outputs": [
    {
     "data": {
      "text/plain": [
       "12"
      ]
     },
     "execution_count": 71,
     "metadata": {},
     "output_type": "execute_result"
    }
   ],
   "source": [
    "#checking number of unique names\n",
    "len(df['genre'].unique())"
   ]
  },
  {
   "cell_type": "code",
   "execution_count": 72,
   "metadata": {},
   "outputs": [
    {
     "data": {
      "text/plain": [
       "['sports',\n",
       " 'platform',\n",
       " 'racing',\n",
       " 'role-playing',\n",
       " 'puzzle',\n",
       " 'misc',\n",
       " 'shooter',\n",
       " 'simulation',\n",
       " 'action',\n",
       " 'fighting',\n",
       " 'adventure',\n",
       " 'strategy']"
      ]
     },
     "execution_count": 72,
     "metadata": {},
     "output_type": "execute_result"
    }
   ],
   "source": [
    "#checking unique names\n",
    "df['genre'].unique().tolist()"
   ]
  },
  {
   "cell_type": "markdown",
   "metadata": {},
   "source": [
    "### Column  user_score"
   ]
  },
  {
   "cell_type": "code",
   "execution_count": 73,
   "metadata": {},
   "outputs": [
    {
     "data": {
      "text/plain": [
       "array(['8', nan, '8.3', '8.5', '6.6', '8.4', '8.6', '7.7', '6.3', '7.4',\n",
       "       '8.2', '9', '7.9', '8.1', '8.7', '7.1', '3.4', '5.3', '4.8', '3.2',\n",
       "       '8.9', '6.4', '7.8', '7.5', '2.6', '7.2', '9.2', '7', '7.3', '4.3',\n",
       "       '7.6', '5.7', '5', '9.1', '6.5', 'tbd', '8.8', '6.9', '9.4', '6.8',\n",
       "       '6.1', '6.7', '5.4', '4', '4.9', '4.5', '9.3', '6.2', '4.2', '6',\n",
       "       '3.7', '4.1', '5.8', '5.6', '5.5', '4.4', '4.6', '5.9', '3.9',\n",
       "       '3.1', '2.9', '5.2', '3.3', '4.7', '5.1', '3.5', '2.5', '1.9', '3',\n",
       "       '2.7', '2.2', '2', '9.5', '2.1', '3.6', '2.8', '1.8', '3.8', '0',\n",
       "       '1.6', '9.6', '2.4', '1.7', '1.1', '0.3', '1.5', '0.7', '1.2',\n",
       "       '2.3', '0.5', '1.3', '0.2', '0.6', '1.4', '0.9', '1', '9.7'],\n",
       "      dtype=object)"
      ]
     },
     "execution_count": 73,
     "metadata": {},
     "output_type": "execute_result"
    }
   ],
   "source": [
    "# the column has a strange object format instead of float\n",
    "df['user_score'].unique() "
   ]
  },
  {
   "cell_type": "markdown",
   "metadata": {},
   "source": [
    "TBD-To Be Determined. It is written when the game has an insufficient number of reviews (less than 4) to calculate the user rating and publish it."
   ]
  },
  {
   "cell_type": "code",
   "execution_count": 74,
   "metadata": {},
   "outputs": [],
   "source": [
    "df['user_score'] =df['user_score'].replace('tbd', np.NaN) #changing TBD to NaN\n",
    "df['user_score'] = df['user_score'].astype('float')       #setting type int for the column"
   ]
  },
  {
   "cell_type": "code",
   "execution_count": 75,
   "metadata": {},
   "outputs": [
    {
     "name": "stdout",
     "output_type": "stream",
     "text": [
      "<class 'pandas.core.frame.DataFrame'>\n",
      "Int64Index: 16444 entries, 0 to 16714\n",
      "Data columns (total 11 columns):\n",
      " #   Column           Non-Null Count  Dtype  \n",
      "---  ------           --------------  -----  \n",
      " 0   name             16444 non-null  object \n",
      " 1   platform         16444 non-null  object \n",
      " 2   year_of_release  16444 non-null  int64  \n",
      " 3   genre            16444 non-null  object \n",
      " 4   na_sales         16444 non-null  float64\n",
      " 5   eu_sales         16444 non-null  float64\n",
      " 6   jp_sales         16444 non-null  float64\n",
      " 7   other_sales      16444 non-null  float64\n",
      " 8   critic_score     7983 non-null   float64\n",
      " 9   user_score       7463 non-null   float64\n",
      " 10  rating           9768 non-null   object \n",
      "dtypes: float64(6), int64(1), object(4)\n",
      "memory usage: 1.5+ MB\n"
     ]
    }
   ],
   "source": [
    "df.info() # checking datatypes"
   ]
  },
  {
   "cell_type": "markdown",
   "metadata": {},
   "source": [
    "### Column rating"
   ]
  },
  {
   "cell_type": "code",
   "execution_count": 76,
   "metadata": {},
   "outputs": [
    {
     "data": {
      "text/plain": [
       "9"
      ]
     },
     "execution_count": 76,
     "metadata": {},
     "output_type": "execute_result"
    }
   ],
   "source": [
    "#checking number of unique names\n",
    "len(df['rating'].unique())"
   ]
  },
  {
   "cell_type": "code",
   "execution_count": 77,
   "metadata": {},
   "outputs": [
    {
     "data": {
      "text/plain": [
       "['E', nan, 'M', 'T', 'E10+', 'K-A', 'AO', 'EC', 'RP']"
      ]
     },
     "execution_count": 77,
     "metadata": {},
     "output_type": "execute_result"
    }
   ],
   "source": [
    "#checking unique names\n",
    "df['rating'].unique().tolist()"
   ]
  },
  {
   "cell_type": "code",
   "execution_count": 78,
   "metadata": {},
   "outputs": [],
   "source": [
    "# filling nan with no_rating\n",
    "df['rating']=df['rating'].fillna('no_rating')"
   ]
  },
  {
   "cell_type": "markdown",
   "metadata": {},
   "source": [
    "Adding total sales column:"
   ]
  },
  {
   "cell_type": "code",
   "execution_count": 79,
   "metadata": {},
   "outputs": [],
   "source": [
    "df['sales_total'] = df[['na_sales', 'eu_sales', 'jp_sales', 'other_sales']].sum(axis = 1)"
   ]
  },
  {
   "cell_type": "code",
   "execution_count": 80,
   "metadata": {},
   "outputs": [
    {
     "data": {
      "text/html": [
       "<div>\n",
       "<style scoped>\n",
       "    .dataframe tbody tr th:only-of-type {\n",
       "        vertical-align: middle;\n",
       "    }\n",
       "\n",
       "    .dataframe tbody tr th {\n",
       "        vertical-align: top;\n",
       "    }\n",
       "\n",
       "    .dataframe thead th {\n",
       "        text-align: right;\n",
       "    }\n",
       "</style>\n",
       "<table border=\"1\" class=\"dataframe\">\n",
       "  <thead>\n",
       "    <tr style=\"text-align: right;\">\n",
       "      <th></th>\n",
       "      <th>name</th>\n",
       "      <th>platform</th>\n",
       "      <th>year_of_release</th>\n",
       "      <th>genre</th>\n",
       "      <th>na_sales</th>\n",
       "      <th>eu_sales</th>\n",
       "      <th>jp_sales</th>\n",
       "      <th>other_sales</th>\n",
       "      <th>critic_score</th>\n",
       "      <th>user_score</th>\n",
       "      <th>rating</th>\n",
       "      <th>sales_total</th>\n",
       "    </tr>\n",
       "  </thead>\n",
       "  <tbody>\n",
       "    <tr>\n",
       "      <th>6665</th>\n",
       "      <td>spongebob's truth or square (us sales)</td>\n",
       "      <td>X360</td>\n",
       "      <td>2009</td>\n",
       "      <td>action</td>\n",
       "      <td>0.25</td>\n",
       "      <td>0.00</td>\n",
       "      <td>0.00</td>\n",
       "      <td>0.00</td>\n",
       "      <td>NaN</td>\n",
       "      <td>NaN</td>\n",
       "      <td>no_rating</td>\n",
       "      <td>0.25</td>\n",
       "    </tr>\n",
       "    <tr>\n",
       "      <th>4745</th>\n",
       "      <td>resistance: burning skies</td>\n",
       "      <td>PSV</td>\n",
       "      <td>2012</td>\n",
       "      <td>shooter</td>\n",
       "      <td>0.18</td>\n",
       "      <td>0.15</td>\n",
       "      <td>0.02</td>\n",
       "      <td>0.06</td>\n",
       "      <td>60.00</td>\n",
       "      <td>6.80</td>\n",
       "      <td>M</td>\n",
       "      <td>0.41</td>\n",
       "    </tr>\n",
       "    <tr>\n",
       "      <th>13627</th>\n",
       "      <td>smash court tennis 3</td>\n",
       "      <td>PSP</td>\n",
       "      <td>2007</td>\n",
       "      <td>sports</td>\n",
       "      <td>0.01</td>\n",
       "      <td>0.01</td>\n",
       "      <td>0.01</td>\n",
       "      <td>0.01</td>\n",
       "      <td>68.00</td>\n",
       "      <td>6.30</td>\n",
       "      <td>E</td>\n",
       "      <td>0.04</td>\n",
       "    </tr>\n",
       "    <tr>\n",
       "      <th>13805</th>\n",
       "      <td>sengoku musou 3 z special</td>\n",
       "      <td>PSP</td>\n",
       "      <td>2012</td>\n",
       "      <td>action</td>\n",
       "      <td>0.00</td>\n",
       "      <td>0.00</td>\n",
       "      <td>0.04</td>\n",
       "      <td>0.00</td>\n",
       "      <td>NaN</td>\n",
       "      <td>NaN</td>\n",
       "      <td>no_rating</td>\n",
       "      <td>0.04</td>\n",
       "    </tr>\n",
       "    <tr>\n",
       "      <th>5258</th>\n",
       "      <td>suikoden v</td>\n",
       "      <td>PS2</td>\n",
       "      <td>2006</td>\n",
       "      <td>role-playing</td>\n",
       "      <td>0.08</td>\n",
       "      <td>0.06</td>\n",
       "      <td>0.19</td>\n",
       "      <td>0.02</td>\n",
       "      <td>76.00</td>\n",
       "      <td>7.60</td>\n",
       "      <td>T</td>\n",
       "      <td>0.35</td>\n",
       "    </tr>\n",
       "    <tr>\n",
       "      <th>11811</th>\n",
       "      <td>warriors orochi 3</td>\n",
       "      <td>PSV</td>\n",
       "      <td>2013</td>\n",
       "      <td>action</td>\n",
       "      <td>0.00</td>\n",
       "      <td>0.00</td>\n",
       "      <td>0.07</td>\n",
       "      <td>0.00</td>\n",
       "      <td>NaN</td>\n",
       "      <td>NaN</td>\n",
       "      <td>no_rating</td>\n",
       "      <td>0.07</td>\n",
       "    </tr>\n",
       "    <tr>\n",
       "      <th>16341</th>\n",
       "      <td>builder's block</td>\n",
       "      <td>PS</td>\n",
       "      <td>1999</td>\n",
       "      <td>strategy</td>\n",
       "      <td>0.01</td>\n",
       "      <td>0.00</td>\n",
       "      <td>0.00</td>\n",
       "      <td>0.00</td>\n",
       "      <td>NaN</td>\n",
       "      <td>NaN</td>\n",
       "      <td>no_rating</td>\n",
       "      <td>0.01</td>\n",
       "    </tr>\n",
       "    <tr>\n",
       "      <th>14198</th>\n",
       "      <td>cabela's dangerous hunts 2</td>\n",
       "      <td>GC</td>\n",
       "      <td>2005</td>\n",
       "      <td>sports</td>\n",
       "      <td>0.03</td>\n",
       "      <td>0.01</td>\n",
       "      <td>0.00</td>\n",
       "      <td>0.00</td>\n",
       "      <td>NaN</td>\n",
       "      <td>NaN</td>\n",
       "      <td>T</td>\n",
       "      <td>0.04</td>\n",
       "    </tr>\n",
       "    <tr>\n",
       "      <th>856</th>\n",
       "      <td>tenchu: stealth assassins</td>\n",
       "      <td>PS</td>\n",
       "      <td>1997</td>\n",
       "      <td>action</td>\n",
       "      <td>0.95</td>\n",
       "      <td>0.64</td>\n",
       "      <td>0.27</td>\n",
       "      <td>0.13</td>\n",
       "      <td>87.00</td>\n",
       "      <td>8.80</td>\n",
       "      <td>M</td>\n",
       "      <td>1.99</td>\n",
       "    </tr>\n",
       "    <tr>\n",
       "      <th>8317</th>\n",
       "      <td>country dance: all stars</td>\n",
       "      <td>X360</td>\n",
       "      <td>2012</td>\n",
       "      <td>action</td>\n",
       "      <td>0.16</td>\n",
       "      <td>0.00</td>\n",
       "      <td>0.00</td>\n",
       "      <td>0.01</td>\n",
       "      <td>NaN</td>\n",
       "      <td>5.20</td>\n",
       "      <td>E10+</td>\n",
       "      <td>0.17</td>\n",
       "    </tr>\n",
       "  </tbody>\n",
       "</table>\n",
       "</div>"
      ],
      "text/plain": [
       "                                         name platform  year_of_release  \\\n",
       "6665   spongebob's truth or square (us sales)     X360             2009   \n",
       "4745                resistance: burning skies      PSV             2012   \n",
       "13627                    smash court tennis 3      PSP             2007   \n",
       "13805               sengoku musou 3 z special      PSP             2012   \n",
       "5258                               suikoden v      PS2             2006   \n",
       "11811                       warriors orochi 3      PSV             2013   \n",
       "16341                         builder's block       PS             1999   \n",
       "14198              cabela's dangerous hunts 2       GC             2005   \n",
       "856                 tenchu: stealth assassins       PS             1997   \n",
       "8317                 country dance: all stars     X360             2012   \n",
       "\n",
       "              genre  na_sales  eu_sales  jp_sales  other_sales  critic_score  \\\n",
       "6665         action      0.25      0.00      0.00         0.00           NaN   \n",
       "4745        shooter      0.18      0.15      0.02         0.06         60.00   \n",
       "13627        sports      0.01      0.01      0.01         0.01         68.00   \n",
       "13805        action      0.00      0.00      0.04         0.00           NaN   \n",
       "5258   role-playing      0.08      0.06      0.19         0.02         76.00   \n",
       "11811        action      0.00      0.00      0.07         0.00           NaN   \n",
       "16341      strategy      0.01      0.00      0.00         0.00           NaN   \n",
       "14198        sports      0.03      0.01      0.00         0.00           NaN   \n",
       "856          action      0.95      0.64      0.27         0.13         87.00   \n",
       "8317         action      0.16      0.00      0.00         0.01           NaN   \n",
       "\n",
       "       user_score     rating  sales_total  \n",
       "6665          NaN  no_rating         0.25  \n",
       "4745         6.80          M         0.41  \n",
       "13627        6.30          E         0.04  \n",
       "13805         NaN  no_rating         0.04  \n",
       "5258         7.60          T         0.35  \n",
       "11811         NaN  no_rating         0.07  \n",
       "16341         NaN  no_rating         0.01  \n",
       "14198         NaN          T         0.04  \n",
       "856          8.80          M         1.99  \n",
       "8317         5.20       E10+         0.17  "
      ]
     },
     "execution_count": 80,
     "metadata": {},
     "output_type": "execute_result"
    }
   ],
   "source": [
    "df.sample(10)"
   ]
  },
  {
   "cell_type": "markdown",
   "metadata": {},
   "source": [
    "**Conclusion**\n",
    "\n",
    "- column names are reduced to lowercase\n",
    "- removed rows with null values in the columns name, genre, year_of_release (<250)\n",
    "- the name column is reduced to lowercase\n",
    "- unique values of the platform column are defined\n",
    "- the year_of_release column is converted to the int type\n",
    "- the genre column is reduced to lowercase\n",
    "- in the user_score column, TBD-To Be Determined is replaced with NaN and converted to the Float type\n",
    "- unique values of the rating column are defined\n",
    "- the total_sales column was created and calculated"
   ]
  },
  {
   "cell_type": "markdown",
   "metadata": {},
   "source": [
    "## Exploratory data analysis"
   ]
  },
  {
   "cell_type": "markdown",
   "metadata": {},
   "source": [
    "### Number of games that were released in different years"
   ]
  },
  {
   "cell_type": "code",
   "execution_count": 81,
   "metadata": {},
   "outputs": [
    {
     "data": {
      "text/plain": [
       "count   16,444.00\n",
       "mean     2,006.49\n",
       "std          5.88\n",
       "min      1,980.00\n",
       "25%      2,003.00\n",
       "50%      2,007.00\n",
       "75%      2,010.00\n",
       "max      2,016.00\n",
       "Name: year_of_release, dtype: float64"
      ]
     },
     "execution_count": 81,
     "metadata": {},
     "output_type": "execute_result"
    }
   ],
   "source": [
    "df['year_of_release'].describe()"
   ]
  },
  {
   "cell_type": "code",
   "execution_count": 82,
   "metadata": {},
   "outputs": [
    {
     "data": {
      "image/png": "[encoded data removed]",
      "text/plain": [
       "<Figure size 2000x1000 with 1 Axes>"
      ]
     },
     "metadata": {},
     "output_type": "display_data"
    }
   ],
   "source": [
    "\n",
    "plt.style.use('seaborn')  #https://matplotlib.org/3.1.0/gallery/style_sheets/style_sheets_reference.html\n",
    "df_plot = df.groupby('year_of_release')['name']\n",
    "df_plot = df_plot.count()\n",
    "plot = df_plot.plot(kind='bar', y='name', figsize=(20,10))\n"
   ]
  },
  {
   "cell_type": "markdown",
   "metadata": {},
   "source": [
    "**Conclusion**\n",
    "\n",
    "The number of games grew until 2009-2010. Since then, there has been a sharp decline by 2013 and a steady decline by 2016. It can be assumed that the sharp drop is caused by an increase of sales of mobile devices. Then the relevant period for the study will be from 2013-2016, when the market stabilized."
   ]
  },
  {
   "cell_type": "markdown",
   "metadata": {},
   "source": [
    "### Changing of sales by platform"
   ]
  },
  {
   "cell_type": "code",
   "execution_count": 83,
   "metadata": {},
   "outputs": [
    {
     "data": {
      "text/html": [
       "<div>\n",
       "<style scoped>\n",
       "    .dataframe tbody tr th:only-of-type {\n",
       "        vertical-align: middle;\n",
       "    }\n",
       "\n",
       "    .dataframe tbody tr th {\n",
       "        vertical-align: top;\n",
       "    }\n",
       "\n",
       "    .dataframe thead th {\n",
       "        text-align: right;\n",
       "    }\n",
       "</style>\n",
       "<table border=\"1\" class=\"dataframe\">\n",
       "  <thead>\n",
       "    <tr style=\"text-align: right;\">\n",
       "      <th></th>\n",
       "      <th>sales_total</th>\n",
       "    </tr>\n",
       "    <tr>\n",
       "      <th>platform</th>\n",
       "      <th></th>\n",
       "    </tr>\n",
       "  </thead>\n",
       "  <tbody>\n",
       "    <tr>\n",
       "      <th>PS2</th>\n",
       "      <td>1,233.56</td>\n",
       "    </tr>\n",
       "    <tr>\n",
       "      <th>X360</th>\n",
       "      <td>961.24</td>\n",
       "    </tr>\n",
       "    <tr>\n",
       "      <th>PS3</th>\n",
       "      <td>931.34</td>\n",
       "    </tr>\n",
       "    <tr>\n",
       "      <th>Wii</th>\n",
       "      <td>891.18</td>\n",
       "    </tr>\n",
       "    <tr>\n",
       "      <th>DS</th>\n",
       "      <td>802.78</td>\n",
       "    </tr>\n",
       "  </tbody>\n",
       "</table>\n",
       "</div>"
      ],
      "text/plain": [
       "          sales_total\n",
       "platform             \n",
       "PS2          1,233.56\n",
       "X360           961.24\n",
       "PS3            931.34\n",
       "Wii            891.18\n",
       "DS             802.78"
      ]
     },
     "execution_count": 83,
     "metadata": {},
     "output_type": "execute_result"
    }
   ],
   "source": [
    "#looking at total sales by platform that where leading since 1984\n",
    "df.groupby('platform')['sales_total'].sum().to_frame('sales_total')\\\n",
    "            .sort_values(by='sales_total', ascending=False).head()\n",
    "\n"
   ]
  },
  {
   "cell_type": "code",
   "execution_count": 84,
   "metadata": {},
   "outputs": [
    {
     "data": {
      "image/png": "[encoded data removed]",
      "text/plain": [
       "<Figure size 2000x800 with 1 Axes>"
      ]
     },
     "metadata": {},
     "output_type": "display_data"
    },
    {
     "data": {
      "image/png": "[encoded data removed]",
      "text/plain": [
       "<Figure size 2000x800 with 1 Axes>"
      ]
     },
     "metadata": {},
     "output_type": "display_data"
    },
    {
     "data": {
      "image/png": "[encoded data removed]",
      "text/plain": [
       "<Figure size 2000x800 with 1 Axes>"
      ]
     },
     "metadata": {},
     "output_type": "display_data"
    },
    {
     "data": {
      "image/png": "[encoded data removed]",
      "text/plain": [
       "<Figure size 2000x800 with 1 Axes>"
      ]
     },
     "metadata": {},
     "output_type": "display_data"
    },
    {
     "data": {
      "image/png": "[encoded data removed]",
      "text/plain": [
       "<Figure size 2000x800 with 1 Axes>"
      ]
     },
     "metadata": {},
     "output_type": "display_data"
    }
   ],
   "source": [
    "# building for bar for top 5 platforms\n",
    "for pl in ['PS2','X360','PS3','Wii','DS']:\n",
    "    df[df['platform'] == pl].groupby('year_of_release').agg({'sales_total':'sum'})\\\n",
    "    .plot(kind='bar',title = pl, figsize=(20,8))\n"
   ]
  },
  {
   "cell_type": "markdown",
   "metadata": {},
   "source": [
    "**Conclusions**\n",
    "\n",
    "From the previous paragraph, changes in the market since 2012 are obvious, so it is more correct to look at sales for the current period.\n",
    "And  approximate lifetime of the platforms is about 10 years."
   ]
  },
  {
   "cell_type": "markdown",
   "metadata": {},
   "source": [
    "###  Data analysis for chosen actual period of time"
   ]
  },
  {
   "cell_type": "markdown",
   "metadata": {},
   "source": [
    "From previous research, it can be assumed that the stabilization of the market occurred around 2013.\n",
    "Let's create a separate dataframe for this period. On the other hand, the lifetime of the platforms is 10 years. They reach the peak of growth in 4-5 years from the beginning of their existence. We are interested in year 2017. So we will take 2013 as the beginning of the current period."
   ]
  },
  {
   "cell_type": "code",
   "execution_count": 104,
   "metadata": {},
   "outputs": [],
   "source": [
    "df_y = df[(df.year_of_release > 2013)]\n",
    "df_y.reset_index(drop=True,inplace=True)"
   ]
  },
  {
   "cell_type": "code",
   "execution_count": 86,
   "metadata": {},
   "outputs": [
    {
     "data": {
      "text/html": [
       "<div>\n",
       "<style scoped>\n",
       "    .dataframe tbody tr th:only-of-type {\n",
       "        vertical-align: middle;\n",
       "    }\n",
       "\n",
       "    .dataframe tbody tr th {\n",
       "        vertical-align: top;\n",
       "    }\n",
       "\n",
       "    .dataframe thead th {\n",
       "        text-align: right;\n",
       "    }\n",
       "</style>\n",
       "<table border=\"1\" class=\"dataframe\">\n",
       "  <thead>\n",
       "    <tr style=\"text-align: right;\">\n",
       "      <th></th>\n",
       "      <th>name</th>\n",
       "      <th>platform</th>\n",
       "      <th>year_of_release</th>\n",
       "      <th>genre</th>\n",
       "      <th>na_sales</th>\n",
       "      <th>eu_sales</th>\n",
       "      <th>jp_sales</th>\n",
       "      <th>other_sales</th>\n",
       "      <th>critic_score</th>\n",
       "      <th>user_score</th>\n",
       "      <th>rating</th>\n",
       "      <th>sales_total</th>\n",
       "    </tr>\n",
       "  </thead>\n",
       "  <tbody>\n",
       "    <tr>\n",
       "      <th>31</th>\n",
       "      <td>call of duty: black ops 3</td>\n",
       "      <td>PS4</td>\n",
       "      <td>2015</td>\n",
       "      <td>shooter</td>\n",
       "      <td>6.03</td>\n",
       "      <td>5.86</td>\n",
       "      <td>0.36</td>\n",
       "      <td>2.38</td>\n",
       "      <td>NaN</td>\n",
       "      <td>NaN</td>\n",
       "      <td>no_rating</td>\n",
       "      <td>14.63</td>\n",
       "    </tr>\n",
       "    <tr>\n",
       "      <th>42</th>\n",
       "      <td>grand theft auto v</td>\n",
       "      <td>PS4</td>\n",
       "      <td>2014</td>\n",
       "      <td>action</td>\n",
       "      <td>3.96</td>\n",
       "      <td>6.31</td>\n",
       "      <td>0.38</td>\n",
       "      <td>1.97</td>\n",
       "      <td>97.00</td>\n",
       "      <td>8.30</td>\n",
       "      <td>M</td>\n",
       "      <td>12.62</td>\n",
       "    </tr>\n",
       "    <tr>\n",
       "      <th>47</th>\n",
       "      <td>pokemon omega ruby/pokemon alpha sapphire</td>\n",
       "      <td>3DS</td>\n",
       "      <td>2014</td>\n",
       "      <td>role-playing</td>\n",
       "      <td>4.35</td>\n",
       "      <td>3.49</td>\n",
       "      <td>3.10</td>\n",
       "      <td>0.74</td>\n",
       "      <td>NaN</td>\n",
       "      <td>NaN</td>\n",
       "      <td>no_rating</td>\n",
       "      <td>11.68</td>\n",
       "    </tr>\n",
       "    <tr>\n",
       "      <th>77</th>\n",
       "      <td>fifa 16</td>\n",
       "      <td>PS4</td>\n",
       "      <td>2015</td>\n",
       "      <td>sports</td>\n",
       "      <td>1.12</td>\n",
       "      <td>6.12</td>\n",
       "      <td>0.06</td>\n",
       "      <td>1.28</td>\n",
       "      <td>82.00</td>\n",
       "      <td>4.30</td>\n",
       "      <td>E</td>\n",
       "      <td>8.58</td>\n",
       "    </tr>\n",
       "    <tr>\n",
       "      <th>87</th>\n",
       "      <td>star wars battlefront (2015)</td>\n",
       "      <td>PS4</td>\n",
       "      <td>2015</td>\n",
       "      <td>shooter</td>\n",
       "      <td>2.99</td>\n",
       "      <td>3.49</td>\n",
       "      <td>0.22</td>\n",
       "      <td>1.28</td>\n",
       "      <td>NaN</td>\n",
       "      <td>NaN</td>\n",
       "      <td>no_rating</td>\n",
       "      <td>7.98</td>\n",
       "    </tr>\n",
       "  </tbody>\n",
       "</table>\n",
       "</div>"
      ],
      "text/plain": [
       "                                         name platform  year_of_release  \\\n",
       "31                  call of duty: black ops 3      PS4             2015   \n",
       "42                         grand theft auto v      PS4             2014   \n",
       "47  pokemon omega ruby/pokemon alpha sapphire      3DS             2014   \n",
       "77                                    fifa 16      PS4             2015   \n",
       "87               star wars battlefront (2015)      PS4             2015   \n",
       "\n",
       "           genre  na_sales  eu_sales  jp_sales  other_sales  critic_score  \\\n",
       "31       shooter      6.03      5.86      0.36         2.38           NaN   \n",
       "42        action      3.96      6.31      0.38         1.97         97.00   \n",
       "47  role-playing      4.35      3.49      3.10         0.74           NaN   \n",
       "77        sports      1.12      6.12      0.06         1.28         82.00   \n",
       "87       shooter      2.99      3.49      0.22         1.28           NaN   \n",
       "\n",
       "    user_score     rating  sales_total  \n",
       "31         NaN  no_rating        14.63  \n",
       "42        8.30          M        12.62  \n",
       "47         NaN  no_rating        11.68  \n",
       "77        4.30          E         8.58  \n",
       "87         NaN  no_rating         7.98  "
      ]
     },
     "execution_count": 86,
     "metadata": {},
     "output_type": "execute_result"
    }
   ],
   "source": [
    "#checking the resulting table\n",
    "df_y.head(5)"
   ]
  },
  {
   "cell_type": "code",
   "execution_count": 87,
   "metadata": {},
   "outputs": [
    {
     "name": "stdout",
     "output_type": "stream",
     "text": [
      "<class 'pandas.core.frame.DataFrame'>\n",
      "Int64Index: 1689 entries, 31 to 16714\n",
      "Data columns (total 12 columns):\n",
      " #   Column           Non-Null Count  Dtype  \n",
      "---  ------           --------------  -----  \n",
      " 0   name             1689 non-null   object \n",
      " 1   platform         1689 non-null   object \n",
      " 2   year_of_release  1689 non-null   int64  \n",
      " 3   genre            1689 non-null   object \n",
      " 4   na_sales         1689 non-null   float64\n",
      " 5   eu_sales         1689 non-null   float64\n",
      " 6   jp_sales         1689 non-null   float64\n",
      " 7   other_sales      1689 non-null   float64\n",
      " 8   critic_score     718 non-null    float64\n",
      " 9   user_score       888 non-null    float64\n",
      " 10  rating           1689 non-null   object \n",
      " 11  sales_total      1689 non-null   float64\n",
      "dtypes: float64(7), int64(1), object(4)\n",
      "memory usage: 171.5+ KB\n"
     ]
    }
   ],
   "source": [
    "#checking the resulting table\n",
    "df_y.info()"
   ]
  },
  {
   "cell_type": "code",
   "execution_count": 88,
   "metadata": {},
   "outputs": [
    {
     "data": {
      "text/plain": [
       "10"
      ]
     },
     "execution_count": 88,
     "metadata": {},
     "output_type": "execute_result"
    }
   ],
   "source": [
    "#checking the number of unique platform names\n",
    "len(df_y['platform'].unique())"
   ]
  },
  {
   "cell_type": "markdown",
   "metadata": {},
   "source": [
    "There is a lot less data in the table, and there are only two fewer platforms. It can be assumed that among them there are a lot of that are ending their existence. Let's check the sales leaders in these years."
   ]
  },
  {
   "cell_type": "code",
   "execution_count": 89,
   "metadata": {},
   "outputs": [
    {
     "data": {
      "text/plain": [
       "<AxesSubplot:xlabel='platform'>"
      ]
     },
     "execution_count": 89,
     "metadata": {},
     "output_type": "execute_result"
    },
    {
     "data": {
      "image/png": "[encoded data removed]",
      "text/plain": [
       "<Figure size 1500x500 with 1 Axes>"
      ]
     },
     "metadata": {},
     "output_type": "display_data"
    }
   ],
   "source": [
    "df_y.groupby('platform')['sales_total'].sum().plot(kind='bar', figsize=(15,5))"
   ]
  },
  {
   "cell_type": "code",
   "execution_count": 90,
   "metadata": {},
   "outputs": [
    {
     "data": {
      "text/html": [
       "<div>\n",
       "<style scoped>\n",
       "    .dataframe tbody tr th:only-of-type {\n",
       "        vertical-align: middle;\n",
       "    }\n",
       "\n",
       "    .dataframe tbody tr th {\n",
       "        vertical-align: top;\n",
       "    }\n",
       "\n",
       "    .dataframe thead th {\n",
       "        text-align: right;\n",
       "    }\n",
       "</style>\n",
       "<table border=\"1\" class=\"dataframe\">\n",
       "  <thead>\n",
       "    <tr style=\"text-align: right;\">\n",
       "      <th></th>\n",
       "      <th></th>\n",
       "      <th>sales_per_year</th>\n",
       "    </tr>\n",
       "    <tr>\n",
       "      <th>platform</th>\n",
       "      <th>year_of_release</th>\n",
       "      <th></th>\n",
       "    </tr>\n",
       "  </thead>\n",
       "  <tbody>\n",
       "    <tr>\n",
       "      <th rowspan=\"3\" valign=\"top\">3DS</th>\n",
       "      <th>2014</th>\n",
       "      <td>43.76</td>\n",
       "    </tr>\n",
       "    <tr>\n",
       "      <th>2015</th>\n",
       "      <td>27.78</td>\n",
       "    </tr>\n",
       "    <tr>\n",
       "      <th>2016</th>\n",
       "      <td>15.14</td>\n",
       "    </tr>\n",
       "    <tr>\n",
       "      <th rowspan=\"3\" valign=\"top\">PC</th>\n",
       "      <th>2014</th>\n",
       "      <td>13.28</td>\n",
       "    </tr>\n",
       "    <tr>\n",
       "      <th>2015</th>\n",
       "      <td>8.52</td>\n",
       "    </tr>\n",
       "    <tr>\n",
       "      <th>2016</th>\n",
       "      <td>5.25</td>\n",
       "    </tr>\n",
       "    <tr>\n",
       "      <th rowspan=\"3\" valign=\"top\">PS3</th>\n",
       "      <th>2014</th>\n",
       "      <td>47.76</td>\n",
       "    </tr>\n",
       "    <tr>\n",
       "      <th>2015</th>\n",
       "      <td>16.82</td>\n",
       "    </tr>\n",
       "    <tr>\n",
       "      <th>2016</th>\n",
       "      <td>3.60</td>\n",
       "    </tr>\n",
       "    <tr>\n",
       "      <th rowspan=\"3\" valign=\"top\">PS4</th>\n",
       "      <th>2014</th>\n",
       "      <td>100.00</td>\n",
       "    </tr>\n",
       "    <tr>\n",
       "      <th>2015</th>\n",
       "      <td>118.90</td>\n",
       "    </tr>\n",
       "    <tr>\n",
       "      <th>2016</th>\n",
       "      <td>69.25</td>\n",
       "    </tr>\n",
       "    <tr>\n",
       "      <th rowspan=\"2\" valign=\"top\">PSP</th>\n",
       "      <th>2014</th>\n",
       "      <td>0.24</td>\n",
       "    </tr>\n",
       "    <tr>\n",
       "      <th>2015</th>\n",
       "      <td>0.12</td>\n",
       "    </tr>\n",
       "    <tr>\n",
       "      <th rowspan=\"3\" valign=\"top\">PSV</th>\n",
       "      <th>2014</th>\n",
       "      <td>11.90</td>\n",
       "    </tr>\n",
       "    <tr>\n",
       "      <th>2015</th>\n",
       "      <td>6.25</td>\n",
       "    </tr>\n",
       "    <tr>\n",
       "      <th>2016</th>\n",
       "      <td>4.25</td>\n",
       "    </tr>\n",
       "    <tr>\n",
       "      <th rowspan=\"3\" valign=\"top\">Wii</th>\n",
       "      <th>2014</th>\n",
       "      <td>3.75</td>\n",
       "    </tr>\n",
       "    <tr>\n",
       "      <th>2015</th>\n",
       "      <td>1.14</td>\n",
       "    </tr>\n",
       "    <tr>\n",
       "      <th>2016</th>\n",
       "      <td>0.18</td>\n",
       "    </tr>\n",
       "    <tr>\n",
       "      <th rowspan=\"3\" valign=\"top\">WiiU</th>\n",
       "      <th>2014</th>\n",
       "      <td>22.03</td>\n",
       "    </tr>\n",
       "    <tr>\n",
       "      <th>2015</th>\n",
       "      <td>16.35</td>\n",
       "    </tr>\n",
       "    <tr>\n",
       "      <th>2016</th>\n",
       "      <td>4.60</td>\n",
       "    </tr>\n",
       "    <tr>\n",
       "      <th rowspan=\"3\" valign=\"top\">X360</th>\n",
       "      <th>2014</th>\n",
       "      <td>34.74</td>\n",
       "    </tr>\n",
       "    <tr>\n",
       "      <th>2015</th>\n",
       "      <td>11.96</td>\n",
       "    </tr>\n",
       "    <tr>\n",
       "      <th>2016</th>\n",
       "      <td>1.52</td>\n",
       "    </tr>\n",
       "    <tr>\n",
       "      <th rowspan=\"3\" valign=\"top\">XOne</th>\n",
       "      <th>2014</th>\n",
       "      <td>54.07</td>\n",
       "    </tr>\n",
       "    <tr>\n",
       "      <th>2015</th>\n",
       "      <td>60.14</td>\n",
       "    </tr>\n",
       "    <tr>\n",
       "      <th>2016</th>\n",
       "      <td>26.15</td>\n",
       "    </tr>\n",
       "  </tbody>\n",
       "</table>\n",
       "</div>"
      ],
      "text/plain": [
       "                          sales_per_year\n",
       "platform year_of_release                \n",
       "3DS      2014                      43.76\n",
       "         2015                      27.78\n",
       "         2016                      15.14\n",
       "PC       2014                      13.28\n",
       "         2015                       8.52\n",
       "         2016                       5.25\n",
       "PS3      2014                      47.76\n",
       "         2015                      16.82\n",
       "         2016                       3.60\n",
       "PS4      2014                     100.00\n",
       "         2015                     118.90\n",
       "         2016                      69.25\n",
       "PSP      2014                       0.24\n",
       "         2015                       0.12\n",
       "PSV      2014                      11.90\n",
       "         2015                       6.25\n",
       "         2016                       4.25\n",
       "Wii      2014                       3.75\n",
       "         2015                       1.14\n",
       "         2016                       0.18\n",
       "WiiU     2014                      22.03\n",
       "         2015                      16.35\n",
       "         2016                       4.60\n",
       "X360     2014                      34.74\n",
       "         2015                      11.96\n",
       "         2016                       1.52\n",
       "XOne     2014                      54.07\n",
       "         2015                      60.14\n",
       "         2016                      26.15"
      ]
     },
     "execution_count": 90,
     "metadata": {},
     "output_type": "execute_result"
    }
   ],
   "source": [
    "#sales per each platform per year\n",
    "sales_per_year=df_y.groupby(['platform','year_of_release']).agg(sales_per_year=('sales_total', 'sum'))\n",
    "sales_per_year"
   ]
  },
  {
   "cell_type": "code",
   "execution_count": 91,
   "metadata": {},
   "outputs": [
    {
     "data": {
      "text/html": [
       "<div>\n",
       "<style scoped>\n",
       "    .dataframe tbody tr th:only-of-type {\n",
       "        vertical-align: middle;\n",
       "    }\n",
       "\n",
       "    .dataframe tbody tr th {\n",
       "        vertical-align: top;\n",
       "    }\n",
       "\n",
       "    .dataframe thead th {\n",
       "        text-align: right;\n",
       "    }\n",
       "</style>\n",
       "<table border=\"1\" class=\"dataframe\">\n",
       "  <thead>\n",
       "    <tr style=\"text-align: right;\">\n",
       "      <th></th>\n",
       "      <th>sales_total</th>\n",
       "    </tr>\n",
       "    <tr>\n",
       "      <th>platform</th>\n",
       "      <th></th>\n",
       "    </tr>\n",
       "  </thead>\n",
       "  <tbody>\n",
       "    <tr>\n",
       "      <th>PS4</th>\n",
       "      <td>288.15</td>\n",
       "    </tr>\n",
       "    <tr>\n",
       "      <th>XOne</th>\n",
       "      <td>140.36</td>\n",
       "    </tr>\n",
       "    <tr>\n",
       "      <th>3DS</th>\n",
       "      <td>86.68</td>\n",
       "    </tr>\n",
       "    <tr>\n",
       "      <th>PS3</th>\n",
       "      <td>68.18</td>\n",
       "    </tr>\n",
       "    <tr>\n",
       "      <th>X360</th>\n",
       "      <td>48.22</td>\n",
       "    </tr>\n",
       "  </tbody>\n",
       "</table>\n",
       "</div>"
      ],
      "text/plain": [
       "          sales_total\n",
       "platform             \n",
       "PS4            288.15\n",
       "XOne           140.36\n",
       "3DS             86.68\n",
       "PS3             68.18\n",
       "X360            48.22"
      ]
     },
     "execution_count": 91,
     "metadata": {},
     "output_type": "execute_result"
    }
   ],
   "source": [
    "#total sales by platform\n",
    "df_y.groupby('platform')['sales_total'].sum().to_frame('sales_total')\\\n",
    "            .sort_values(by='sales_total', ascending=False).head(5)"
   ]
  },
  {
   "cell_type": "code",
   "execution_count": 92,
   "metadata": {},
   "outputs": [],
   "source": [
    "#sales data for 2016\n",
    "df_2016=df[(df.year_of_release == 2016)]"
   ]
  },
  {
   "cell_type": "code",
   "execution_count": 93,
   "metadata": {},
   "outputs": [
    {
     "data": {
      "text/html": [
       "<div>\n",
       "<style scoped>\n",
       "    .dataframe tbody tr th:only-of-type {\n",
       "        vertical-align: middle;\n",
       "    }\n",
       "\n",
       "    .dataframe tbody tr th {\n",
       "        vertical-align: top;\n",
       "    }\n",
       "\n",
       "    .dataframe thead th {\n",
       "        text-align: right;\n",
       "    }\n",
       "</style>\n",
       "<table border=\"1\" class=\"dataframe\">\n",
       "  <thead>\n",
       "    <tr style=\"text-align: right;\">\n",
       "      <th></th>\n",
       "      <th>sales_total</th>\n",
       "    </tr>\n",
       "    <tr>\n",
       "      <th>platform</th>\n",
       "      <th></th>\n",
       "    </tr>\n",
       "  </thead>\n",
       "  <tbody>\n",
       "    <tr>\n",
       "      <th>PS4</th>\n",
       "      <td>69.25</td>\n",
       "    </tr>\n",
       "    <tr>\n",
       "      <th>XOne</th>\n",
       "      <td>26.15</td>\n",
       "    </tr>\n",
       "    <tr>\n",
       "      <th>3DS</th>\n",
       "      <td>15.14</td>\n",
       "    </tr>\n",
       "    <tr>\n",
       "      <th>PC</th>\n",
       "      <td>5.25</td>\n",
       "    </tr>\n",
       "    <tr>\n",
       "      <th>WiiU</th>\n",
       "      <td>4.60</td>\n",
       "    </tr>\n",
       "  </tbody>\n",
       "</table>\n",
       "</div>"
      ],
      "text/plain": [
       "          sales_total\n",
       "platform             \n",
       "PS4             69.25\n",
       "XOne            26.15\n",
       "3DS             15.14\n",
       "PC               5.25\n",
       "WiiU             4.60"
      ]
     },
     "execution_count": 93,
     "metadata": {},
     "output_type": "execute_result"
    }
   ],
   "source": [
    "df_2016.groupby('platform')['sales_total'].sum().to_frame('sales_total')\\\n",
    "            .sort_values(by='sales_total', ascending=False).head(5)"
   ]
  },
  {
   "cell_type": "markdown",
   "metadata": {},
   "source": [
    "Thus, we can assume that the three best-selling platforms in 2017 will be those\n",
    "that did not show a strong drop and are the best-selling in 2016: PS4, XOne, 3DS."
   ]
  },
  {
   "cell_type": "markdown",
   "metadata": {},
   "source": [
    "### Boxplot for actual period"
   ]
  },
  {
   "cell_type": "code",
   "execution_count": 94,
   "metadata": {},
   "outputs": [
    {
     "data": {
      "text/plain": [
       "(0.0, 1.75)"
      ]
     },
     "execution_count": 94,
     "metadata": {},
     "output_type": "execute_result"
    },
    {
     "data": {
      "image/png": "[encoded data removed]",
      "text/plain": [
       "<Figure size 2000x1000 with 1 Axes>"
      ]
     },
     "metadata": {},
     "output_type": "display_data"
    }
   ],
   "source": [
    "df_y.boxplot(column=['sales_total'], by='platform',figsize=(20,10)).set_ylim(0, 1.75)"
   ]
  },
  {
   "cell_type": "markdown",
   "metadata": {},
   "source": [
    "For the current period, the median value of sales for the leaders is approximately 0.2 millions. \n",
    "The most popular games for the desired period are PS4, XOne, 3DS. We ca see as well best selling games.\n",
    "Let's see how they were influenced by users' and critics' reviews."
   ]
  },
  {
   "cell_type": "markdown",
   "metadata": {},
   "source": [
    "### Dependence of sales on reviews within popular platforms"
   ]
  },
  {
   "cell_type": "code",
   "execution_count": 95,
   "metadata": {},
   "outputs": [
    {
     "data": {
      "text/html": [
       "<div>\n",
       "<style scoped>\n",
       "    .dataframe tbody tr th:only-of-type {\n",
       "        vertical-align: middle;\n",
       "    }\n",
       "\n",
       "    .dataframe tbody tr th {\n",
       "        vertical-align: top;\n",
       "    }\n",
       "\n",
       "    .dataframe thead th {\n",
       "        text-align: right;\n",
       "    }\n",
       "</style>\n",
       "<table border=\"1\" class=\"dataframe\">\n",
       "  <thead>\n",
       "    <tr style=\"text-align: right;\">\n",
       "      <th></th>\n",
       "      <th>name</th>\n",
       "      <th>platform</th>\n",
       "      <th>year_of_release</th>\n",
       "      <th>genre</th>\n",
       "      <th>na_sales</th>\n",
       "      <th>eu_sales</th>\n",
       "      <th>jp_sales</th>\n",
       "      <th>other_sales</th>\n",
       "      <th>critic_score</th>\n",
       "      <th>user_score</th>\n",
       "      <th>rating</th>\n",
       "      <th>sales_total</th>\n",
       "    </tr>\n",
       "  </thead>\n",
       "  <tbody>\n",
       "    <tr>\n",
       "      <th>31</th>\n",
       "      <td>call of duty: black ops 3</td>\n",
       "      <td>PS4</td>\n",
       "      <td>2015</td>\n",
       "      <td>shooter</td>\n",
       "      <td>6.03</td>\n",
       "      <td>5.86</td>\n",
       "      <td>0.36</td>\n",
       "      <td>2.38</td>\n",
       "      <td>NaN</td>\n",
       "      <td>NaN</td>\n",
       "      <td>no_rating</td>\n",
       "      <td>14.63</td>\n",
       "    </tr>\n",
       "    <tr>\n",
       "      <th>42</th>\n",
       "      <td>grand theft auto v</td>\n",
       "      <td>PS4</td>\n",
       "      <td>2014</td>\n",
       "      <td>action</td>\n",
       "      <td>3.96</td>\n",
       "      <td>6.31</td>\n",
       "      <td>0.38</td>\n",
       "      <td>1.97</td>\n",
       "      <td>97.00</td>\n",
       "      <td>8.30</td>\n",
       "      <td>M</td>\n",
       "      <td>12.62</td>\n",
       "    </tr>\n",
       "    <tr>\n",
       "      <th>47</th>\n",
       "      <td>pokemon omega ruby/pokemon alpha sapphire</td>\n",
       "      <td>3DS</td>\n",
       "      <td>2014</td>\n",
       "      <td>role-playing</td>\n",
       "      <td>4.35</td>\n",
       "      <td>3.49</td>\n",
       "      <td>3.10</td>\n",
       "      <td>0.74</td>\n",
       "      <td>NaN</td>\n",
       "      <td>NaN</td>\n",
       "      <td>no_rating</td>\n",
       "      <td>11.68</td>\n",
       "    </tr>\n",
       "    <tr>\n",
       "      <th>77</th>\n",
       "      <td>fifa 16</td>\n",
       "      <td>PS4</td>\n",
       "      <td>2015</td>\n",
       "      <td>sports</td>\n",
       "      <td>1.12</td>\n",
       "      <td>6.12</td>\n",
       "      <td>0.06</td>\n",
       "      <td>1.28</td>\n",
       "      <td>82.00</td>\n",
       "      <td>4.30</td>\n",
       "      <td>E</td>\n",
       "      <td>8.58</td>\n",
       "    </tr>\n",
       "    <tr>\n",
       "      <th>87</th>\n",
       "      <td>star wars battlefront (2015)</td>\n",
       "      <td>PS4</td>\n",
       "      <td>2015</td>\n",
       "      <td>shooter</td>\n",
       "      <td>2.99</td>\n",
       "      <td>3.49</td>\n",
       "      <td>0.22</td>\n",
       "      <td>1.28</td>\n",
       "      <td>NaN</td>\n",
       "      <td>NaN</td>\n",
       "      <td>no_rating</td>\n",
       "      <td>7.98</td>\n",
       "    </tr>\n",
       "  </tbody>\n",
       "</table>\n",
       "</div>"
      ],
      "text/plain": [
       "                                         name platform  year_of_release  \\\n",
       "31                  call of duty: black ops 3      PS4             2015   \n",
       "42                         grand theft auto v      PS4             2014   \n",
       "47  pokemon omega ruby/pokemon alpha sapphire      3DS             2014   \n",
       "77                                    fifa 16      PS4             2015   \n",
       "87               star wars battlefront (2015)      PS4             2015   \n",
       "\n",
       "           genre  na_sales  eu_sales  jp_sales  other_sales  critic_score  \\\n",
       "31       shooter      6.03      5.86      0.36         2.38           NaN   \n",
       "42        action      3.96      6.31      0.38         1.97         97.00   \n",
       "47  role-playing      4.35      3.49      3.10         0.74           NaN   \n",
       "77        sports      1.12      6.12      0.06         1.28         82.00   \n",
       "87       shooter      2.99      3.49      0.22         1.28           NaN   \n",
       "\n",
       "    user_score     rating  sales_total  \n",
       "31         NaN  no_rating        14.63  \n",
       "42        8.30          M        12.62  \n",
       "47         NaN  no_rating        11.68  \n",
       "77        4.30          E         8.58  \n",
       "87         NaN  no_rating         7.98  "
      ]
     },
     "execution_count": 95,
     "metadata": {},
     "output_type": "execute_result"
    }
   ],
   "source": [
    "df_y.head(5)"
   ]
  },
  {
   "cell_type": "code",
   "execution_count": 98,
   "metadata": {},
   "outputs": [
    {
     "data": {
      "image/png": "[encoded data removed]",
      "text/plain": [
       "<Figure size 2000x1000 with 1 Axes>"
      ]
     },
     "metadata": {},
     "output_type": "display_data"
    }
   ],
   "source": [
    "# scatter correlation plot for total sales /user_score\n",
    "ys = df_y['sales_total']\n",
    "xs = df_y['user_score'].apply( np.log )\n",
    "pd.DataFrame(np.array([xs,ys]).T).plot.scatter(0, 1, s=12, grid=True, figsize=(20,10))\n",
    "plt.xlabel('LOG USER SCORE')\n",
    "plt.ylabel('TOTAL SALES')\n",
    "plt.show()"
   ]
  },
  {
   "cell_type": "code",
   "execution_count": 97,
   "metadata": {},
   "outputs": [
    {
     "data": {
      "text/plain": [
       "0.0019659616779721676"
      ]
     },
     "execution_count": 97,
     "metadata": {},
     "output_type": "execute_result"
    }
   ],
   "source": [
    "#calculating value of correlation\n",
    "df_y['sales_total'].corr( df_y['user_score'].apply(np.log))"
   ]
  },
  {
   "cell_type": "code",
   "execution_count": 99,
   "metadata": {},
   "outputs": [
    {
     "data": {
      "image/png": "[encoded data removed]",
      "text/plain": [
       "<Figure size 2000x1000 with 1 Axes>"
      ]
     },
     "metadata": {},
     "output_type": "display_data"
    }
   ],
   "source": [
    "# scatter correlation plot for total sales /critic_score\n",
    "ys = df_y['sales_total']\n",
    "xs = df_y['critic_score'].apply( np.log )\n",
    "pd.DataFrame(np.array([xs,ys]).T).plot.scatter(0, 1, s=12, grid=True,figsize=(20,10))\n",
    "plt.xlabel('LOG CRITIC SCORE')\n",
    "plt.ylabel('TOTAL SALES')\n",
    "plt.show()"
   ]
  },
  {
   "cell_type": "code",
   "execution_count": 100,
   "metadata": {},
   "outputs": [
    {
     "data": {
      "text/plain": [
       "0.289354110320557"
      ]
     },
     "execution_count": 100,
     "metadata": {},
     "output_type": "execute_result"
    }
   ],
   "source": [
    "#calculating value of correlation\n",
    "df_y['sales_total'].corr( df_y['critic_score'].apply(np.log))"
   ]
  },
  {
   "cell_type": "code",
   "execution_count": 101,
   "metadata": {
    "scrolled": false
   },
   "outputs": [
    {
     "name": "stdout",
     "output_type": "stream",
     "text": [
      "critic_score for PS4\n",
      "Correlation 0.3423581663069408\n"
     ]
    },
    {
     "data": {
      "image/png": "[encoded data removed]",
      "text/plain": [
       "<Figure size 2000x1000 with 1 Axes>"
      ]
     },
     "metadata": {},
     "output_type": "display_data"
    },
    {
     "name": "stdout",
     "output_type": "stream",
     "text": [
      "user_score for PS4\n",
      "Correlation -0.021980711523458426\n"
     ]
    },
    {
     "data": {
      "image/png": "[encoded data removed]",
      "text/plain": [
       "<Figure size 2000x1000 with 1 Axes>"
      ]
     },
     "metadata": {},
     "output_type": "display_data"
    },
    {
     "name": "stdout",
     "output_type": "stream",
     "text": [
      "critic_score for XOne\n",
      "Correlation 0.37925698463908164\n"
     ]
    },
    {
     "data": {
      "image/png": "[encoded data removed]",
      "text/plain": [
       "<Figure size 2000x1000 with 1 Axes>"
      ]
     },
     "metadata": {},
     "output_type": "display_data"
    },
    {
     "name": "stdout",
     "output_type": "stream",
     "text": [
      "user_score for XOne\n",
      "Correlation -0.04226015955606914\n"
     ]
    },
    {
     "data": {
      "image/png": "[encoded data removed]",
      "text/plain": [
       "<Figure size 2000x1000 with 1 Axes>"
      ]
     },
     "metadata": {},
     "output_type": "display_data"
    },
    {
     "name": "stdout",
     "output_type": "stream",
     "text": [
      "critic_score for 3DS\n",
      "Correlation 0.2858221780229288\n"
     ]
    },
    {
     "data": {
      "image/png": "[encoded data removed]",
      "text/plain": [
       "<Figure size 2000x1000 with 1 Axes>"
      ]
     },
     "metadata": {},
     "output_type": "display_data"
    },
    {
     "name": "stdout",
     "output_type": "stream",
     "text": [
      "user_score for 3DS\n",
      "Correlation 0.18150231767308678\n"
     ]
    },
    {
     "data": {
      "image/png": "[encoded data removed]",
      "text/plain": [
       "<Figure size 2000x1000 with 1 Axes>"
      ]
     },
     "metadata": {},
     "output_type": "display_data"
    }
   ],
   "source": [
    "#calculating correlation for each of popular platforms\n",
    "for popular in [ 'PS4', 'XOne', '3DS']:\n",
    "    for score in ['critic_score','user_score']:\n",
    "        df_p=df_y[(df_y['platform'] == popular) & (df_y[score] > 0)]\n",
    "        ys = df_y['sales_total']\n",
    "        xs = df_y[score].apply( np.log )\n",
    "        corr=df_p['sales_total'].corr( df_p[score].apply(np.log))\n",
    "        print(score,'for',popular)\n",
    "        print('Correlation',corr)\n",
    "        pd.DataFrame(np.array([xs,ys]).T).plot.scatter(0, 1, s=12, grid=True,figsize=(20,10))\n",
    "        plt.xlabel(score)\n",
    "        plt.ylabel('TOTAL SALES')\n",
    "        plt.show()\n"
   ]
  },
  {
   "cell_type": "markdown",
   "metadata": {},
   "source": [
    "**Conclusion**\n",
    "\n",
    "There is a weak correlation with the critics' rating. It does not correlate with the user rating. Perhaps there is some dependency, but it is nonlinear."
   ]
  },
  {
   "cell_type": "markdown",
   "metadata": {},
   "source": [
    "### The most profitable genre for actual period"
   ]
  },
  {
   "cell_type": "code",
   "execution_count": 102,
   "metadata": {},
   "outputs": [
    {
     "data": {
      "text/plain": [
       "<AxesSubplot:xlabel='genre'>"
      ]
     },
     "execution_count": 102,
     "metadata": {},
     "output_type": "execute_result"
    },
    {
     "data": {
      "image/png": "[encoded data removed]",
      "text/plain": [
       "<Figure size 2000x1000 with 1 Axes>"
      ]
     },
     "metadata": {},
     "output_type": "display_data"
    }
   ],
   "source": [
    "pivot = df_y.groupby('genre').agg({'sales_total': 'median'}).sort_values(by='sales_total', ascending=False)\n",
    "pivot.plot(kind='bar', figsize=(20,10))"
   ]
  },
  {
   "cell_type": "markdown",
   "metadata": {},
   "source": [
    "According to median sales shooter games leading."
   ]
  },
  {
   "cell_type": "markdown",
   "metadata": {},
   "source": [
    "**Conclusion**\n",
    " \n",
    "- The number of games grew until 2009-2010. Since then, there has been a sharp decline by 2013 and a steady decline by 2016. It can be assumed that the sharp drop is caused by an increase in sales of mobile devices and part of the games moved to mobile devices. Then the relevant period for the study will be from 2013-2016, when the market stabilized.\n",
    "\n",
    "- From 1984-2016, the following platforms were in the lead: PS2,X360,PS3,Wii,DS\n",
    "\n",
    "The current period is defined as the period of stabilization of decline in sales on platforms since 2013:\n",
    "\n",
    "- There are no platforms growing in sales. The peaks of growth in 2014 showed: PS4 and XOne. Thus, it can be assumed that the most promising sales in 2017 will be those platforms that did not show a strong drop in 2016. That is, the leaders in sales in 2016.\n",
    "\n",
    "- PS4, XOne, 3DS are expected to show good sales in 2017, as the platform market is falling.\n",
    "\n",
    "- For the current period, the median value of sales for the leaders is approximately 0.2 million dollars.\n",
    "\n",
    "- There is a weak correlation with the critics' rating. It does not correlate with the user rating. Perhaps there is some dependency, but it is nonlinear.\n",
    "\n",
    "- The highest sales in the genre of action, shooter and sports. The lowest in the puzzle genre (we can assume that this genre has definitely migrated to mobile devices). The highest median sales show shooter.\n"
   ]
  },
  {
   "cell_type": "markdown",
   "metadata": {},
   "source": [
    "## Portrait of the user of each region\n"
   ]
  },
  {
   "cell_type": "code",
   "execution_count": 105,
   "metadata": {},
   "outputs": [
    {
     "data": {
      "text/html": [
       "<div>\n",
       "<style scoped>\n",
       "    .dataframe tbody tr th:only-of-type {\n",
       "        vertical-align: middle;\n",
       "    }\n",
       "\n",
       "    .dataframe tbody tr th {\n",
       "        vertical-align: top;\n",
       "    }\n",
       "\n",
       "    .dataframe thead th {\n",
       "        text-align: right;\n",
       "    }\n",
       "</style>\n",
       "<table border=\"1\" class=\"dataframe\">\n",
       "  <thead>\n",
       "    <tr style=\"text-align: right;\">\n",
       "      <th></th>\n",
       "      <th>name</th>\n",
       "      <th>platform</th>\n",
       "      <th>year_of_release</th>\n",
       "      <th>genre</th>\n",
       "      <th>na_sales</th>\n",
       "      <th>eu_sales</th>\n",
       "      <th>jp_sales</th>\n",
       "      <th>other_sales</th>\n",
       "      <th>critic_score</th>\n",
       "      <th>user_score</th>\n",
       "      <th>rating</th>\n",
       "      <th>sales_total</th>\n",
       "    </tr>\n",
       "  </thead>\n",
       "  <tbody>\n",
       "    <tr>\n",
       "      <th>0</th>\n",
       "      <td>call of duty: black ops 3</td>\n",
       "      <td>PS4</td>\n",
       "      <td>2015</td>\n",
       "      <td>shooter</td>\n",
       "      <td>6.03</td>\n",
       "      <td>5.86</td>\n",
       "      <td>0.36</td>\n",
       "      <td>2.38</td>\n",
       "      <td>NaN</td>\n",
       "      <td>NaN</td>\n",
       "      <td>no_rating</td>\n",
       "      <td>14.63</td>\n",
       "    </tr>\n",
       "    <tr>\n",
       "      <th>1</th>\n",
       "      <td>grand theft auto v</td>\n",
       "      <td>PS4</td>\n",
       "      <td>2014</td>\n",
       "      <td>action</td>\n",
       "      <td>3.96</td>\n",
       "      <td>6.31</td>\n",
       "      <td>0.38</td>\n",
       "      <td>1.97</td>\n",
       "      <td>97.00</td>\n",
       "      <td>8.30</td>\n",
       "      <td>M</td>\n",
       "      <td>12.62</td>\n",
       "    </tr>\n",
       "    <tr>\n",
       "      <th>2</th>\n",
       "      <td>pokemon omega ruby/pokemon alpha sapphire</td>\n",
       "      <td>3DS</td>\n",
       "      <td>2014</td>\n",
       "      <td>role-playing</td>\n",
       "      <td>4.35</td>\n",
       "      <td>3.49</td>\n",
       "      <td>3.10</td>\n",
       "      <td>0.74</td>\n",
       "      <td>NaN</td>\n",
       "      <td>NaN</td>\n",
       "      <td>no_rating</td>\n",
       "      <td>11.68</td>\n",
       "    </tr>\n",
       "    <tr>\n",
       "      <th>3</th>\n",
       "      <td>fifa 16</td>\n",
       "      <td>PS4</td>\n",
       "      <td>2015</td>\n",
       "      <td>sports</td>\n",
       "      <td>1.12</td>\n",
       "      <td>6.12</td>\n",
       "      <td>0.06</td>\n",
       "      <td>1.28</td>\n",
       "      <td>82.00</td>\n",
       "      <td>4.30</td>\n",
       "      <td>E</td>\n",
       "      <td>8.58</td>\n",
       "    </tr>\n",
       "    <tr>\n",
       "      <th>4</th>\n",
       "      <td>star wars battlefront (2015)</td>\n",
       "      <td>PS4</td>\n",
       "      <td>2015</td>\n",
       "      <td>shooter</td>\n",
       "      <td>2.99</td>\n",
       "      <td>3.49</td>\n",
       "      <td>0.22</td>\n",
       "      <td>1.28</td>\n",
       "      <td>NaN</td>\n",
       "      <td>NaN</td>\n",
       "      <td>no_rating</td>\n",
       "      <td>7.98</td>\n",
       "    </tr>\n",
       "  </tbody>\n",
       "</table>\n",
       "</div>"
      ],
      "text/plain": [
       "                                        name platform  year_of_release  \\\n",
       "0                  call of duty: black ops 3      PS4             2015   \n",
       "1                         grand theft auto v      PS4             2014   \n",
       "2  pokemon omega ruby/pokemon alpha sapphire      3DS             2014   \n",
       "3                                    fifa 16      PS4             2015   \n",
       "4               star wars battlefront (2015)      PS4             2015   \n",
       "\n",
       "          genre  na_sales  eu_sales  jp_sales  other_sales  critic_score  \\\n",
       "0       shooter      6.03      5.86      0.36         2.38           NaN   \n",
       "1        action      3.96      6.31      0.38         1.97         97.00   \n",
       "2  role-playing      4.35      3.49      3.10         0.74           NaN   \n",
       "3        sports      1.12      6.12      0.06         1.28         82.00   \n",
       "4       shooter      2.99      3.49      0.22         1.28           NaN   \n",
       "\n",
       "   user_score     rating  sales_total  \n",
       "0         NaN  no_rating        14.63  \n",
       "1        8.30          M        12.62  \n",
       "2         NaN  no_rating        11.68  \n",
       "3        4.30          E         8.58  \n",
       "4         NaN  no_rating         7.98  "
      ]
     },
     "execution_count": 105,
     "metadata": {},
     "output_type": "execute_result"
    }
   ],
   "source": [
    "df_y.head(5)"
   ]
  },
  {
   "cell_type": "code",
   "execution_count": 106,
   "metadata": {},
   "outputs": [
    {
     "data": {
      "text/plain": [
       "<AxesSubplot:title={'center':'Japan'}, xlabel='platform'>"
      ]
     },
     "execution_count": 106,
     "metadata": {},
     "output_type": "execute_result"
    },
    {
     "data": {
      "image/png": "[encoded data removed]",
      "text/plain": [
       "<Figure size 2500x600 with 3 Axes>"
      ]
     },
     "metadata": {},
     "output_type": "display_data"
    }
   ],
   "source": [
    "fig, axes = plt.subplots(1, 3, figsize=(25,6))\n",
    "\n",
    "df_y.groupby(by='platform').agg({'na_sales':'sum'}).\\\n",
    "   sort_values(by='na_sales', ascending=False).head(5).\\\n",
    "   plot(kind='bar',title= 'North America', ax=axes[0], color='blue')\n",
    "\n",
    "df.groupby(by='platform').agg({'eu_sales':'sum'}).\\\n",
    "   sort_values(by='eu_sales', ascending=False).head(5).\\\n",
    "   plot(kind='bar',title= 'EU', ax=axes[1], color='yellow')\n",
    "\n",
    "df.groupby(by='platform').agg({'jp_sales':'sum'}).\\\n",
    "   sort_values(by='jp_sales', ascending=False).head(5).\\\n",
    "   plot(kind='bar',title= 'Japan', ax=axes[2], color='green')\n"
   ]
  },
  {
   "cell_type": "markdown",
   "metadata": {},
   "source": [
    "For North America the PS4 is the leader, for Europe - the PS2, and for Japan - the DS.\n",
    "It can be assumed that the difference between Europe and North America is caused by the difference in the level of average income (in the USA and Canada average income are higher than in Europe) and the consumer culture is different. \n",
    "For Japan, it can be assumed that its cultural characteristics play a role here: traditional culture and the difficult rejection of old software.\n"
   ]
  },
  {
   "cell_type": "code",
   "execution_count": 108,
   "metadata": {},
   "outputs": [
    {
     "data": {
      "text/plain": [
       "<AxesSubplot:title={'center':'Japan'}, xlabel='genre'>"
      ]
     },
     "execution_count": 108,
     "metadata": {},
     "output_type": "execute_result"
    },
    {
     "data": {
      "image/png": "[encoded data removed]",
      "text/plain": [
       "<Figure size 2500x600 with 3 Axes>"
      ]
     },
     "metadata": {},
     "output_type": "display_data"
    }
   ],
   "source": [
    "fig, axes = plt.subplots(1, 3, figsize=(25,6))\n",
    "\n",
    "df_y.groupby(by='genre').agg({'na_sales':'sum'}).\\\n",
    "   sort_values(by='na_sales', ascending=False).head(5).\\\n",
    "   plot(kind='bar',title= 'North America', ax=axes[0], color='blue')\n",
    "\n",
    "df_y.groupby(by='genre').agg({'eu_sales':'sum'}).\\\n",
    "   sort_values(by='eu_sales', ascending=False).head(5).\\\n",
    "   plot(kind='bar',title= 'EU', ax=axes[1], color='yellow')\n",
    "\n",
    "df_y.groupby(by='genre').agg({'jp_sales':'sum'}).\\\n",
    "   sort_values(by='jp_sales', ascending=False).head(5).\\\n",
    "   plot(kind='bar',title= 'Japan', ax=axes[2], color='green')"
   ]
  },
  {
   "cell_type": "markdown",
   "metadata": {},
   "source": [
    "The top 3 in North America and Europe include: action, shooter, sports. But due to cultural peculiarities and the culture of weapons, shooter is in the first place in the USA, and action is in Europe.\n",
    "In Japan, the leader is role-play. It can be assumed that this is due to the rich culture of cosplay."
   ]
  },
  {
   "cell_type": "code",
   "execution_count": 62,
   "metadata": {},
   "outputs": [
    {
     "data": {
      "text/plain": [
       "<AxesSubplot:title={'center':'Japan'}, xlabel='rating'>"
      ]
     },
     "execution_count": 62,
     "metadata": {},
     "output_type": "execute_result"
    },
    {
     "data": {
      "image/png": "[encoded data removed]",
      "text/plain": [
       "<Figure size 1800x432 with 3 Axes>"
      ]
     },
     "metadata": {},
     "output_type": "display_data"
    }
   ],
   "source": [
    "fig, axes = plt.subplots(1, 3, figsize=(25,6))\n",
    "\n",
    "df_y.groupby(by='rating').agg({'na_sales':'sum'}).\\\n",
    "   sort_values(by='na_sales', ascending=False).head(5).\\\n",
    "   plot(kind='bar',title= 'North America', ax=axes[0], color='blue')\n",
    "\n",
    "df_y.groupby(by='rating').agg({'eu_sales':'sum'}).\\\n",
    "   sort_values(by='eu_sales', ascending=False).head(5).\\\n",
    "   plot(kind='bar',title= 'EU', ax=axes[1], color='yellow')\n",
    "\n",
    "df_y.groupby(by='rating').agg({'jp_sales':'sum'}).\\\n",
    "   sort_values(by='jp_sales', ascending=False).head(5).\\\n",
    "   plot(kind='bar',title= 'Japan', ax=axes[2], color='green')"
   ]
  },
  {
   "cell_type": "markdown",
   "metadata": {},
   "source": [
    "The share of sales by ratings in Europe and the USA does not differ at all: M(mature), without a rating, E(everybody)\n",
    "In Japan the share of sales by ratings is led by games without a rating."
   ]
  },
  {
   "cell_type": "markdown",
   "metadata": {},
   "source": [
    "**Conclusion**\n",
    "\n",
    "For North America the PS4 is the leader, for Europe - the PS2, and for Japan - the DS. It can be assumed that the difference between Europe and North America is caused by the difference in the level of average income (in the USA and Canada average incomes are higher than in Europe) and the consumer culture is different. For Japan, it can be assumed that its cultural characteristics play a role here: traditional culture and the difficult rejection of old software. \n",
    "\n",
    "The top 3 in North America and Europe include: action, shooter, sports. But due to cultural peculiarities and the culture of weapons, shooter is in the first place in the USA, and action is in Europe. In Japan, the leader is role-play. It can be assumed that this is due to the rich culture of cosplay.\n",
    "\n",
    "The share of sales by ratings in Europe and the USA does not differ at all: M(mature), without a rating, E(everybody)\n",
    "In Japan, the share of sales by ratings is led by games without a rating.ture),без рейтинга, E(everybody)."
   ]
  },
  {
   "cell_type": "markdown",
   "metadata": {},
   "source": [
    "## Testing statistical hypotheses"
   ]
  },
  {
   "cell_type": "markdown",
   "metadata": {},
   "source": [
    "*According to the task it is necessary to check the following hypothesis*\n",
    "\n",
    "- The average user ratings of the Xbox One and PC platforms are the same\n",
    "\n",
    "- Average user ratings of Action and Sports genres are different.\n"
   ]
  },
  {
   "cell_type": "markdown",
   "metadata": {},
   "source": [
    "To test both hypotheses, we will use the  t-test, since in both cases the samples are independent of each other.\n",
    "Let's define the threshold value of alpha as 0.05\n",
    "\n",
    "Let's check the hypotheses for the current interval."
   ]
  },
  {
   "cell_type": "markdown",
   "metadata": {},
   "source": [
    "### Average user ratings of Xbox One and PC platforms are the same"
   ]
  },
  {
   "cell_type": "markdown",
   "metadata": {},
   "source": [
    "H0 (null hypothesis) - the average user ratings of the Xbox One and PC platforms are the same.\n",
    "\n",
    "H1 (alternative hypothesis) - the average user ratings of the Xbox One and PC platforms differ from each other.\n"
   ]
  },
  {
   "cell_type": "code",
   "execution_count": 122,
   "metadata": {},
   "outputs": [
    {
     "data": {
      "text/plain": [
       "array(['PS4', '3DS', 'XOne', 'WiiU', 'PS3', 'X360', 'PC', 'Wii', 'PSV',\n",
       "       'PSP'], dtype=object)"
      ]
     },
     "execution_count": 122,
     "metadata": {},
     "output_type": "execute_result"
    }
   ],
   "source": [
    "#checking unique names of platforms\n",
    "df_y['platform'].unique()"
   ]
  },
  {
   "cell_type": "code",
   "execution_count": 123,
   "metadata": {},
   "outputs": [],
   "source": [
    "# setting alpha value\n",
    "alpha=0.05\n",
    "# setting dataframes\n",
    "PC = df_y[(df_y['platform'] == 'PC') & (df_y['user_score'] > 0)]['user_score']\n",
    "XOne = df_y[(df_y['platform'] == 'XOne') & (df_y['user_score'] > 0)]['user_score']"
   ]
  },
  {
   "cell_type": "code",
   "execution_count": 124,
   "metadata": {},
   "outputs": [],
   "source": [
    "def t_test(df1, df2,alpha):\n",
    "    results = st.ttest_ind(df1, df2)\n",
    "    print('p-value: ', results.pvalue)\n",
    "    if results.pvalue < alpha:\n",
    "        print('Rejecting H0: there is a significant statistical difference between the shares')\n",
    "    else:\n",
    "        print('Rejecting H0 was not succesful, we can not consider that there is a significant statistical difference between the shares') "
   ]
  },
  {
   "cell_type": "code",
   "execution_count": 125,
   "metadata": {},
   "outputs": [
    {
     "name": "stdout",
     "output_type": "stream",
     "text": [
      "p-value:  0.10450507919348415\n",
      "Rejecting H0 was not succesful, we can not consider that there is a significant statistical difference between the shares\n"
     ]
    }
   ],
   "source": [
    "t_test(PC,XOne,alpha)"
   ]
  },
  {
   "cell_type": "markdown",
   "metadata": {},
   "source": [
    "### Average user ratings of Action and Sports genres are different"
   ]
  },
  {
   "cell_type": "markdown",
   "metadata": {},
   "source": [
    "- H0: the average user rating of the Action and Sports genres is the same\n",
    "\n",
    "- H1: The average user rating of the Action and Sports genres differs\n"
   ]
  },
  {
   "cell_type": "code",
   "execution_count": 126,
   "metadata": {},
   "outputs": [],
   "source": [
    "action = df_y[(df_y['genre'] == 'action') & (df_y['user_score'] > 0)]['user_score']\n",
    "sports = df_y[(df_y['genre'] == 'sports') & (df_y['user_score'] > 0)]['user_score']"
   ]
  },
  {
   "cell_type": "code",
   "execution_count": 127,
   "metadata": {},
   "outputs": [
    {
     "name": "stdout",
     "output_type": "stream",
     "text": [
      "p-value:  2.8711147985105864e-19\n",
      "Rejecting H0: there is a significant statistical difference between the shares\n"
     ]
    }
   ],
   "source": [
    "t_test(action,sports,alpha)"
   ]
  },
  {
   "cell_type": "markdown",
   "metadata": {},
   "source": [
    "##  Conclusion"
   ]
  },
  {
   "cell_type": "markdown",
   "metadata": {},
   "source": [
    "**EDA conclusion**\n",
    " \n",
    "- The number of games grew until 2009-2010. Since then, there has been a sharp decline by 2013 and a steady decline by 2016. It can be assumed that the sharp drop is caused by an increase in sales of mobile devices and part of the games moved to mobile devices. Then the relevant period for the study will be from 2013-2016, when the market stabilized.\n",
    "\n",
    "- From 1984-2016, the following platforms were in the lead: PS2,X360,PS3,Wii,DS\n",
    "\n",
    "The current period is defined as the period of stabilization of decline in sales on platforms since 2013:\n",
    "\n",
    "- There are no platforms growing in sales. The peaks of growth in 2014 showed: PS4 and XOne. Thus, it can be assumed that the most promising sales in 2017 will be those platforms that did not show a strong drop in 2016. That is, the leaders in sales in 2016.\n",
    "\n",
    "- PS4, XOne, 3DS are expected to show good sales in 2017, as the platform market is falling.\n",
    "\n",
    "- For the current period, the median value of sales for the leaders is approximately 0.2 million dollars.\n",
    "\n",
    "- There is a weak correlation with the critics' rating. It does not correlate with the user rating. Perhaps there is some dependency, but it is nonlinear.\n",
    "\n",
    "- The highest sales in the genre of action, shooter and sports. The lowest in the puzzle genre (we can assume that this genre has definitely migrated to mobile devices). The highest median sales show shooter.\n",
    "\n",
    "\n",
    "**Users' profile definition conclusion**\n",
    "\n",
    "For North America the PS4 is the leader, for Europe - the PS2, and for Japan - the DS. It can be assumed that the difference between Europe and North America is caused by the difference in the level of average income (in the USA and Canada average incomes are higher than in Europe) and the consumer culture is different. For Japan, it can be assumed that its cultural characteristics play a role here: traditional culture and the difficult rejection of old software. \n",
    "\n",
    "The top 3 in North America and Europe include: action, shooter, sports. But due to cultural peculiarities and the culture of weapons, shooter is in the first place in the USA, and action is in Europe. In Japan, the leader is role-play. It can be assumed that this is due to the rich culture of cosplay.\n",
    "\n",
    "The share of sales by ratings in Europe and the USA does not differ at all: M(mature), without a rating, E(everybody)\n",
    "In Japan, the share of sales by ratings is led by games without a rating.ture),без рейтинга, E(everybody).\n",
    "\n",
    "\n",
    "\n",
    "\n",
    "**Statistical hypothesis testing conclusion**\n",
    "\n",
    "To test both hypotheses we used the  t-test since in both cases the samples are independent of each other.\n",
    "\n",
    "*The average user ratings of the Xbox One and PC platforms are the same:*\n",
    "\n",
    "H0 (null hypothesis) - the average user ratings of the Xbox One and PC platforms are the same.\n",
    "H1 (alternative hypothesis) - the average user ratings of the Xbox One and PC platforms differ from each other.\n",
    "\n",
    "p-value:  0.10450507919348415\n",
    "Rejecting H0 was not succesful, we can not consider that there is a significant statistical difference between the shares\n",
    "\n",
    "*Average user ratings of Action and Sports genres are different:*\n",
    "\n",
    "- H0: the average user rating of the Action and Sports genres is the same\n",
    "\n",
    "- H1: The average user rating of the Action and Sports genres differs\n",
    "\n",
    "p-value:  2.8711147985105864e-19\n",
    "Rejecting H0: there is a significant statistical difference between the shares."
   ]
  }
 ],
 "metadata": {
  "ExecuteTimeLog": [
   {
    "duration": 1119,
    "start_time": "2022-11-27T19:45:32.377Z"
   },
   {
    "duration": 3,
    "start_time": "2022-11-27T19:48:15.576Z"
   },
   {
    "duration": 187,
    "start_time": "2022-11-27T19:49:17.821Z"
   },
   {
    "duration": 71,
    "start_time": "2022-11-27T19:50:52.792Z"
   },
   {
    "duration": 15,
    "start_time": "2022-11-27T19:51:44.270Z"
   },
   {
    "duration": 13,
    "start_time": "2022-11-27T19:53:10.519Z"
   },
   {
    "duration": 1094,
    "start_time": "2022-11-27T19:55:33.001Z"
   },
   {
    "duration": 3,
    "start_time": "2022-11-27T19:55:35.064Z"
   },
   {
    "duration": 56,
    "start_time": "2022-11-27T19:55:36.667Z"
   },
   {
    "duration": 17,
    "start_time": "2022-11-27T19:55:38.318Z"
   },
   {
    "duration": 14,
    "start_time": "2022-11-27T19:55:48.165Z"
   },
   {
    "duration": 16,
    "start_time": "2022-11-27T20:10:04.444Z"
   },
   {
    "duration": 2,
    "start_time": "2022-11-27T20:23:23.356Z"
   },
   {
    "duration": 93,
    "start_time": "2022-11-27T20:25:44.453Z"
   },
   {
    "duration": 4,
    "start_time": "2022-11-27T20:25:51.571Z"
   },
   {
    "duration": 12,
    "start_time": "2022-11-27T20:29:46.705Z"
   },
   {
    "duration": 3,
    "start_time": "2022-11-27T20:33:24.242Z"
   },
   {
    "duration": 3,
    "start_time": "2022-11-27T20:33:24.907Z"
   },
   {
    "duration": 51,
    "start_time": "2022-11-27T20:33:25.386Z"
   },
   {
    "duration": 13,
    "start_time": "2022-11-27T20:33:25.994Z"
   },
   {
    "duration": 13,
    "start_time": "2022-11-27T20:33:26.777Z"
   },
   {
    "duration": 16,
    "start_time": "2022-11-27T20:33:27.622Z"
   },
   {
    "duration": 3,
    "start_time": "2022-11-27T20:33:32.627Z"
   },
   {
    "duration": 10,
    "start_time": "2022-11-27T20:33:33.211Z"
   },
   {
    "duration": 10,
    "start_time": "2022-11-27T20:33:38.898Z"
   },
   {
    "duration": 10,
    "start_time": "2022-11-27T20:33:45.176Z"
   },
   {
    "duration": 9,
    "start_time": "2022-11-27T20:34:04.021Z"
   },
   {
    "duration": 27,
    "start_time": "2022-11-27T20:37:10.198Z"
   },
   {
    "duration": 4,
    "start_time": "2022-11-27T20:37:21.472Z"
   },
   {
    "duration": 6,
    "start_time": "2022-11-27T20:39:52.546Z"
   },
   {
    "duration": 6,
    "start_time": "2022-11-27T20:40:41.303Z"
   },
   {
    "duration": 8,
    "start_time": "2022-11-27T20:49:55.806Z"
   },
   {
    "duration": 6,
    "start_time": "2022-11-27T20:50:03.096Z"
   },
   {
    "duration": 5,
    "start_time": "2022-11-27T20:51:40.720Z"
   },
   {
    "duration": 5,
    "start_time": "2022-11-27T20:53:44.704Z"
   },
   {
    "duration": 5,
    "start_time": "2022-11-27T20:58:37.065Z"
   },
   {
    "duration": 10,
    "start_time": "2022-11-27T21:00:30.534Z"
   },
   {
    "duration": 4,
    "start_time": "2022-11-27T21:00:50.426Z"
   },
   {
    "duration": 11,
    "start_time": "2022-11-27T21:03:47.402Z"
   },
   {
    "duration": 4,
    "start_time": "2022-11-27T21:04:02.949Z"
   },
   {
    "duration": 5,
    "start_time": "2022-11-27T21:04:26.644Z"
   },
   {
    "duration": 5,
    "start_time": "2022-11-27T21:04:34.725Z"
   },
   {
    "duration": 6,
    "start_time": "2022-11-27T21:09:57.670Z"
   },
   {
    "duration": 75,
    "start_time": "2022-11-27T21:11:54.237Z"
   },
   {
    "duration": 7,
    "start_time": "2022-11-27T21:14:14.763Z"
   },
   {
    "duration": 14,
    "start_time": "2022-11-27T21:14:59.050Z"
   },
   {
    "duration": 5,
    "start_time": "2022-11-27T21:16:37.661Z"
   },
   {
    "duration": 4,
    "start_time": "2022-11-27T21:16:59.637Z"
   },
   {
    "duration": 6,
    "start_time": "2022-11-27T21:17:12.172Z"
   },
   {
    "duration": 12,
    "start_time": "2022-11-27T21:17:49.345Z"
   },
   {
    "duration": 5,
    "start_time": "2022-11-27T21:20:58.374Z"
   },
   {
    "duration": 14,
    "start_time": "2022-11-27T21:21:20.378Z"
   },
   {
    "duration": 51,
    "start_time": "2022-11-28T08:30:34.910Z"
   },
   {
    "duration": 1325,
    "start_time": "2022-11-28T08:31:07.297Z"
   },
   {
    "duration": 3,
    "start_time": "2022-11-28T08:31:09.559Z"
   },
   {
    "duration": 177,
    "start_time": "2022-11-28T08:31:11.219Z"
   },
   {
    "duration": 17,
    "start_time": "2022-11-28T08:31:12.109Z"
   },
   {
    "duration": 14,
    "start_time": "2022-11-28T08:31:16.118Z"
   },
   {
    "duration": 9,
    "start_time": "2022-11-28T08:31:16.999Z"
   },
   {
    "duration": 18,
    "start_time": "2022-11-28T08:31:17.438Z"
   },
   {
    "duration": 104,
    "start_time": "2022-11-28T08:31:19.170Z"
   },
   {
    "duration": 4,
    "start_time": "2022-11-28T08:31:29.480Z"
   },
   {
    "duration": 12,
    "start_time": "2022-11-28T08:31:37.484Z"
   },
   {
    "duration": 4,
    "start_time": "2022-11-28T08:31:40.561Z"
   },
   {
    "duration": 9,
    "start_time": "2022-11-28T08:31:42.163Z"
   },
   {
    "duration": 15,
    "start_time": "2022-11-28T08:31:45.211Z"
   },
   {
    "duration": 5,
    "start_time": "2022-11-28T08:31:46.212Z"
   },
   {
    "duration": 8,
    "start_time": "2022-11-28T08:31:48.131Z"
   },
   {
    "duration": 14,
    "start_time": "2022-11-28T08:31:49.120Z"
   },
   {
    "duration": 11,
    "start_time": "2022-11-28T08:31:49.618Z"
   },
   {
    "duration": 4,
    "start_time": "2022-11-28T08:31:50.553Z"
   },
   {
    "duration": 5,
    "start_time": "2022-11-28T08:31:51.045Z"
   },
   {
    "duration": 5,
    "start_time": "2022-11-28T08:31:52.361Z"
   },
   {
    "duration": 8,
    "start_time": "2022-11-28T08:32:06.847Z"
   },
   {
    "duration": 4,
    "start_time": "2022-11-28T08:32:07.335Z"
   },
   {
    "duration": 4,
    "start_time": "2022-11-28T08:32:07.781Z"
   },
   {
    "duration": 7,
    "start_time": "2022-11-28T08:32:08.612Z"
   },
   {
    "duration": 7,
    "start_time": "2022-11-28T08:32:09.596Z"
   },
   {
    "duration": 16,
    "start_time": "2022-11-28T08:32:10.064Z"
   },
   {
    "duration": 4,
    "start_time": "2022-11-28T08:32:11.075Z"
   },
   {
    "duration": 4,
    "start_time": "2022-11-28T08:32:11.622Z"
   },
   {
    "duration": 5,
    "start_time": "2022-11-28T08:32:16.224Z"
   },
   {
    "duration": 14,
    "start_time": "2022-11-28T08:32:16.716Z"
   },
   {
    "duration": 9,
    "start_time": "2022-11-28T08:32:20.663Z"
   },
   {
    "duration": 5,
    "start_time": "2022-11-28T08:40:11.745Z"
   },
   {
    "duration": 4,
    "start_time": "2022-11-28T08:40:34.953Z"
   },
   {
    "duration": 14,
    "start_time": "2022-11-28T08:41:31.272Z"
   },
   {
    "duration": 4,
    "start_time": "2022-11-28T08:41:55.150Z"
   },
   {
    "duration": 363,
    "start_time": "2022-11-28T08:41:57.046Z"
   },
   {
    "duration": 4,
    "start_time": "2022-11-28T08:53:29.798Z"
   },
   {
    "duration": 269,
    "start_time": "2022-11-28T08:53:30.834Z"
   },
   {
    "duration": 4,
    "start_time": "2022-11-28T08:56:30.641Z"
   },
   {
    "duration": 310,
    "start_time": "2022-11-28T08:56:31.455Z"
   },
   {
    "duration": 281,
    "start_time": "2022-11-28T09:04:31.993Z"
   },
   {
    "duration": 11,
    "start_time": "2022-11-28T09:10:13.222Z"
   },
   {
    "duration": 12,
    "start_time": "2022-11-28T09:10:51.151Z"
   },
   {
    "duration": 9,
    "start_time": "2022-11-28T09:12:46.345Z"
   },
   {
    "duration": 5,
    "start_time": "2022-11-28T09:17:05.968Z"
   },
   {
    "duration": 3,
    "start_time": "2022-11-28T09:24:07.663Z"
   },
   {
    "duration": 4,
    "start_time": "2022-11-28T09:24:07.672Z"
   },
   {
    "duration": 51,
    "start_time": "2022-11-28T09:24:07.678Z"
   },
   {
    "duration": 12,
    "start_time": "2022-11-28T09:24:07.731Z"
   },
   {
    "duration": 18,
    "start_time": "2022-11-28T09:24:07.745Z"
   },
   {
    "duration": 9,
    "start_time": "2022-11-28T09:24:07.765Z"
   },
   {
    "duration": 15,
    "start_time": "2022-11-28T09:24:07.776Z"
   },
   {
    "duration": 29,
    "start_time": "2022-11-28T09:24:07.793Z"
   },
   {
    "duration": 11,
    "start_time": "2022-11-28T09:24:07.824Z"
   },
   {
    "duration": 10,
    "start_time": "2022-11-28T09:24:07.837Z"
   },
   {
    "duration": 93,
    "start_time": "2022-11-28T09:24:07.849Z"
   },
   {
    "duration": 13,
    "start_time": "2022-11-28T09:24:07.944Z"
   },
   {
    "duration": 4,
    "start_time": "2022-11-28T09:24:07.958Z"
   },
   {
    "duration": 9,
    "start_time": "2022-11-28T09:24:07.964Z"
   },
   {
    "duration": 8,
    "start_time": "2022-11-28T09:24:07.976Z"
   },
   {
    "duration": 37,
    "start_time": "2022-11-28T09:24:07.986Z"
   },
   {
    "duration": 6,
    "start_time": "2022-11-28T09:24:08.025Z"
   },
   {
    "duration": 15,
    "start_time": "2022-11-28T09:24:08.033Z"
   },
   {
    "duration": 19,
    "start_time": "2022-11-28T09:24:08.050Z"
   },
   {
    "duration": 16,
    "start_time": "2022-11-28T09:24:08.071Z"
   },
   {
    "duration": 8,
    "start_time": "2022-11-28T09:24:08.089Z"
   },
   {
    "duration": 7,
    "start_time": "2022-11-28T09:24:08.098Z"
   },
   {
    "duration": 7,
    "start_time": "2022-11-28T09:24:08.106Z"
   },
   {
    "duration": 7,
    "start_time": "2022-11-28T09:24:08.122Z"
   },
   {
    "duration": 32,
    "start_time": "2022-11-28T09:24:08.130Z"
   },
   {
    "duration": 8,
    "start_time": "2022-11-28T09:24:08.163Z"
   },
   {
    "duration": 19,
    "start_time": "2022-11-28T09:24:08.172Z"
   },
   {
    "duration": 12,
    "start_time": "2022-11-28T09:24:08.192Z"
   },
   {
    "duration": 31,
    "start_time": "2022-11-28T09:24:08.206Z"
   },
   {
    "duration": 8,
    "start_time": "2022-11-28T09:24:08.239Z"
   },
   {
    "duration": 74,
    "start_time": "2022-11-28T09:24:08.248Z"
   },
   {
    "duration": 0,
    "start_time": "2022-11-28T09:24:08.323Z"
   },
   {
    "duration": 10,
    "start_time": "2022-11-28T09:24:15.298Z"
   },
   {
    "duration": 4,
    "start_time": "2022-11-28T09:24:21.627Z"
   },
   {
    "duration": 11,
    "start_time": "2022-11-28T09:24:46.406Z"
   },
   {
    "duration": 4,
    "start_time": "2022-11-28T09:25:57.728Z"
   },
   {
    "duration": 265,
    "start_time": "2022-11-28T09:25:58.394Z"
   },
   {
    "duration": 297,
    "start_time": "2022-11-28T09:36:57.671Z"
   },
   {
    "duration": 16,
    "start_time": "2022-11-28T09:45:31.313Z"
   },
   {
    "duration": 78,
    "start_time": "2022-11-28T09:47:07.258Z"
   },
   {
    "duration": 16,
    "start_time": "2022-11-28T09:47:33.708Z"
   },
   {
    "duration": 621,
    "start_time": "2022-11-28T09:48:01.083Z"
   },
   {
    "duration": 702,
    "start_time": "2022-11-28T09:48:34.405Z"
   },
   {
    "duration": 146,
    "start_time": "2022-11-28T09:51:21.831Z"
   },
   {
    "duration": 756,
    "start_time": "2022-11-28T09:51:33.026Z"
   },
   {
    "duration": 692,
    "start_time": "2022-11-28T09:53:26.057Z"
   },
   {
    "duration": 10,
    "start_time": "2022-11-28T09:54:01.552Z"
   },
   {
    "duration": 707,
    "start_time": "2022-11-28T09:54:29.619Z"
   },
   {
    "duration": 806,
    "start_time": "2022-11-28T09:55:41.264Z"
   },
   {
    "duration": 705,
    "start_time": "2022-11-28T09:56:25.284Z"
   },
   {
    "duration": 1008,
    "start_time": "2022-11-28T10:04:33.823Z"
   },
   {
    "duration": 1350,
    "start_time": "2022-11-28T10:05:46.938Z"
   },
   {
    "duration": 1217,
    "start_time": "2022-11-28T10:06:13.785Z"
   },
   {
    "duration": 120,
    "start_time": "2022-11-28T10:11:56.497Z"
   },
   {
    "duration": 148,
    "start_time": "2022-11-28T10:12:01.912Z"
   },
   {
    "duration": 149,
    "start_time": "2022-11-28T10:13:09.997Z"
   },
   {
    "duration": 146,
    "start_time": "2022-11-28T10:13:15.422Z"
   },
   {
    "duration": 931,
    "start_time": "2022-11-28T10:13:28.512Z"
   },
   {
    "duration": 1086,
    "start_time": "2022-11-28T10:13:57.168Z"
   },
   {
    "duration": 73,
    "start_time": "2022-11-28T10:20:57.173Z"
   },
   {
    "duration": 1152,
    "start_time": "2022-11-28T10:21:51.075Z"
   },
   {
    "duration": 3,
    "start_time": "2022-11-28T10:21:52.229Z"
   },
   {
    "duration": 57,
    "start_time": "2022-11-28T10:21:52.233Z"
   },
   {
    "duration": 16,
    "start_time": "2022-11-28T10:21:52.292Z"
   },
   {
    "duration": 15,
    "start_time": "2022-11-28T10:21:52.309Z"
   },
   {
    "duration": 9,
    "start_time": "2022-11-28T10:21:52.325Z"
   },
   {
    "duration": 17,
    "start_time": "2022-11-28T10:21:52.335Z"
   },
   {
    "duration": 3,
    "start_time": "2022-11-28T10:21:52.354Z"
   },
   {
    "duration": 16,
    "start_time": "2022-11-28T10:21:52.359Z"
   },
   {
    "duration": 4,
    "start_time": "2022-11-28T10:21:52.377Z"
   },
   {
    "duration": 10,
    "start_time": "2022-11-28T10:21:52.383Z"
   },
   {
    "duration": 37,
    "start_time": "2022-11-28T10:21:52.395Z"
   },
   {
    "duration": 4,
    "start_time": "2022-11-28T10:21:52.434Z"
   },
   {
    "duration": 10,
    "start_time": "2022-11-28T10:21:52.439Z"
   },
   {
    "duration": 9,
    "start_time": "2022-11-28T10:21:52.450Z"
   },
   {
    "duration": 6,
    "start_time": "2022-11-28T10:21:52.461Z"
   },
   {
    "duration": 7,
    "start_time": "2022-11-28T10:21:52.468Z"
   },
   {
    "duration": 7,
    "start_time": "2022-11-28T10:21:52.477Z"
   },
   {
    "duration": 38,
    "start_time": "2022-11-28T10:21:52.486Z"
   },
   {
    "duration": 9,
    "start_time": "2022-11-28T10:21:52.527Z"
   },
   {
    "duration": 12,
    "start_time": "2022-11-28T10:21:52.538Z"
   },
   {
    "duration": 9,
    "start_time": "2022-11-28T10:21:52.552Z"
   },
   {
    "duration": 14,
    "start_time": "2022-11-28T10:21:52.562Z"
   },
   {
    "duration": 13,
    "start_time": "2022-11-28T10:21:52.578Z"
   },
   {
    "duration": 15,
    "start_time": "2022-11-28T10:21:52.593Z"
   },
   {
    "duration": 14,
    "start_time": "2022-11-28T10:21:52.610Z"
   },
   {
    "duration": 9,
    "start_time": "2022-11-28T10:21:52.626Z"
   },
   {
    "duration": 11,
    "start_time": "2022-11-28T10:21:52.638Z"
   },
   {
    "duration": 17,
    "start_time": "2022-11-28T10:21:52.651Z"
   },
   {
    "duration": 7,
    "start_time": "2022-11-28T10:21:52.670Z"
   },
   {
    "duration": 310,
    "start_time": "2022-11-28T10:21:52.679Z"
   },
   {
    "duration": 10,
    "start_time": "2022-11-28T10:21:52.991Z"
   },
   {
    "duration": 19,
    "start_time": "2022-11-28T10:21:53.003Z"
   },
   {
    "duration": 74,
    "start_time": "2022-11-28T10:21:56.482Z"
   },
   {
    "duration": 883,
    "start_time": "2022-11-28T10:22:26.232Z"
   },
   {
    "duration": 4,
    "start_time": "2022-11-28T10:44:00.907Z"
   },
   {
    "duration": 13,
    "start_time": "2022-11-28T10:44:30.219Z"
   },
   {
    "duration": 12,
    "start_time": "2022-11-28T10:44:37.845Z"
   },
   {
    "duration": 4,
    "start_time": "2022-11-28T10:46:59.314Z"
   },
   {
    "duration": 9,
    "start_time": "2022-11-28T10:51:56.899Z"
   },
   {
    "duration": 122,
    "start_time": "2022-11-28T10:53:23.102Z"
   },
   {
    "duration": 172,
    "start_time": "2022-11-28T10:55:13.898Z"
   },
   {
    "duration": 234,
    "start_time": "2022-11-28T10:55:31.839Z"
   },
   {
    "duration": 95,
    "start_time": "2022-11-28T10:57:18.536Z"
   },
   {
    "duration": 159,
    "start_time": "2022-11-28T10:57:32.118Z"
   },
   {
    "duration": 5,
    "start_time": "2022-11-28T10:58:41.542Z"
   },
   {
    "duration": 5,
    "start_time": "2022-11-28T10:59:03.175Z"
   },
   {
    "duration": 6,
    "start_time": "2022-11-28T11:06:11.574Z"
   },
   {
    "duration": 15,
    "start_time": "2022-11-28T11:06:12.144Z"
   },
   {
    "duration": 6,
    "start_time": "2022-11-28T11:06:15.603Z"
   },
   {
    "duration": 161,
    "start_time": "2022-11-28T11:06:30.151Z"
   },
   {
    "duration": 15,
    "start_time": "2022-11-28T11:12:41.095Z"
   },
   {
    "duration": 12,
    "start_time": "2022-11-28T11:13:43.325Z"
   },
   {
    "duration": 15,
    "start_time": "2022-11-28T11:14:19.893Z"
   },
   {
    "duration": 181,
    "start_time": "2022-11-28T11:16:10.591Z"
   },
   {
    "duration": 17,
    "start_time": "2022-11-28T11:16:27.678Z"
   },
   {
    "duration": 20,
    "start_time": "2022-11-28T11:27:26.871Z"
   },
   {
    "duration": 4,
    "start_time": "2022-11-28T11:28:36.124Z"
   },
   {
    "duration": 9,
    "start_time": "2022-11-28T11:28:58.679Z"
   },
   {
    "duration": 12,
    "start_time": "2022-11-28T11:44:24.156Z"
   },
   {
    "duration": 84,
    "start_time": "2022-11-28T11:57:51.371Z"
   },
   {
    "duration": 4,
    "start_time": "2022-11-28T11:58:22.684Z"
   },
   {
    "duration": 7,
    "start_time": "2022-11-28T11:58:22.690Z"
   },
   {
    "duration": 68,
    "start_time": "2022-11-28T11:58:22.699Z"
   },
   {
    "duration": 15,
    "start_time": "2022-11-28T11:58:22.769Z"
   },
   {
    "duration": 18,
    "start_time": "2022-11-28T11:58:22.788Z"
   },
   {
    "duration": 23,
    "start_time": "2022-11-28T11:58:22.807Z"
   },
   {
    "duration": 33,
    "start_time": "2022-11-28T11:58:22.832Z"
   },
   {
    "duration": 10,
    "start_time": "2022-11-28T11:58:22.867Z"
   },
   {
    "duration": 23,
    "start_time": "2022-11-28T11:58:22.879Z"
   },
   {
    "duration": 5,
    "start_time": "2022-11-28T11:58:22.904Z"
   },
   {
    "duration": 19,
    "start_time": "2022-11-28T11:58:22.911Z"
   },
   {
    "duration": 35,
    "start_time": "2022-11-28T11:58:22.932Z"
   },
   {
    "duration": 4,
    "start_time": "2022-11-28T11:58:22.969Z"
   },
   {
    "duration": 8,
    "start_time": "2022-11-28T11:58:22.977Z"
   },
   {
    "duration": 10,
    "start_time": "2022-11-28T11:58:22.987Z"
   },
   {
    "duration": 29,
    "start_time": "2022-11-28T11:58:22.999Z"
   },
   {
    "duration": 22,
    "start_time": "2022-11-28T11:58:23.030Z"
   },
   {
    "duration": 13,
    "start_time": "2022-11-28T11:58:23.055Z"
   },
   {
    "duration": 5,
    "start_time": "2022-11-28T11:58:23.071Z"
   },
   {
    "duration": 12,
    "start_time": "2022-11-28T11:58:23.078Z"
   },
   {
    "duration": 9,
    "start_time": "2022-11-28T11:58:23.092Z"
   },
   {
    "duration": 8,
    "start_time": "2022-11-28T11:58:23.103Z"
   },
   {
    "duration": 27,
    "start_time": "2022-11-28T11:58:23.122Z"
   },
   {
    "duration": 27,
    "start_time": "2022-11-28T11:58:23.151Z"
   },
   {
    "duration": 14,
    "start_time": "2022-11-28T11:58:23.180Z"
   },
   {
    "duration": 8,
    "start_time": "2022-11-28T11:58:23.196Z"
   },
   {
    "duration": 10,
    "start_time": "2022-11-28T11:58:23.206Z"
   },
   {
    "duration": 28,
    "start_time": "2022-11-28T11:58:23.218Z"
   },
   {
    "duration": 17,
    "start_time": "2022-11-28T11:58:23.248Z"
   },
   {
    "duration": 10,
    "start_time": "2022-11-28T11:58:23.267Z"
   },
   {
    "duration": 366,
    "start_time": "2022-11-28T11:58:23.280Z"
   },
   {
    "duration": 15,
    "start_time": "2022-11-28T11:58:23.648Z"
   },
   {
    "duration": 1144,
    "start_time": "2022-11-28T11:58:23.665Z"
   },
   {
    "duration": 14,
    "start_time": "2022-11-28T11:58:24.811Z"
   },
   {
    "duration": 52,
    "start_time": "2022-11-28T11:58:24.827Z"
   },
   {
    "duration": 84,
    "start_time": "2022-11-28T11:58:24.881Z"
   },
   {
    "duration": 38,
    "start_time": "2022-11-28T11:58:24.967Z"
   },
   {
    "duration": 239,
    "start_time": "2022-11-28T11:58:25.007Z"
   },
   {
    "duration": 17,
    "start_time": "2022-11-28T11:58:25.248Z"
   },
   {
    "duration": 25,
    "start_time": "2022-11-28T11:58:25.266Z"
   },
   {
    "duration": 58,
    "start_time": "2022-11-28T11:58:25.295Z"
   },
   {
    "duration": 30,
    "start_time": "2022-11-28T11:58:25.355Z"
   },
   {
    "duration": 101,
    "start_time": "2022-11-28T11:59:01.673Z"
   },
   {
    "duration": 73,
    "start_time": "2022-11-28T11:59:42.246Z"
   },
   {
    "duration": 102,
    "start_time": "2022-11-28T12:03:23.938Z"
   },
   {
    "duration": 17,
    "start_time": "2022-11-28T12:07:08.139Z"
   },
   {
    "duration": 379,
    "start_time": "2022-11-28T12:08:20.803Z"
   },
   {
    "duration": 274,
    "start_time": "2022-11-28T12:11:28.515Z"
   },
   {
    "duration": 154,
    "start_time": "2022-11-28T12:14:36.913Z"
   },
   {
    "duration": 147,
    "start_time": "2022-11-28T12:14:48.553Z"
   },
   {
    "duration": 323,
    "start_time": "2022-11-28T12:15:44.045Z"
   },
   {
    "duration": 264,
    "start_time": "2022-11-28T12:15:55.116Z"
   },
   {
    "duration": 362,
    "start_time": "2022-11-28T12:16:16.166Z"
   },
   {
    "duration": 280,
    "start_time": "2022-11-28T12:16:52.704Z"
   },
   {
    "duration": 278,
    "start_time": "2022-11-28T12:17:16.611Z"
   },
   {
    "duration": 283,
    "start_time": "2022-11-28T12:24:08.314Z"
   },
   {
    "duration": 12,
    "start_time": "2022-11-28T12:32:17.700Z"
   },
   {
    "duration": 10,
    "start_time": "2022-11-28T12:36:18.369Z"
   },
   {
    "duration": 197,
    "start_time": "2022-11-28T12:36:55.491Z"
   },
   {
    "duration": 193,
    "start_time": "2022-11-28T12:38:30.471Z"
   },
   {
    "duration": 321,
    "start_time": "2022-11-28T12:44:03.233Z"
   },
   {
    "duration": 1159,
    "start_time": "2022-11-28T12:44:36.965Z"
   },
   {
    "duration": 16,
    "start_time": "2022-11-28T12:52:46.236Z"
   },
   {
    "duration": 14,
    "start_time": "2022-11-28T12:53:26.194Z"
   },
   {
    "duration": 227,
    "start_time": "2022-11-28T12:54:08.167Z"
   },
   {
    "duration": 242,
    "start_time": "2022-11-28T12:54:46.997Z"
   },
   {
    "duration": 230,
    "start_time": "2022-11-28T12:58:58.199Z"
   },
   {
    "duration": 16,
    "start_time": "2022-11-28T13:06:50.909Z"
   },
   {
    "duration": 11,
    "start_time": "2022-11-28T13:07:46.286Z"
   },
   {
    "duration": 206,
    "start_time": "2022-11-28T13:07:51.091Z"
   },
   {
    "duration": 201,
    "start_time": "2022-11-28T13:07:54.843Z"
   },
   {
    "duration": 13,
    "start_time": "2022-11-28T13:58:31.509Z"
   },
   {
    "duration": 270,
    "start_time": "2022-11-28T14:00:52.023Z"
   },
   {
    "duration": 836,
    "start_time": "2022-11-28T14:01:57.647Z"
   },
   {
    "duration": 444,
    "start_time": "2022-11-28T14:08:48.883Z"
   },
   {
    "duration": 407,
    "start_time": "2022-11-28T14:09:27.596Z"
   },
   {
    "duration": 439,
    "start_time": "2022-11-28T14:09:43.807Z"
   },
   {
    "duration": 423,
    "start_time": "2022-11-28T14:10:40.946Z"
   },
   {
    "duration": 367,
    "start_time": "2022-11-28T14:11:42.574Z"
   },
   {
    "duration": 528,
    "start_time": "2022-11-28T14:12:49.483Z"
   },
   {
    "duration": 14,
    "start_time": "2022-11-28T14:13:32.294Z"
   },
   {
    "duration": 390,
    "start_time": "2022-11-28T14:14:37.406Z"
   },
   {
    "duration": 389,
    "start_time": "2022-11-28T14:14:58.966Z"
   },
   {
    "duration": 375,
    "start_time": "2022-11-28T14:49:03.328Z"
   },
   {
    "duration": 18,
    "start_time": "2022-11-28T15:12:35.026Z"
   },
   {
    "duration": 6,
    "start_time": "2022-11-28T15:14:00.440Z"
   },
   {
    "duration": 5,
    "start_time": "2022-11-28T15:14:21.243Z"
   },
   {
    "duration": 5,
    "start_time": "2022-11-28T15:14:35.812Z"
   },
   {
    "duration": 10,
    "start_time": "2022-11-28T15:15:30.970Z"
   },
   {
    "duration": 14,
    "start_time": "2022-11-28T15:15:55.320Z"
   },
   {
    "duration": 7,
    "start_time": "2022-11-28T15:16:14.659Z"
   },
   {
    "duration": 14,
    "start_time": "2022-11-28T15:16:48.010Z"
   },
   {
    "duration": 3,
    "start_time": "2022-11-28T15:17:05.307Z"
   },
   {
    "duration": 6,
    "start_time": "2022-11-28T15:17:33.244Z"
   },
   {
    "duration": 3,
    "start_time": "2022-11-28T15:20:44.566Z"
   },
   {
    "duration": 5,
    "start_time": "2022-11-28T15:20:45.178Z"
   },
   {
    "duration": 11,
    "start_time": "2022-11-28T15:22:32.726Z"
   },
   {
    "duration": 4,
    "start_time": "2022-11-28T15:22:36.185Z"
   },
   {
    "duration": 6,
    "start_time": "2022-11-28T15:22:37.633Z"
   },
   {
    "duration": 6,
    "start_time": "2022-11-28T15:22:52.069Z"
   },
   {
    "duration": 9,
    "start_time": "2022-11-28T15:28:59.832Z"
   },
   {
    "duration": 4,
    "start_time": "2022-11-28T15:29:00.354Z"
   },
   {
    "duration": 7,
    "start_time": "2022-11-28T15:36:56.722Z"
   },
   {
    "duration": 31,
    "start_time": "2022-11-28T15:37:12.279Z"
   },
   {
    "duration": 4,
    "start_time": "2022-11-28T15:37:12.672Z"
   },
   {
    "duration": 7,
    "start_time": "2022-11-28T15:37:23.275Z"
   },
   {
    "duration": 5,
    "start_time": "2022-11-28T15:37:25.143Z"
   },
   {
    "duration": 7,
    "start_time": "2022-11-28T15:37:25.535Z"
   },
   {
    "duration": 7,
    "start_time": "2022-11-28T15:38:37.191Z"
   },
   {
    "duration": 4,
    "start_time": "2022-11-28T15:39:09.845Z"
   },
   {
    "duration": 5,
    "start_time": "2022-11-28T15:39:46.932Z"
   },
   {
    "duration": 4,
    "start_time": "2022-11-28T15:43:09.103Z"
   },
   {
    "duration": 7,
    "start_time": "2022-11-28T15:43:09.483Z"
   },
   {
    "duration": 3,
    "start_time": "2022-11-28T15:43:09.712Z"
   },
   {
    "duration": 3,
    "start_time": "2022-11-28T15:43:09.972Z"
   },
   {
    "duration": 1275,
    "start_time": "2022-11-28T15:51:13.400Z"
   },
   {
    "duration": 3,
    "start_time": "2022-11-28T15:51:14.677Z"
   },
   {
    "duration": 62,
    "start_time": "2022-11-28T15:51:14.682Z"
   },
   {
    "duration": 18,
    "start_time": "2022-11-28T15:51:14.748Z"
   },
   {
    "duration": 14,
    "start_time": "2022-11-28T15:51:14.768Z"
   },
   {
    "duration": 8,
    "start_time": "2022-11-28T15:51:14.784Z"
   },
   {
    "duration": 41,
    "start_time": "2022-11-28T15:51:14.794Z"
   },
   {
    "duration": 5,
    "start_time": "2022-11-28T15:51:14.838Z"
   },
   {
    "duration": 17,
    "start_time": "2022-11-28T15:51:14.846Z"
   },
   {
    "duration": 12,
    "start_time": "2022-11-28T15:51:14.865Z"
   },
   {
    "duration": 12,
    "start_time": "2022-11-28T15:51:14.878Z"
   },
   {
    "duration": 39,
    "start_time": "2022-11-28T15:51:14.892Z"
   },
   {
    "duration": 14,
    "start_time": "2022-11-28T15:51:14.934Z"
   },
   {
    "duration": 14,
    "start_time": "2022-11-28T15:51:14.950Z"
   },
   {
    "duration": 8,
    "start_time": "2022-11-28T15:51:14.966Z"
   },
   {
    "duration": 9,
    "start_time": "2022-11-28T15:51:14.976Z"
   },
   {
    "duration": 6,
    "start_time": "2022-11-28T15:51:14.986Z"
   },
   {
    "duration": 7,
    "start_time": "2022-11-28T15:51:14.994Z"
   },
   {
    "duration": 28,
    "start_time": "2022-11-28T15:51:15.003Z"
   },
   {
    "duration": 26,
    "start_time": "2022-11-28T15:51:15.034Z"
   },
   {
    "duration": 18,
    "start_time": "2022-11-28T15:51:15.062Z"
   },
   {
    "duration": 8,
    "start_time": "2022-11-28T15:51:15.082Z"
   },
   {
    "duration": 24,
    "start_time": "2022-11-28T15:51:15.092Z"
   },
   {
    "duration": 31,
    "start_time": "2022-11-28T15:51:15.118Z"
   },
   {
    "duration": 37,
    "start_time": "2022-11-28T15:51:15.151Z"
   },
   {
    "duration": 7,
    "start_time": "2022-11-28T15:51:15.190Z"
   },
   {
    "duration": 23,
    "start_time": "2022-11-28T15:51:15.199Z"
   },
   {
    "duration": 16,
    "start_time": "2022-11-28T15:51:15.228Z"
   },
   {
    "duration": 33,
    "start_time": "2022-11-28T15:51:15.246Z"
   },
   {
    "duration": 8,
    "start_time": "2022-11-28T15:51:15.281Z"
   },
   {
    "duration": 400,
    "start_time": "2022-11-28T15:51:15.291Z"
   },
   {
    "duration": 10,
    "start_time": "2022-11-28T15:51:15.693Z"
   },
   {
    "duration": 1210,
    "start_time": "2022-11-28T15:51:15.705Z"
   },
   {
    "duration": 8,
    "start_time": "2022-11-28T15:51:16.917Z"
   },
   {
    "duration": 19,
    "start_time": "2022-11-28T15:51:16.928Z"
   },
   {
    "duration": 16,
    "start_time": "2022-11-28T15:51:16.949Z"
   },
   {
    "duration": 6,
    "start_time": "2022-11-28T15:51:16.967Z"
   },
   {
    "duration": 210,
    "start_time": "2022-11-28T15:51:16.974Z"
   },
   {
    "duration": 18,
    "start_time": "2022-11-28T15:51:17.186Z"
   },
   {
    "duration": 25,
    "start_time": "2022-11-28T15:51:17.206Z"
   },
   {
    "duration": 18,
    "start_time": "2022-11-28T15:51:17.233Z"
   },
   {
    "duration": 9,
    "start_time": "2022-11-28T15:51:17.253Z"
   },
   {
    "duration": 375,
    "start_time": "2022-11-28T15:51:17.264Z"
   },
   {
    "duration": 12,
    "start_time": "2022-11-28T15:51:17.641Z"
   },
   {
    "duration": 236,
    "start_time": "2022-11-28T15:51:17.655Z"
   },
   {
    "duration": 225,
    "start_time": "2022-11-28T15:51:17.893Z"
   },
   {
    "duration": 291,
    "start_time": "2022-11-28T15:51:18.122Z"
   },
   {
    "duration": 26,
    "start_time": "2022-11-28T15:51:18.415Z"
   },
   {
    "duration": 437,
    "start_time": "2022-11-28T15:51:18.447Z"
   },
   {
    "duration": 503,
    "start_time": "2022-11-28T15:51:18.886Z"
   },
   {
    "duration": 379,
    "start_time": "2022-11-28T15:51:19.391Z"
   },
   {
    "duration": 4,
    "start_time": "2022-11-28T15:51:19.772Z"
   },
   {
    "duration": 11,
    "start_time": "2022-11-28T15:51:19.778Z"
   },
   {
    "duration": 13,
    "start_time": "2022-11-28T15:51:19.790Z"
   },
   {
    "duration": 6,
    "start_time": "2022-11-28T15:51:19.805Z"
   },
   {
    "duration": 11,
    "start_time": "2022-11-28T15:51:19.826Z"
   },
   {
    "duration": 24,
    "start_time": "2022-11-28T15:51:19.843Z"
   },
   {
    "duration": 17,
    "start_time": "2022-11-28T15:51:19.869Z"
   },
   {
    "duration": 8,
    "start_time": "2022-11-28T15:51:50.940Z"
   },
   {
    "duration": 1395,
    "start_time": "2022-11-28T16:57:33.401Z"
   },
   {
    "duration": 3,
    "start_time": "2022-11-28T16:57:34.798Z"
   },
   {
    "duration": 480,
    "start_time": "2022-11-28T16:57:34.803Z"
   },
   {
    "duration": 19,
    "start_time": "2022-11-28T16:57:35.284Z"
   },
   {
    "duration": 18,
    "start_time": "2022-11-28T16:57:35.305Z"
   },
   {
    "duration": 11,
    "start_time": "2022-11-28T16:57:35.324Z"
   },
   {
    "duration": 38,
    "start_time": "2022-11-28T16:57:35.336Z"
   },
   {
    "duration": 4,
    "start_time": "2022-11-28T16:57:35.376Z"
   },
   {
    "duration": 41,
    "start_time": "2022-11-28T16:57:35.381Z"
   },
   {
    "duration": 10,
    "start_time": "2022-11-28T16:57:35.424Z"
   },
   {
    "duration": 16,
    "start_time": "2022-11-28T16:57:35.435Z"
   },
   {
    "duration": 32,
    "start_time": "2022-11-28T16:57:35.452Z"
   },
   {
    "duration": 5,
    "start_time": "2022-11-28T16:57:35.486Z"
   },
   {
    "duration": 9,
    "start_time": "2022-11-28T16:57:35.494Z"
   },
   {
    "duration": 11,
    "start_time": "2022-11-28T16:57:35.505Z"
   },
   {
    "duration": 6,
    "start_time": "2022-11-28T16:57:35.518Z"
   },
   {
    "duration": 27,
    "start_time": "2022-11-28T16:57:35.525Z"
   },
   {
    "duration": 12,
    "start_time": "2022-11-28T16:57:35.554Z"
   },
   {
    "duration": 9,
    "start_time": "2022-11-28T16:57:35.568Z"
   },
   {
    "duration": 20,
    "start_time": "2022-11-28T16:57:35.579Z"
   },
   {
    "duration": 15,
    "start_time": "2022-11-28T16:57:35.601Z"
   },
   {
    "duration": 8,
    "start_time": "2022-11-28T16:57:35.618Z"
   },
   {
    "duration": 7,
    "start_time": "2022-11-28T16:57:35.628Z"
   },
   {
    "duration": 10,
    "start_time": "2022-11-28T16:57:35.650Z"
   },
   {
    "duration": 33,
    "start_time": "2022-11-28T16:57:35.662Z"
   },
   {
    "duration": 6,
    "start_time": "2022-11-28T16:57:35.696Z"
   },
   {
    "duration": 13,
    "start_time": "2022-11-28T16:57:35.703Z"
   },
   {
    "duration": 8,
    "start_time": "2022-11-28T16:57:35.718Z"
   },
   {
    "duration": 32,
    "start_time": "2022-11-28T16:57:35.727Z"
   },
   {
    "duration": 9,
    "start_time": "2022-11-28T16:57:35.768Z"
   },
   {
    "duration": 396,
    "start_time": "2022-11-28T16:57:35.779Z"
   },
   {
    "duration": 11,
    "start_time": "2022-11-28T16:57:36.178Z"
   },
   {
    "duration": 1155,
    "start_time": "2022-11-28T16:57:36.191Z"
   },
   {
    "duration": 6,
    "start_time": "2022-11-28T16:57:37.347Z"
   },
   {
    "duration": 30,
    "start_time": "2022-11-28T16:57:37.354Z"
   },
   {
    "duration": 14,
    "start_time": "2022-11-28T16:57:37.386Z"
   },
   {
    "duration": 4,
    "start_time": "2022-11-28T16:57:37.401Z"
   },
   {
    "duration": 212,
    "start_time": "2022-11-28T16:57:37.407Z"
   },
   {
    "duration": 17,
    "start_time": "2022-11-28T16:57:37.620Z"
   },
   {
    "duration": 28,
    "start_time": "2022-11-28T16:57:37.638Z"
   },
   {
    "duration": 5,
    "start_time": "2022-11-28T16:57:37.670Z"
   },
   {
    "duration": 10,
    "start_time": "2022-11-28T16:57:37.676Z"
   },
   {
    "duration": 397,
    "start_time": "2022-11-28T16:57:37.688Z"
   },
   {
    "duration": 12,
    "start_time": "2022-11-28T16:57:38.086Z"
   },
   {
    "duration": 224,
    "start_time": "2022-11-28T16:57:38.100Z"
   },
   {
    "duration": 217,
    "start_time": "2022-11-28T16:57:38.326Z"
   },
   {
    "duration": 273,
    "start_time": "2022-11-28T16:57:38.545Z"
   },
   {
    "duration": 13,
    "start_time": "2022-11-28T16:57:38.820Z"
   },
   {
    "duration": 454,
    "start_time": "2022-11-28T16:57:38.835Z"
   },
   {
    "duration": 462,
    "start_time": "2022-11-28T16:57:39.291Z"
   },
   {
    "duration": 439,
    "start_time": "2022-11-28T16:57:39.754Z"
   },
   {
    "duration": 5,
    "start_time": "2022-11-28T16:57:40.195Z"
   },
   {
    "duration": 32,
    "start_time": "2022-11-28T16:57:40.201Z"
   },
   {
    "duration": 35,
    "start_time": "2022-11-28T16:57:40.235Z"
   },
   {
    "duration": 31,
    "start_time": "2022-11-28T16:57:40.272Z"
   },
   {
    "duration": 26,
    "start_time": "2022-11-28T16:57:40.304Z"
   },
   {
    "duration": 27,
    "start_time": "2022-11-28T16:57:40.332Z"
   },
   {
    "duration": 31,
    "start_time": "2022-11-28T16:57:40.360Z"
   },
   {
    "duration": 81,
    "start_time": "2022-11-28T16:59:03.415Z"
   },
   {
    "duration": 49,
    "start_time": "2022-11-28T18:58:17.544Z"
   },
   {
    "duration": 1285,
    "start_time": "2022-11-28T18:58:41.616Z"
   },
   {
    "duration": 3,
    "start_time": "2022-11-28T18:58:42.903Z"
   },
   {
    "duration": 97,
    "start_time": "2022-11-28T18:58:46.662Z"
   },
   {
    "duration": 21,
    "start_time": "2022-11-28T18:58:47.066Z"
   },
   {
    "duration": 15,
    "start_time": "2022-11-28T18:58:47.577Z"
   },
   {
    "duration": 10,
    "start_time": "2022-11-28T18:58:48.075Z"
   },
   {
    "duration": 16,
    "start_time": "2022-11-28T18:58:49.719Z"
   },
   {
    "duration": 3,
    "start_time": "2022-11-28T18:58:59.551Z"
   },
   {
    "duration": 12,
    "start_time": "2022-11-28T18:59:00.572Z"
   },
   {
    "duration": 4,
    "start_time": "2022-11-28T18:59:01.120Z"
   },
   {
    "duration": 9,
    "start_time": "2022-11-28T18:59:02.874Z"
   },
   {
    "duration": 17,
    "start_time": "2022-11-28T18:59:03.948Z"
   },
   {
    "duration": 4,
    "start_time": "2022-11-28T18:59:11.116Z"
   },
   {
    "duration": 7,
    "start_time": "2022-11-28T18:59:12.396Z"
   },
   {
    "duration": 9,
    "start_time": "2022-11-28T18:59:14.340Z"
   },
   {
    "duration": 6,
    "start_time": "2022-11-28T18:59:17.212Z"
   },
   {
    "duration": 5,
    "start_time": "2022-11-28T18:59:18.478Z"
   },
   {
    "duration": 6,
    "start_time": "2022-11-28T18:59:20.618Z"
   },
   {
    "duration": 5,
    "start_time": "2022-11-28T18:59:23.702Z"
   },
   {
    "duration": 8,
    "start_time": "2022-11-28T18:59:25.764Z"
   },
   {
    "duration": 6,
    "start_time": "2022-11-28T18:59:26.111Z"
   },
   {
    "duration": 6,
    "start_time": "2022-11-28T18:59:26.566Z"
   },
   {
    "duration": 6,
    "start_time": "2022-11-28T18:59:27.651Z"
   },
   {
    "duration": 8,
    "start_time": "2022-11-28T18:59:28.701Z"
   },
   {
    "duration": 14,
    "start_time": "2022-11-28T18:59:29.908Z"
   },
   {
    "duration": 5,
    "start_time": "2022-11-28T18:59:32.027Z"
   },
   {
    "duration": 6,
    "start_time": "2022-11-28T18:59:32.618Z"
   },
   {
    "duration": 53,
    "start_time": "2022-11-28T18:59:45.712Z"
   },
   {
    "duration": 5,
    "start_time": "2022-11-28T19:01:45.478Z"
   },
   {
    "duration": 6,
    "start_time": "2022-11-28T19:01:52.007Z"
   },
   {
    "duration": 15,
    "start_time": "2022-11-28T19:01:53.248Z"
   },
   {
    "duration": 9,
    "start_time": "2022-11-28T19:01:57.482Z"
   },
   {
    "duration": 367,
    "start_time": "2022-11-28T19:01:59.412Z"
   },
   {
    "duration": 9,
    "start_time": "2022-11-28T19:02:13.708Z"
   },
   {
    "duration": 1105,
    "start_time": "2022-11-28T19:02:15.226Z"
   },
   {
    "duration": 5,
    "start_time": "2022-11-28T19:02:20.814Z"
   },
   {
    "duration": 12,
    "start_time": "2022-11-28T19:02:28.829Z"
   },
   {
    "duration": 12,
    "start_time": "2022-11-28T19:02:30.386Z"
   },
   {
    "duration": 4,
    "start_time": "2022-11-28T19:02:31.377Z"
   },
   {
    "duration": 170,
    "start_time": "2022-11-28T19:02:37.755Z"
   },
   {
    "duration": 18,
    "start_time": "2022-11-28T19:02:41.786Z"
   },
   {
    "duration": 159,
    "start_time": "2022-11-28T19:03:51.522Z"
   },
   {
    "duration": 117,
    "start_time": "2022-11-29T12:40:30.437Z"
   },
   {
    "duration": 68,
    "start_time": "2022-11-29T13:05:49.893Z"
   },
   {
    "duration": 1387,
    "start_time": "2022-11-29T13:06:31.282Z"
   },
   {
    "duration": 3,
    "start_time": "2022-11-29T13:06:32.672Z"
   },
   {
    "duration": 180,
    "start_time": "2022-11-29T13:06:32.676Z"
   },
   {
    "duration": 18,
    "start_time": "2022-11-29T13:06:32.941Z"
   },
   {
    "duration": 15,
    "start_time": "2022-11-29T13:06:33.393Z"
   },
   {
    "duration": 10,
    "start_time": "2022-11-29T13:06:33.901Z"
   },
   {
    "duration": 16,
    "start_time": "2022-11-29T13:06:34.212Z"
   },
   {
    "duration": 3,
    "start_time": "2022-11-29T13:06:36.013Z"
   },
   {
    "duration": 12,
    "start_time": "2022-11-29T13:06:36.712Z"
   },
   {
    "duration": 4,
    "start_time": "2022-11-29T13:06:37.013Z"
   },
   {
    "duration": 14,
    "start_time": "2022-11-29T13:06:37.653Z"
   },
   {
    "duration": 18,
    "start_time": "2022-11-29T13:06:37.961Z"
   },
   {
    "duration": 4,
    "start_time": "2022-11-29T13:06:38.508Z"
   },
   {
    "duration": 6,
    "start_time": "2022-11-29T13:06:39.484Z"
   },
   {
    "duration": 9,
    "start_time": "2022-11-29T13:06:40.116Z"
   },
   {
    "duration": 7,
    "start_time": "2022-11-29T13:06:40.393Z"
   },
   {
    "duration": 6,
    "start_time": "2022-11-29T13:06:41.033Z"
   },
   {
    "duration": 6,
    "start_time": "2022-11-29T13:06:41.293Z"
   },
   {
    "duration": 5,
    "start_time": "2022-11-29T13:06:41.913Z"
   },
   {
    "duration": 12,
    "start_time": "2022-11-29T13:06:42.533Z"
   },
   {
    "duration": 5,
    "start_time": "2022-11-29T13:06:42.818Z"
   },
   {
    "duration": 7,
    "start_time": "2022-11-29T13:06:43.154Z"
   },
   {
    "duration": 7,
    "start_time": "2022-11-29T13:06:43.813Z"
   },
   {
    "duration": 8,
    "start_time": "2022-11-29T13:06:44.821Z"
   },
   {
    "duration": 14,
    "start_time": "2022-11-29T13:06:45.621Z"
   },
   {
    "duration": 5,
    "start_time": "2022-11-29T13:06:46.293Z"
   },
   {
    "duration": 5,
    "start_time": "2022-11-29T13:06:46.633Z"
   },
   {
    "duration": 4,
    "start_time": "2022-11-29T13:06:47.893Z"
   },
   {
    "duration": 6,
    "start_time": "2022-11-29T13:06:48.613Z"
   },
   {
    "duration": 16,
    "start_time": "2022-11-29T13:06:49.252Z"
   },
   {
    "duration": 9,
    "start_time": "2022-11-29T13:06:51.173Z"
   },
   {
    "duration": 344,
    "start_time": "2022-11-29T13:06:51.532Z"
   },
   {
    "duration": 13,
    "start_time": "2022-11-29T13:06:58.912Z"
   },
   {
    "duration": 1086,
    "start_time": "2022-11-29T13:07:00.421Z"
   },
   {
    "duration": 5,
    "start_time": "2022-11-29T13:07:04.292Z"
   },
   {
    "duration": 12,
    "start_time": "2022-11-29T13:07:06.901Z"
   },
   {
    "duration": 12,
    "start_time": "2022-11-29T13:07:07.652Z"
   },
   {
    "duration": 4,
    "start_time": "2022-11-29T13:07:08.392Z"
   },
   {
    "duration": 158,
    "start_time": "2022-11-29T13:07:09.813Z"
   },
   {
    "duration": 20,
    "start_time": "2022-11-29T13:07:10.793Z"
   },
   {
    "duration": 9,
    "start_time": "2022-11-29T13:07:14.173Z"
   },
   {
    "duration": 4,
    "start_time": "2022-11-29T13:07:14.793Z"
   },
   {
    "duration": 9,
    "start_time": "2022-11-29T13:07:15.475Z"
   },
   {
    "duration": 379,
    "start_time": "2022-11-29T13:07:18.477Z"
   },
   {
    "duration": 14,
    "start_time": "2022-11-29T13:07:19.617Z"
   },
   {
    "duration": 198,
    "start_time": "2022-11-29T13:07:19.993Z"
   },
   {
    "duration": 196,
    "start_time": "2022-11-29T13:07:20.457Z"
   },
   {
    "duration": 129,
    "start_time": "2022-11-29T13:07:23.072Z"
   },
   {
    "duration": 137,
    "start_time": "2022-11-29T13:08:14.736Z"
   },
   {
    "duration": 160,
    "start_time": "2022-11-29T13:08:34.973Z"
   },
   {
    "duration": 148,
    "start_time": "2022-11-29T13:11:22.652Z"
   },
   {
    "duration": 150,
    "start_time": "2022-11-29T13:12:25.197Z"
   },
   {
    "duration": 6,
    "start_time": "2022-11-29T13:20:13.516Z"
   },
   {
    "duration": 7,
    "start_time": "2022-11-29T13:21:05.836Z"
   },
   {
    "duration": 5,
    "start_time": "2022-11-29T13:21:46.532Z"
   },
   {
    "duration": 5,
    "start_time": "2022-11-29T13:22:04.400Z"
   },
   {
    "duration": 146,
    "start_time": "2022-11-29T13:30:21.115Z"
   },
   {
    "duration": 140,
    "start_time": "2022-11-29T13:30:33.691Z"
   },
   {
    "duration": 1471,
    "start_time": "2022-11-29T13:30:48.831Z"
   },
   {
    "duration": 220,
    "start_time": "2022-11-29T13:30:56.451Z"
   },
   {
    "duration": 200,
    "start_time": "2022-11-29T13:31:32.711Z"
   },
   {
    "duration": 205,
    "start_time": "2022-11-29T13:31:42.552Z"
   },
   {
    "duration": 7,
    "start_time": "2022-11-29T13:49:33.504Z"
   },
   {
    "duration": 226,
    "start_time": "2022-11-29T13:56:04.188Z"
   },
   {
    "duration": 217,
    "start_time": "2022-11-29T13:56:45.665Z"
   },
   {
    "duration": 7,
    "start_time": "2022-11-29T13:58:17.896Z"
   },
   {
    "duration": 6,
    "start_time": "2022-11-29T13:58:39.857Z"
   },
   {
    "duration": 6,
    "start_time": "2022-11-29T13:59:17.974Z"
   },
   {
    "duration": 6,
    "start_time": "2022-11-29T13:59:34.475Z"
   },
   {
    "duration": 6,
    "start_time": "2022-11-29T14:02:30.536Z"
   },
   {
    "duration": 5,
    "start_time": "2022-11-29T14:02:31.115Z"
   },
   {
    "duration": 210,
    "start_time": "2022-11-29T14:02:32.599Z"
   },
   {
    "duration": 77,
    "start_time": "2022-11-29T14:33:32.441Z"
   },
   {
    "duration": 4,
    "start_time": "2022-11-29T14:34:12.201Z"
   },
   {
    "duration": 6,
    "start_time": "2022-11-29T14:34:12.207Z"
   },
   {
    "duration": 59,
    "start_time": "2022-11-29T14:34:12.214Z"
   },
   {
    "duration": 18,
    "start_time": "2022-11-29T14:34:12.276Z"
   },
   {
    "duration": 20,
    "start_time": "2022-11-29T14:34:12.296Z"
   },
   {
    "duration": 45,
    "start_time": "2022-11-29T14:34:12.317Z"
   },
   {
    "duration": 17,
    "start_time": "2022-11-29T14:34:12.364Z"
   },
   {
    "duration": 8,
    "start_time": "2022-11-29T14:34:12.384Z"
   },
   {
    "duration": 16,
    "start_time": "2022-11-29T14:34:12.394Z"
   },
   {
    "duration": 10,
    "start_time": "2022-11-29T14:34:12.412Z"
   },
   {
    "duration": 31,
    "start_time": "2022-11-29T14:34:12.424Z"
   },
   {
    "duration": 15,
    "start_time": "2022-11-29T14:34:12.457Z"
   },
   {
    "duration": 11,
    "start_time": "2022-11-29T14:34:12.474Z"
   },
   {
    "duration": 14,
    "start_time": "2022-11-29T14:34:12.487Z"
   },
   {
    "duration": 13,
    "start_time": "2022-11-29T14:34:12.503Z"
   },
   {
    "duration": 9,
    "start_time": "2022-11-29T14:34:12.517Z"
   },
   {
    "duration": 25,
    "start_time": "2022-11-29T14:34:12.528Z"
   },
   {
    "duration": 7,
    "start_time": "2022-11-29T14:34:12.554Z"
   },
   {
    "duration": 12,
    "start_time": "2022-11-29T14:34:12.563Z"
   },
   {
    "duration": 10,
    "start_time": "2022-11-29T14:34:12.579Z"
   },
   {
    "duration": 12,
    "start_time": "2022-11-29T14:34:12.590Z"
   },
   {
    "duration": 8,
    "start_time": "2022-11-29T14:34:12.603Z"
   },
   {
    "duration": 12,
    "start_time": "2022-11-29T14:34:12.613Z"
   },
   {
    "duration": 31,
    "start_time": "2022-11-29T14:34:12.627Z"
   },
   {
    "duration": 16,
    "start_time": "2022-11-29T14:34:12.660Z"
   },
   {
    "duration": 5,
    "start_time": "2022-11-29T14:34:12.678Z"
   },
   {
    "duration": 8,
    "start_time": "2022-11-29T14:34:12.684Z"
   },
   {
    "duration": 6,
    "start_time": "2022-11-29T14:34:12.694Z"
   },
   {
    "duration": 7,
    "start_time": "2022-11-29T14:34:12.702Z"
   },
   {
    "duration": 44,
    "start_time": "2022-11-29T14:34:12.710Z"
   },
   {
    "duration": 9,
    "start_time": "2022-11-29T14:34:12.756Z"
   },
   {
    "duration": 361,
    "start_time": "2022-11-29T14:34:12.767Z"
   },
   {
    "duration": 10,
    "start_time": "2022-11-29T14:34:13.129Z"
   },
   {
    "duration": 1174,
    "start_time": "2022-11-29T14:34:13.155Z"
   },
   {
    "duration": 5,
    "start_time": "2022-11-29T14:34:14.331Z"
   },
   {
    "duration": 26,
    "start_time": "2022-11-29T14:34:14.337Z"
   },
   {
    "duration": 13,
    "start_time": "2022-11-29T14:34:14.365Z"
   },
   {
    "duration": 8,
    "start_time": "2022-11-29T14:34:14.380Z"
   },
   {
    "duration": 172,
    "start_time": "2022-11-29T14:34:14.390Z"
   },
   {
    "duration": 14,
    "start_time": "2022-11-29T14:34:14.564Z"
   },
   {
    "duration": 8,
    "start_time": "2022-11-29T14:34:14.580Z"
   },
   {
    "duration": 5,
    "start_time": "2022-11-29T14:34:14.589Z"
   },
   {
    "duration": 12,
    "start_time": "2022-11-29T14:34:14.595Z"
   },
   {
    "duration": 343,
    "start_time": "2022-11-29T14:34:14.609Z"
   },
   {
    "duration": 14,
    "start_time": "2022-11-29T14:34:14.954Z"
   },
   {
    "duration": 221,
    "start_time": "2022-11-29T14:34:14.969Z"
   },
   {
    "duration": 219,
    "start_time": "2022-11-29T14:34:15.192Z"
   },
   {
    "duration": 196,
    "start_time": "2022-11-29T14:34:24.596Z"
   },
   {
    "duration": 5,
    "start_time": "2022-11-29T14:34:26.193Z"
   },
   {
    "duration": 99,
    "start_time": "2022-11-29T14:34:29.541Z"
   },
   {
    "duration": 12,
    "start_time": "2022-11-29T14:35:08.033Z"
   },
   {
    "duration": 23,
    "start_time": "2022-11-29T14:39:18.701Z"
   },
   {
    "duration": 3,
    "start_time": "2022-11-29T14:40:38.938Z"
   },
   {
    "duration": 18,
    "start_time": "2022-11-29T14:40:38.943Z"
   },
   {
    "duration": 58,
    "start_time": "2022-11-29T14:40:38.964Z"
   },
   {
    "duration": 15,
    "start_time": "2022-11-29T14:40:39.023Z"
   },
   {
    "duration": 17,
    "start_time": "2022-11-29T14:40:39.040Z"
   },
   {
    "duration": 10,
    "start_time": "2022-11-29T14:40:39.060Z"
   },
   {
    "duration": 20,
    "start_time": "2022-11-29T14:40:39.072Z"
   },
   {
    "duration": 3,
    "start_time": "2022-11-29T14:40:39.094Z"
   },
   {
    "duration": 17,
    "start_time": "2022-11-29T14:40:39.099Z"
   },
   {
    "duration": 7,
    "start_time": "2022-11-29T14:40:39.118Z"
   },
   {
    "duration": 41,
    "start_time": "2022-11-29T14:40:39.127Z"
   },
   {
    "duration": 30,
    "start_time": "2022-11-29T14:40:39.170Z"
   },
   {
    "duration": 4,
    "start_time": "2022-11-29T14:40:39.202Z"
   },
   {
    "duration": 19,
    "start_time": "2022-11-29T14:40:39.210Z"
   },
   {
    "duration": 14,
    "start_time": "2022-11-29T14:40:39.231Z"
   },
   {
    "duration": 6,
    "start_time": "2022-11-29T14:40:39.247Z"
   },
   {
    "duration": 11,
    "start_time": "2022-11-29T14:40:39.255Z"
   },
   {
    "duration": 8,
    "start_time": "2022-11-29T14:40:39.268Z"
   },
   {
    "duration": 12,
    "start_time": "2022-11-29T14:40:39.278Z"
   },
   {
    "duration": 12,
    "start_time": "2022-11-29T14:40:39.291Z"
   },
   {
    "duration": 9,
    "start_time": "2022-11-29T14:40:39.307Z"
   },
   {
    "duration": 12,
    "start_time": "2022-11-29T14:40:39.318Z"
   },
   {
    "duration": 23,
    "start_time": "2022-11-29T14:40:39.332Z"
   },
   {
    "duration": 10,
    "start_time": "2022-11-29T14:40:39.356Z"
   },
   {
    "duration": 17,
    "start_time": "2022-11-29T14:40:39.367Z"
   },
   {
    "duration": 5,
    "start_time": "2022-11-29T14:40:39.386Z"
   },
   {
    "duration": 8,
    "start_time": "2022-11-29T14:40:39.393Z"
   },
   {
    "duration": 6,
    "start_time": "2022-11-29T14:40:39.403Z"
   },
   {
    "duration": 16,
    "start_time": "2022-11-29T14:40:39.411Z"
   },
   {
    "duration": 37,
    "start_time": "2022-11-29T14:40:39.430Z"
   },
   {
    "duration": 9,
    "start_time": "2022-11-29T14:40:39.468Z"
   },
   {
    "duration": 445,
    "start_time": "2022-11-29T14:40:39.478Z"
   },
   {
    "duration": 11,
    "start_time": "2022-11-29T14:40:39.925Z"
   },
   {
    "duration": 1229,
    "start_time": "2022-11-29T14:40:39.937Z"
   },
   {
    "duration": 5,
    "start_time": "2022-11-29T14:40:41.167Z"
   },
   {
    "duration": 16,
    "start_time": "2022-11-29T14:40:41.174Z"
   },
   {
    "duration": 13,
    "start_time": "2022-11-29T14:40:41.192Z"
   },
   {
    "duration": 4,
    "start_time": "2022-11-29T14:40:41.207Z"
   },
   {
    "duration": 183,
    "start_time": "2022-11-29T14:40:41.213Z"
   },
   {
    "duration": 18,
    "start_time": "2022-11-29T14:40:41.398Z"
   },
   {
    "duration": 9,
    "start_time": "2022-11-29T14:40:41.420Z"
   },
   {
    "duration": 5,
    "start_time": "2022-11-29T14:40:41.450Z"
   },
   {
    "duration": 13,
    "start_time": "2022-11-29T14:40:41.457Z"
   },
   {
    "duration": 309,
    "start_time": "2022-11-29T14:40:41.471Z"
   },
   {
    "duration": 16,
    "start_time": "2022-11-29T14:40:41.782Z"
   },
   {
    "duration": 218,
    "start_time": "2022-11-29T14:40:41.800Z"
   },
   {
    "duration": 217,
    "start_time": "2022-11-29T14:40:42.020Z"
   },
   {
    "duration": 214,
    "start_time": "2022-11-29T14:40:42.239Z"
   },
   {
    "duration": 6,
    "start_time": "2022-11-29T14:40:42.454Z"
   },
   {
    "duration": 6,
    "start_time": "2022-11-29T14:40:50.422Z"
   },
   {
    "duration": 7,
    "start_time": "2022-11-29T14:40:51.360Z"
   },
   {
    "duration": 2,
    "start_time": "2022-11-29T14:45:30.881Z"
   },
   {
    "duration": 188,
    "start_time": "2022-11-29T14:45:33.421Z"
   },
   {
    "duration": 191,
    "start_time": "2022-11-29T14:45:50.070Z"
   },
   {
    "duration": 5,
    "start_time": "2022-11-29T14:47:32.764Z"
   },
   {
    "duration": 220,
    "start_time": "2022-11-29T14:55:47.041Z"
   },
   {
    "duration": 12,
    "start_time": "2022-11-29T14:59:00.360Z"
   },
   {
    "duration": 503,
    "start_time": "2022-11-29T14:59:01.941Z"
   },
   {
    "duration": 400,
    "start_time": "2022-11-29T14:59:15.601Z"
   },
   {
    "duration": 376,
    "start_time": "2022-11-29T14:59:26.941Z"
   },
   {
    "duration": 74,
    "start_time": "2022-11-29T15:08:36.037Z"
   },
   {
    "duration": 73,
    "start_time": "2022-11-29T15:10:47.557Z"
   },
   {
    "duration": 81,
    "start_time": "2022-11-29T15:11:35.969Z"
   },
   {
    "duration": 1266,
    "start_time": "2022-11-29T18:29:59.288Z"
   },
   {
    "duration": 3,
    "start_time": "2022-11-29T18:30:00.556Z"
   },
   {
    "duration": 106,
    "start_time": "2022-11-29T18:30:00.563Z"
   },
   {
    "duration": 16,
    "start_time": "2022-11-29T18:30:00.670Z"
   },
   {
    "duration": 37,
    "start_time": "2022-11-29T18:30:00.687Z"
   },
   {
    "duration": 29,
    "start_time": "2022-11-29T18:30:00.726Z"
   },
   {
    "duration": 31,
    "start_time": "2022-11-29T18:30:00.756Z"
   },
   {
    "duration": 19,
    "start_time": "2022-11-29T18:30:00.789Z"
   },
   {
    "duration": 55,
    "start_time": "2022-11-29T18:30:00.811Z"
   },
   {
    "duration": 29,
    "start_time": "2022-11-29T18:30:00.868Z"
   },
   {
    "duration": 34,
    "start_time": "2022-11-29T18:30:00.899Z"
   },
   {
    "duration": 34,
    "start_time": "2022-11-29T18:30:00.934Z"
   },
   {
    "duration": 23,
    "start_time": "2022-11-29T18:30:00.969Z"
   },
   {
    "duration": 18,
    "start_time": "2022-11-29T18:30:00.993Z"
   },
   {
    "duration": 19,
    "start_time": "2022-11-29T18:30:01.012Z"
   },
   {
    "duration": 22,
    "start_time": "2022-11-29T18:30:01.033Z"
   },
   {
    "duration": 32,
    "start_time": "2022-11-29T18:30:01.057Z"
   },
   {
    "duration": 47,
    "start_time": "2022-11-29T18:30:01.090Z"
   },
   {
    "duration": 35,
    "start_time": "2022-11-29T18:30:01.139Z"
   },
   {
    "duration": 43,
    "start_time": "2022-11-29T18:30:01.176Z"
   },
   {
    "duration": 16,
    "start_time": "2022-11-29T18:30:01.221Z"
   },
   {
    "duration": 16,
    "start_time": "2022-11-29T18:30:01.238Z"
   },
   {
    "duration": 17,
    "start_time": "2022-11-29T18:30:01.255Z"
   },
   {
    "duration": 35,
    "start_time": "2022-11-29T18:30:01.274Z"
   },
   {
    "duration": 36,
    "start_time": "2022-11-29T18:30:01.310Z"
   },
   {
    "duration": 10,
    "start_time": "2022-11-29T18:30:01.348Z"
   },
   {
    "duration": 33,
    "start_time": "2022-11-29T18:30:01.362Z"
   },
   {
    "duration": 22,
    "start_time": "2022-11-29T18:30:01.397Z"
   },
   {
    "duration": 27,
    "start_time": "2022-11-29T18:30:01.421Z"
   },
   {
    "duration": 23,
    "start_time": "2022-11-29T18:30:01.449Z"
   },
   {
    "duration": 17,
    "start_time": "2022-11-29T18:30:01.474Z"
   },
   {
    "duration": 325,
    "start_time": "2022-11-29T18:30:01.492Z"
   },
   {
    "duration": 9,
    "start_time": "2022-11-29T18:30:01.818Z"
   },
   {
    "duration": 1024,
    "start_time": "2022-11-29T18:30:01.828Z"
   },
   {
    "duration": 5,
    "start_time": "2022-11-29T18:30:02.854Z"
   },
   {
    "duration": 19,
    "start_time": "2022-11-29T18:30:02.860Z"
   },
   {
    "duration": 17,
    "start_time": "2022-11-29T18:30:02.881Z"
   },
   {
    "duration": 4,
    "start_time": "2022-11-29T18:30:02.901Z"
   },
   {
    "duration": 139,
    "start_time": "2022-11-29T18:30:02.916Z"
   },
   {
    "duration": 13,
    "start_time": "2022-11-29T18:30:03.057Z"
   },
   {
    "duration": 29,
    "start_time": "2022-11-29T18:30:03.071Z"
   },
   {
    "duration": 27,
    "start_time": "2022-11-29T18:30:03.102Z"
   },
   {
    "duration": 65,
    "start_time": "2022-11-29T18:30:03.130Z"
   },
   {
    "duration": 340,
    "start_time": "2022-11-29T18:30:03.196Z"
   },
   {
    "duration": 10,
    "start_time": "2022-11-29T18:30:03.537Z"
   },
   {
    "duration": 186,
    "start_time": "2022-11-29T18:30:03.549Z"
   },
   {
    "duration": 186,
    "start_time": "2022-11-29T18:30:03.736Z"
   },
   {
    "duration": 184,
    "start_time": "2022-11-29T18:30:03.924Z"
   },
   {
    "duration": 11,
    "start_time": "2022-11-29T18:30:04.109Z"
   },
   {
    "duration": 43,
    "start_time": "2022-11-29T18:30:04.121Z"
   },
   {
    "duration": 29,
    "start_time": "2022-11-29T18:30:04.165Z"
   },
   {
    "duration": 213,
    "start_time": "2022-11-29T18:30:04.195Z"
   },
   {
    "duration": 11,
    "start_time": "2022-11-29T18:30:04.410Z"
   },
   {
    "duration": 17,
    "start_time": "2022-11-29T18:30:04.423Z"
   },
   {
    "duration": 14,
    "start_time": "2022-11-29T18:30:04.442Z"
   },
   {
    "duration": 264,
    "start_time": "2022-11-29T18:30:04.458Z"
   },
   {
    "duration": 214,
    "start_time": "2022-11-29T18:30:04.723Z"
   },
   {
    "duration": 10,
    "start_time": "2022-11-29T18:30:04.939Z"
   },
   {
    "duration": 357,
    "start_time": "2022-11-29T18:30:04.951Z"
   },
   {
    "duration": 356,
    "start_time": "2022-11-29T18:30:05.309Z"
   },
   {
    "duration": 402,
    "start_time": "2022-11-29T18:30:05.667Z"
   },
   {
    "duration": 5,
    "start_time": "2022-11-29T18:30:06.071Z"
   },
   {
    "duration": 27,
    "start_time": "2022-11-29T18:30:06.077Z"
   },
   {
    "duration": 32,
    "start_time": "2022-11-29T18:30:06.105Z"
   },
   {
    "duration": 25,
    "start_time": "2022-11-29T18:30:06.139Z"
   },
   {
    "duration": 48,
    "start_time": "2022-11-29T18:30:06.166Z"
   },
   {
    "duration": 35,
    "start_time": "2022-11-29T18:30:06.215Z"
   },
   {
    "duration": 25,
    "start_time": "2022-11-29T18:30:06.252Z"
   },
   {
    "duration": 93,
    "start_time": "2022-11-29T18:32:42.912Z"
   },
   {
    "duration": 80,
    "start_time": "2022-11-29T19:17:38.552Z"
   },
   {
    "duration": 3,
    "start_time": "2022-11-29T19:34:28.057Z"
   },
   {
    "duration": 3,
    "start_time": "2022-11-29T19:34:28.541Z"
   },
   {
    "duration": 49,
    "start_time": "2022-11-29T19:34:28.997Z"
   },
   {
    "duration": 14,
    "start_time": "2022-11-29T19:34:29.513Z"
   },
   {
    "duration": 17,
    "start_time": "2022-11-29T19:34:29.869Z"
   },
   {
    "duration": 11,
    "start_time": "2022-11-29T19:34:30.261Z"
   },
   {
    "duration": 16,
    "start_time": "2022-11-29T19:34:30.551Z"
   },
   {
    "duration": 3,
    "start_time": "2022-11-29T19:34:33.094Z"
   },
   {
    "duration": 14,
    "start_time": "2022-11-29T19:34:33.847Z"
   },
   {
    "duration": 5,
    "start_time": "2022-11-29T19:34:34.154Z"
   },
   {
    "duration": 12,
    "start_time": "2022-11-29T19:34:34.807Z"
   },
   {
    "duration": 14,
    "start_time": "2022-11-29T19:34:35.162Z"
   },
   {
    "duration": 4,
    "start_time": "2022-11-29T19:34:35.852Z"
   },
   {
    "duration": 7,
    "start_time": "2022-11-29T19:34:36.890Z"
   },
   {
    "duration": 10,
    "start_time": "2022-11-29T19:34:37.738Z"
   },
   {
    "duration": 9,
    "start_time": "2022-11-29T19:34:38.095Z"
   },
   {
    "duration": 8,
    "start_time": "2022-11-29T19:34:38.864Z"
   },
   {
    "duration": 6,
    "start_time": "2022-11-29T19:34:39.419Z"
   },
   {
    "duration": 5,
    "start_time": "2022-11-29T19:34:40.297Z"
   },
   {
    "duration": 9,
    "start_time": "2022-11-29T19:34:41.079Z"
   },
   {
    "duration": 5,
    "start_time": "2022-11-29T19:34:41.500Z"
   },
   {
    "duration": 6,
    "start_time": "2022-11-29T19:34:41.872Z"
   },
   {
    "duration": 5,
    "start_time": "2022-11-29T19:34:42.651Z"
   },
   {
    "duration": 7,
    "start_time": "2022-11-29T19:34:43.672Z"
   },
   {
    "duration": 22,
    "start_time": "2022-11-29T19:34:44.854Z"
   },
   {
    "duration": 6,
    "start_time": "2022-11-29T19:34:45.587Z"
   },
   {
    "duration": 6,
    "start_time": "2022-11-29T19:34:45.971Z"
   },
   {
    "duration": 6,
    "start_time": "2022-11-29T19:34:47.520Z"
   },
   {
    "duration": 5,
    "start_time": "2022-11-29T19:34:51.004Z"
   },
   {
    "duration": 14,
    "start_time": "2022-11-29T19:34:51.980Z"
   },
   {
    "duration": 10,
    "start_time": "2022-11-29T19:34:54.302Z"
   },
   {
    "duration": 431,
    "start_time": "2022-11-29T19:34:55.049Z"
   },
   {
    "duration": 10,
    "start_time": "2022-11-29T19:34:56.490Z"
   },
   {
    "duration": 1125,
    "start_time": "2022-11-29T19:34:57.314Z"
   },
   {
    "duration": 5,
    "start_time": "2022-11-29T19:34:58.912Z"
   },
   {
    "duration": 13,
    "start_time": "2022-11-29T19:34:59.456Z"
   },
   {
    "duration": 16,
    "start_time": "2022-11-29T19:34:59.735Z"
   },
   {
    "duration": 6,
    "start_time": "2022-11-29T19:35:00.032Z"
   },
   {
    "duration": 272,
    "start_time": "2022-11-29T19:35:00.745Z"
   },
   {
    "duration": 17,
    "start_time": "2022-11-29T19:35:01.395Z"
   },
   {
    "duration": 9,
    "start_time": "2022-11-29T19:35:02.977Z"
   },
   {
    "duration": 5,
    "start_time": "2022-11-29T19:35:03.869Z"
   },
   {
    "duration": 10,
    "start_time": "2022-11-29T19:35:04.295Z"
   },
   {
    "duration": 286,
    "start_time": "2022-11-29T19:35:06.956Z"
   },
   {
    "duration": 12,
    "start_time": "2022-11-29T19:35:09.432Z"
   },
   {
    "duration": 213,
    "start_time": "2022-11-29T19:35:09.868Z"
   },
   {
    "duration": 232,
    "start_time": "2022-11-29T19:35:10.324Z"
   },
   {
    "duration": 193,
    "start_time": "2022-11-29T19:35:13.466Z"
   },
   {
    "duration": 7,
    "start_time": "2022-11-29T19:35:14.442Z"
   },
   {
    "duration": 9,
    "start_time": "2022-11-29T19:35:16.192Z"
   },
   {
    "duration": 2,
    "start_time": "2022-11-29T19:35:16.565Z"
   },
   {
    "duration": 214,
    "start_time": "2022-11-29T19:35:17.151Z"
   },
   {
    "duration": 6,
    "start_time": "2022-11-29T19:35:17.620Z"
   },
   {
    "duration": 7,
    "start_time": "2022-11-29T19:35:18.566Z"
   },
   {
    "duration": 3,
    "start_time": "2022-11-29T19:35:20.369Z"
   },
   {
    "duration": 217,
    "start_time": "2022-11-29T19:35:23.395Z"
   },
   {
    "duration": 1628,
    "start_time": "2022-11-29T19:35:38.346Z"
   },
   {
    "duration": 1750,
    "start_time": "2022-11-29T19:38:07.270Z"
   },
   {
    "duration": 1681,
    "start_time": "2022-11-29T19:40:10.070Z"
   },
   {
    "duration": 1537,
    "start_time": "2022-11-29T19:41:19.436Z"
   },
   {
    "duration": 1201,
    "start_time": "2022-11-29T19:43:55.161Z"
   },
   {
    "duration": 10,
    "start_time": "2022-11-29T19:48:00.032Z"
   },
   {
    "duration": 4,
    "start_time": "2022-11-29T19:48:10.221Z"
   },
   {
    "duration": 9,
    "start_time": "2022-11-29T19:48:17.896Z"
   },
   {
    "duration": 10,
    "start_time": "2022-11-29T19:48:47.368Z"
   },
   {
    "duration": 1227,
    "start_time": "2022-11-29T19:51:44.946Z"
   },
   {
    "duration": 1259,
    "start_time": "2022-11-29T19:52:10.136Z"
   },
   {
    "duration": 4,
    "start_time": "2022-11-29T19:52:11.397Z"
   },
   {
    "duration": 58,
    "start_time": "2022-11-29T19:52:11.403Z"
   },
   {
    "duration": 18,
    "start_time": "2022-11-29T19:52:11.462Z"
   },
   {
    "duration": 16,
    "start_time": "2022-11-29T19:52:11.482Z"
   },
   {
    "duration": 11,
    "start_time": "2022-11-29T19:52:11.499Z"
   },
   {
    "duration": 39,
    "start_time": "2022-11-29T19:52:11.512Z"
   },
   {
    "duration": 4,
    "start_time": "2022-11-29T19:52:11.553Z"
   },
   {
    "duration": 19,
    "start_time": "2022-11-29T19:52:11.559Z"
   },
   {
    "duration": 19,
    "start_time": "2022-11-29T19:52:11.580Z"
   },
   {
    "duration": 12,
    "start_time": "2022-11-29T19:52:11.601Z"
   },
   {
    "duration": 14,
    "start_time": "2022-11-29T19:52:11.615Z"
   },
   {
    "duration": 19,
    "start_time": "2022-11-29T19:52:11.631Z"
   },
   {
    "duration": 7,
    "start_time": "2022-11-29T19:52:11.654Z"
   },
   {
    "duration": 11,
    "start_time": "2022-11-29T19:52:11.663Z"
   },
   {
    "duration": 8,
    "start_time": "2022-11-29T19:52:11.676Z"
   },
   {
    "duration": 7,
    "start_time": "2022-11-29T19:52:11.686Z"
   },
   {
    "duration": 6,
    "start_time": "2022-11-29T19:52:11.695Z"
   },
   {
    "duration": 7,
    "start_time": "2022-11-29T19:52:11.702Z"
   },
   {
    "duration": 47,
    "start_time": "2022-11-29T19:52:11.710Z"
   },
   {
    "duration": 7,
    "start_time": "2022-11-29T19:52:11.759Z"
   },
   {
    "duration": 5,
    "start_time": "2022-11-29T19:52:11.768Z"
   },
   {
    "duration": 6,
    "start_time": "2022-11-29T19:52:11.775Z"
   },
   {
    "duration": 9,
    "start_time": "2022-11-29T19:52:11.783Z"
   },
   {
    "duration": 17,
    "start_time": "2022-11-29T19:52:11.794Z"
   },
   {
    "duration": 6,
    "start_time": "2022-11-29T19:52:11.812Z"
   },
   {
    "duration": 6,
    "start_time": "2022-11-29T19:52:11.851Z"
   },
   {
    "duration": 6,
    "start_time": "2022-11-29T19:52:11.859Z"
   },
   {
    "duration": 6,
    "start_time": "2022-11-29T19:52:11.867Z"
   },
   {
    "duration": 15,
    "start_time": "2022-11-29T19:52:11.875Z"
   },
   {
    "duration": 8,
    "start_time": "2022-11-29T19:52:11.891Z"
   },
   {
    "duration": 405,
    "start_time": "2022-11-29T19:52:11.901Z"
   },
   {
    "duration": 10,
    "start_time": "2022-11-29T19:52:12.308Z"
   },
   {
    "duration": 1131,
    "start_time": "2022-11-29T19:52:12.319Z"
   },
   {
    "duration": 5,
    "start_time": "2022-11-29T19:52:13.452Z"
   },
   {
    "duration": 16,
    "start_time": "2022-11-29T19:52:13.459Z"
   },
   {
    "duration": 14,
    "start_time": "2022-11-29T19:52:13.477Z"
   },
   {
    "duration": 7,
    "start_time": "2022-11-29T19:52:13.493Z"
   },
   {
    "duration": 187,
    "start_time": "2022-11-29T19:52:13.502Z"
   },
   {
    "duration": 17,
    "start_time": "2022-11-29T19:52:13.691Z"
   },
   {
    "duration": 9,
    "start_time": "2022-11-29T19:52:13.712Z"
   },
   {
    "duration": 5,
    "start_time": "2022-11-29T19:52:13.723Z"
   },
   {
    "duration": 9,
    "start_time": "2022-11-29T19:52:13.752Z"
   },
   {
    "duration": 396,
    "start_time": "2022-11-29T19:52:13.763Z"
   },
   {
    "duration": 16,
    "start_time": "2022-11-29T19:52:14.161Z"
   },
   {
    "duration": 223,
    "start_time": "2022-11-29T19:52:14.179Z"
   },
   {
    "duration": 210,
    "start_time": "2022-11-29T19:52:14.403Z"
   },
   {
    "duration": 212,
    "start_time": "2022-11-29T19:52:14.615Z"
   },
   {
    "duration": 5,
    "start_time": "2022-11-29T19:52:14.829Z"
   },
   {
    "duration": 20,
    "start_time": "2022-11-29T19:52:14.836Z"
   },
   {
    "duration": 4,
    "start_time": "2022-11-29T19:52:14.857Z"
   },
   {
    "duration": 221,
    "start_time": "2022-11-29T19:52:14.863Z"
   },
   {
    "duration": 6,
    "start_time": "2022-11-29T19:52:15.086Z"
   },
   {
    "duration": 7,
    "start_time": "2022-11-29T19:52:15.094Z"
   },
   {
    "duration": 4,
    "start_time": "2022-11-29T19:52:15.103Z"
   },
   {
    "duration": 1309,
    "start_time": "2022-11-29T19:52:15.109Z"
   },
   {
    "duration": 264,
    "start_time": "2022-11-29T19:52:16.419Z"
   },
   {
    "duration": 250,
    "start_time": "2022-11-29T19:52:16.685Z"
   },
   {
    "duration": 18,
    "start_time": "2022-11-29T19:52:16.937Z"
   },
   {
    "duration": 515,
    "start_time": "2022-11-29T19:52:16.957Z"
   },
   {
    "duration": 427,
    "start_time": "2022-11-29T19:52:17.474Z"
   },
   {
    "duration": 400,
    "start_time": "2022-11-29T19:52:17.903Z"
   },
   {
    "duration": 5,
    "start_time": "2022-11-29T19:52:18.304Z"
   },
   {
    "duration": 7,
    "start_time": "2022-11-29T19:52:18.311Z"
   },
   {
    "duration": 10,
    "start_time": "2022-11-29T19:52:18.320Z"
   },
   {
    "duration": 19,
    "start_time": "2022-11-29T19:52:18.332Z"
   },
   {
    "duration": 9,
    "start_time": "2022-11-29T19:52:18.352Z"
   },
   {
    "duration": 7,
    "start_time": "2022-11-29T19:52:18.362Z"
   },
   {
    "duration": 6,
    "start_time": "2022-11-29T19:52:18.370Z"
   },
   {
    "duration": 1238,
    "start_time": "2022-11-30T07:05:39.132Z"
   },
   {
    "duration": 3,
    "start_time": "2022-11-30T07:05:40.372Z"
   },
   {
    "duration": 177,
    "start_time": "2022-11-30T07:05:40.377Z"
   },
   {
    "duration": 17,
    "start_time": "2022-11-30T07:05:40.557Z"
   },
   {
    "duration": 18,
    "start_time": "2022-11-30T07:05:40.576Z"
   },
   {
    "duration": 8,
    "start_time": "2022-11-30T07:05:40.595Z"
   },
   {
    "duration": 20,
    "start_time": "2022-11-30T07:05:40.605Z"
   },
   {
    "duration": 3,
    "start_time": "2022-11-30T07:05:40.627Z"
   },
   {
    "duration": 17,
    "start_time": "2022-11-30T07:05:40.632Z"
   },
   {
    "duration": 4,
    "start_time": "2022-11-30T07:05:40.652Z"
   },
   {
    "duration": 13,
    "start_time": "2022-11-30T07:05:40.678Z"
   },
   {
    "duration": 17,
    "start_time": "2022-11-30T07:05:40.692Z"
   },
   {
    "duration": 4,
    "start_time": "2022-11-30T07:05:40.711Z"
   },
   {
    "duration": 17,
    "start_time": "2022-11-30T07:05:40.717Z"
   },
   {
    "duration": 11,
    "start_time": "2022-11-30T07:05:40.736Z"
   },
   {
    "duration": 30,
    "start_time": "2022-11-30T07:05:40.749Z"
   },
   {
    "duration": 5,
    "start_time": "2022-11-30T07:05:40.781Z"
   },
   {
    "duration": 10,
    "start_time": "2022-11-30T07:05:40.788Z"
   },
   {
    "duration": 5,
    "start_time": "2022-11-30T07:05:40.800Z"
   },
   {
    "duration": 11,
    "start_time": "2022-11-30T07:05:40.807Z"
   },
   {
    "duration": 5,
    "start_time": "2022-11-30T07:05:40.820Z"
   },
   {
    "duration": 7,
    "start_time": "2022-11-30T07:05:40.826Z"
   },
   {
    "duration": 6,
    "start_time": "2022-11-30T07:05:40.835Z"
   },
   {
    "duration": 42,
    "start_time": "2022-11-30T07:05:40.842Z"
   },
   {
    "duration": 17,
    "start_time": "2022-11-30T07:05:40.886Z"
   },
   {
    "duration": 4,
    "start_time": "2022-11-30T07:05:40.905Z"
   },
   {
    "duration": 11,
    "start_time": "2022-11-30T07:05:40.910Z"
   },
   {
    "duration": 5,
    "start_time": "2022-11-30T07:05:40.926Z"
   },
   {
    "duration": 9,
    "start_time": "2022-11-30T07:05:40.932Z"
   },
   {
    "duration": 41,
    "start_time": "2022-11-30T07:05:40.943Z"
   },
   {
    "duration": 8,
    "start_time": "2022-11-30T07:05:40.986Z"
   },
   {
    "duration": 351,
    "start_time": "2022-11-30T07:05:40.995Z"
   },
   {
    "duration": 9,
    "start_time": "2022-11-30T07:05:41.348Z"
   },
   {
    "duration": 1008,
    "start_time": "2022-11-30T07:05:41.359Z"
   },
   {
    "duration": 9,
    "start_time": "2022-11-30T07:05:42.369Z"
   },
   {
    "duration": 18,
    "start_time": "2022-11-30T07:05:42.380Z"
   },
   {
    "duration": 12,
    "start_time": "2022-11-30T07:05:42.400Z"
   },
   {
    "duration": 4,
    "start_time": "2022-11-30T07:05:42.413Z"
   },
   {
    "duration": 174,
    "start_time": "2022-11-30T07:05:42.419Z"
   },
   {
    "duration": 15,
    "start_time": "2022-11-30T07:05:42.595Z"
   },
   {
    "duration": 8,
    "start_time": "2022-11-30T07:05:42.612Z"
   },
   {
    "duration": 8,
    "start_time": "2022-11-30T07:05:42.621Z"
   },
   {
    "duration": 12,
    "start_time": "2022-11-30T07:05:42.630Z"
   },
   {
    "duration": 405,
    "start_time": "2022-11-30T07:05:42.644Z"
   },
   {
    "duration": 12,
    "start_time": "2022-11-30T07:05:43.051Z"
   },
   {
    "duration": 262,
    "start_time": "2022-11-30T07:05:43.065Z"
   },
   {
    "duration": 201,
    "start_time": "2022-11-30T07:05:43.329Z"
   },
   {
    "duration": 233,
    "start_time": "2022-11-30T07:05:43.531Z"
   },
   {
    "duration": 13,
    "start_time": "2022-11-30T07:05:43.765Z"
   },
   {
    "duration": 16,
    "start_time": "2022-11-30T07:05:43.780Z"
   },
   {
    "duration": 9,
    "start_time": "2022-11-30T07:05:43.798Z"
   },
   {
    "duration": 236,
    "start_time": "2022-11-30T07:05:43.809Z"
   },
   {
    "duration": 7,
    "start_time": "2022-11-30T07:05:44.047Z"
   },
   {
    "duration": 22,
    "start_time": "2022-11-30T07:05:44.056Z"
   },
   {
    "duration": 3,
    "start_time": "2022-11-30T07:05:44.084Z"
   },
   {
    "duration": 1143,
    "start_time": "2022-11-30T07:05:44.089Z"
   },
   {
    "duration": 238,
    "start_time": "2022-11-30T07:05:45.234Z"
   },
   {
    "duration": 240,
    "start_time": "2022-11-30T07:05:45.474Z"
   },
   {
    "duration": 18,
    "start_time": "2022-11-30T07:05:45.716Z"
   },
   {
    "duration": 532,
    "start_time": "2022-11-30T07:05:45.736Z"
   },
   {
    "duration": 386,
    "start_time": "2022-11-30T07:05:46.270Z"
   },
   {
    "duration": 359,
    "start_time": "2022-11-30T07:05:46.657Z"
   },
   {
    "duration": 4,
    "start_time": "2022-11-30T07:05:47.018Z"
   },
   {
    "duration": 70,
    "start_time": "2022-11-30T07:05:47.023Z"
   },
   {
    "duration": 66,
    "start_time": "2022-11-30T07:05:47.095Z"
   },
   {
    "duration": 64,
    "start_time": "2022-11-30T07:05:47.163Z"
   },
   {
    "duration": 60,
    "start_time": "2022-11-30T07:05:47.228Z"
   },
   {
    "duration": 26,
    "start_time": "2022-11-30T07:05:47.290Z"
   },
   {
    "duration": 40,
    "start_time": "2022-11-30T07:05:47.317Z"
   }
  ],
  "kernelspec": {
   "display_name": "Python 3 (ipykernel)",
   "language": "python",
   "name": "python3"
  },
  "language_info": {
   "codemirror_mode": {
    "name": "ipython",
    "version": 3
   },
   "file_extension": ".py",
   "mimetype": "text/x-python",
   "name": "python",
   "nbconvert_exporter": "python",
   "pygments_lexer": "ipython3",
   "version": "3.9.13"
  },
  "toc": {
   "base_numbering": 1,
   "nav_menu": {},
   "number_sections": true,
   "sideBar": true,
   "skip_h1_title": true,
   "title_cell": "Table of Contents",
   "title_sidebar": "Contents",
   "toc_cell": false,
   "toc_position": {},
   "toc_section_display": true,
   "toc_window_display": false
  }
 },
 "nbformat": 4,
 "nbformat_minor": 2
}
